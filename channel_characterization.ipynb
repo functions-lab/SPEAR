{
 "cells": [
  {
   "cell_type": "code",
   "execution_count": null,
   "id": "43e0f9e0",
   "metadata": {},
   "outputs": [],
   "source": [
    "%matplotlib notebook\n",
    "from rfsoc_rfdc.rfsoc_overlay import RFSoCOverlay\n",
    "from rfsoc_rfdc.overlay_task import OverlayTask\n",
    "from rfsoc_rfdc.overlay_task import BlinkLedTask\n",
    "\n",
    "from rfsoc_rfdc.transmitter.single_ch_transmitter_task import SingleChTransmitterTask\n",
    "from rfsoc_rfdc.receiver.single_ch_receiver_task import SingleChReceiverTask\n",
    "\n",
    "from rfsoc_rfdc.transmitter.multi_ch_transmitter_task import MultiChTransmitterTask\n",
    "from rfsoc_rfdc.receiver.multi_ch_receiver_task import MultiChReceiverTask\n",
    "\n",
    "from rfsoc_rfdc.rfdc_task import RfdcTask \n",
    "from rfsoc_rfdc.cmac_task import CmacTask\n",
    "\n",
    "from rfsoc_rfdc.rfdc_config import ZCU216_CONFIG\n",
    "import sys\n",
    "import os\n",
    "import time"
   ]
  },
  {
   "cell_type": "code",
   "execution_count": null,
   "id": "ea8f7b43",
   "metadata": {},
   "outputs": [],
   "source": [
    "ol = RFSoCOverlay(path_to_bitstream=\"./rfsoc_rfdc/bitstream/rfsoc_rfdc_v32_4G8x.bit\")\n",
    "\n",
    "NEW_CONFIG = {\n",
    "    \"RefClockForPLL\": 500.0,\n",
    "    \"DACSampleRate\": 4000.0,\n",
    "    \"DACInterpolationRate\": 8,\n",
    "    \"DACNCO\": 0,\n",
    "    \"ADCSampleRate\": 2000.0,\n",
    "    \"ADCInterpolationRate\": 20,\n",
    "    \"ADCNCO\": -0\n",
    "}\n",
    "ZCU216_CONFIG.update(NEW_CONFIG)"
   ]
  },
  {
   "cell_type": "code",
   "execution_count": null,
   "id": "437e1810",
   "metadata": {},
   "outputs": [],
   "source": [
    "from rfsoc_rfdc.rfdc import MyRFdc\n",
    "from rfsoc_rfdc.clocks import set_custom_lmclks\n",
    "\n",
    "print(f\"Configure LMK and LMX chips.\")\n",
    "set_custom_lmclks()\n",
    "\n",
    "print(f\"Initialize RF Data Converter\")\n",
    "my_rfdc = MyRFdc(ol, debug_mode=False)\n",
    "my_rfdc.init_setup()"
   ]
  },
  {
   "cell_type": "code",
   "execution_count": null,
   "id": "e581eb7e",
   "metadata": {},
   "outputs": [],
   "source": [
    "print(f\"Start transmitter\")\n",
    "\n",
    "led_t = BlinkLedTask(ol)\n",
    "led_t.start()\n",
    "\n",
    "for amp in range(13+1):\n",
    "    VAR = {\"DAC_SCALING_FACTOR\" : 2**(-amp)}\n",
    "    print(f\"Change DAC_SCALING_FACTOR to 2**-{amp}\")\n",
    "    ZCU216_CONFIG.update(VAR)\n",
    "\n",
    "    tx_t = SingleChTransmitterTask(ol, \"./wave_files/wifi_wave.mat\")\n",
    "\n",
    "    for tile in my_rfdc.dac_tiles:\n",
    "        my_rfdc.config_dac_blocks(tile)\n",
    "    \n",
    "    tx_t.start()\n",
    "    time.sleep(20)\n",
    "    tx_t.stop()\n",
    "    \n",
    "print(f\"End of tests\")\n",
    "led_t.stop()"
   ]
  },
  {
   "cell_type": "code",
   "execution_count": null,
   "id": "792db06a",
   "metadata": {},
   "outputs": [],
   "source": []
  }
 ],
 "metadata": {
  "kernelspec": {
   "display_name": "Python 3",
   "language": "python",
   "name": "python3"
  },
  "language_info": {
   "codemirror_mode": {
    "name": "ipython",
    "version": 3
   },
   "file_extension": ".py",
   "mimetype": "text/x-python",
   "name": "python",
   "nbconvert_exporter": "python",
   "pygments_lexer": "ipython3",
   "version": "3.8.2"
  }
 },
 "nbformat": 4,
 "nbformat_minor": 5
}
