{
 "cells": [
  {
   "cell_type": "code",
   "execution_count": null,
   "id": "43e0f9e0",
   "metadata": {},
   "outputs": [],
   "source": [
    "%matplotlib notebook\n",
    "from rfsoc_rfdc.rfsoc_overlay import RFSoCOverlay\n",
    "from rfsoc_rfdc.overlay_task import OverlayTask\n",
    "from rfsoc_rfdc.overlay_task import BlinkLedTask\n",
    "\n",
    "from rfsoc_rfdc.transmitter.single_ch_tx_task import SingleChTxTask\n",
    "from rfsoc_rfdc.receiver.single_ch_rx_task import SingleChRxTask\n",
    "\n",
    "from rfsoc_rfdc.transmitter.multi_ch_tx_task import MultiChTxTask\n",
    "from rfsoc_rfdc.receiver.multi_ch_rx_task import MultiChRxTask\n",
    "\n",
    "from rfsoc_rfdc.rfdc_task import RfdcTask \n",
    "from rfsoc_rfdc.cmac_task import CmacTask\n",
    "from rfsoc_rfdc.rfdc_config import ZCU216_CONFIG\n",
    "\n",
    "import sys\n",
    "import os\n",
    "import time"
   ]
  },
  {
   "cell_type": "code",
   "execution_count": null,
   "id": "caed7e9b",
   "metadata": {},
   "outputs": [],
   "source": [
    "# RFSoC experiment configuration\n",
    "# +----------------------------------------------------------------------------------------+\n",
    "# | Feature: Single Channel 1.25 GHz BW Tx/Rx Experiment                                   |\n",
    "# +-----------------+--------------------+----------------+-----------+-------+------------+\n",
    "# | DAC Sample Rate | Interpolation Rate | IQ Sample Rate | Bandwidth | NCO   | Ref. Clock |\n",
    "# | 2.5 GSPS        | 2x                 | 1.25 GSPS      | 1.25G     | 625M  | 500M (PLL) |\n",
    "# +-----------------+--------------------+----------------+-----------+-------+------------+\n",
    "# | ADC Sample Rate | Decimation Rate    | IQ Sample Rate | Bandwidth | NCO   | Ref. Clock |\n",
    "# | 2.5 GSPS        | 2x                 | 1.25 GSPS      | 1.25G     | -625M | 500M (PLL) |\n",
    "# +-----------------+--------------------+----------------+-----------+-------+------------+"
   ]
  },
  {
   "cell_type": "code",
   "execution_count": null,
   "id": "f546283e",
   "metadata": {},
   "outputs": [],
   "source": [
    "ol = RFSoCOverlay(path_to_bitstream=\"./rfsoc_rfdc/bitstream/rfsoc_rfdc_v39.bit\")\n",
    "NEW_CONFIG = {\n",
    "    \"RefClockForPLL\": 500.0,\n",
    "    \"DACSampleRate\": 2500.0,\n",
    "    \"DACInterpolationRate\": 2,\n",
    "    \"DACNCO\": 625.0,\n",
    "    \"ADCSampleRate\": 2500.0,\n",
    "    \"ADCInterpolationRate\": 2,\n",
    "    \"ADCNCO\": -625.0,\n",
    "    \"CONFIG_NAME\": \"rfsoc_rfdc_v39\"\n",
    "}\n",
    "ZCU216_CONFIG.update(NEW_CONFIG)"
   ]
  },
  {
   "cell_type": "code",
   "execution_count": null,
   "id": "60a704a2",
   "metadata": {
    "scrolled": true
   },
   "outputs": [],
   "source": [
    "rfdc_t = RfdcTask(ol)\n",
    "led_t = BlinkLedTask(ol)\n",
    "tx_t = SingleChTxTask(ol)\n",
    "rx_t = SingleChRxTask(ol)\n",
    "\n",
    "for task in [rfdc_t]:\n",
    "    task.start()\n",
    "    task.join()\n",
    "\n",
    "parallel_task = [led_t, tx_t, rx_t]\n",
    "for task in parallel_task:\n",
    "    task.start()\n",
    "\n",
    "time.sleep(5)\n",
    "\n",
    "for task in parallel_task:\n",
    "    task.stop()"
   ]
  }
 ],
 "metadata": {
  "kernelspec": {
   "display_name": "Python 3",
   "language": "python",
   "name": "python3"
  },
  "language_info": {
   "codemirror_mode": {
    "name": "ipython",
    "version": 3
   },
   "file_extension": ".py",
   "mimetype": "text/x-python",
   "name": "python",
   "nbconvert_exporter": "python",
   "pygments_lexer": "ipython3",
   "version": "3.8.2"
  }
 },
 "nbformat": 4,
 "nbformat_minor": 5
}
