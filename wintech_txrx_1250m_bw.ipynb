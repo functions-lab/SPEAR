{
 "cells": [
  {
   "cell_type": "code",
   "execution_count": 1,
   "id": "43e0f9e0",
   "metadata": {},
   "outputs": [
    {
     "data": {
      "application/javascript": [
       "\n",
       "try {\n",
       "require(['notebook/js/codecell'], function(codecell) {\n",
       "  codecell.CodeCell.options_default.highlight_modes[\n",
       "      'magic_text/x-csrc'] = {'reg':[/^%%microblaze/]};\n",
       "  Jupyter.notebook.events.one('kernel_ready.Kernel', function(){\n",
       "      Jupyter.notebook.get_cells().map(function(cell){\n",
       "          if (cell.cell_type == 'code'){ cell.auto_highlight(); } }) ;\n",
       "  });\n",
       "});\n",
       "} catch (e) {};\n"
      ]
     },
     "metadata": {},
     "output_type": "display_data"
    },
    {
     "data": {
      "application/javascript": [
       "\n",
       "try {\n",
       "require(['notebook/js/codecell'], function(codecell) {\n",
       "  codecell.CodeCell.options_default.highlight_modes[\n",
       "      'magic_text/x-csrc'] = {'reg':[/^%%pybind11/]};\n",
       "  Jupyter.notebook.events.one('kernel_ready.Kernel', function(){\n",
       "      Jupyter.notebook.get_cells().map(function(cell){\n",
       "          if (cell.cell_type == 'code'){ cell.auto_highlight(); } }) ;\n",
       "  });\n",
       "});\n",
       "} catch (e) {};\n"
      ]
     },
     "metadata": {},
     "output_type": "display_data"
    }
   ],
   "source": [
    "%matplotlib notebook\n",
    "from rfsoc_rfdc.rfsoc_overlay import RFSoCOverlay\n",
    "from rfsoc_rfdc.overlay_task import OverlayTask\n",
    "from rfsoc_rfdc.overlay_task import BlinkLedTask\n",
    "\n",
    "from rfsoc_rfdc.transmitter.single_ch_tx_task import SingleChTxTask\n",
    "from rfsoc_rfdc.receiver.single_ch_rx_task import SingleChRxTask\n",
    "\n",
    "from rfsoc_rfdc.transmitter.multi_ch_tx_task import MultiChTxTask\n",
    "from rfsoc_rfdc.receiver.multi_ch_rx_task import MultiChRxTask\n",
    "\n",
    "from rfsoc_rfdc.rfdc_task import RfdcTask \n",
    "from rfsoc_rfdc.cmac_task import CmacTask\n",
    "from rfsoc_rfdc.rfdc_config import ZCU216_CONFIG\n",
    "\n",
    "import sys\n",
    "import os\n",
    "import time"
   ]
  },
  {
   "cell_type": "code",
   "execution_count": 2,
   "id": "caed7e9b",
   "metadata": {},
   "outputs": [],
   "source": [
    "# RFSoC experiment configuration\n",
    "# +----------------------------------------------------------------------------------------+\n",
    "# | Feature: Single Channel 1.25 GHz BW Tx/Rx Experiment                                   |\n",
    "# +-----------------+--------------------+----------------+-----------+-------+------------+\n",
    "# | DAC Sample Rate | Interpolation Rate | IQ Sample Rate | Bandwidth | NCO   | Ref. Clock |\n",
    "# | 2.5 GSPS        | 2x                 | 1.25 GSPS      | 1.25G     | 625M  | 500M (PLL) |\n",
    "# +-----------------+--------------------+----------------+-----------+-------+------------+\n",
    "# | ADC Sample Rate | Decimation Rate    | IQ Sample Rate | Bandwidth | NCO   | Ref. Clock |\n",
    "# | 2.5 GSPS        | 2x                 | 1.25 GSPS      | 1.25G     | -625M | 500M (PLL) |\n",
    "# +-----------------+--------------------+----------------+-----------+-------+------------+"
   ]
  },
  {
   "cell_type": "code",
   "execution_count": 3,
   "id": "f546283e",
   "metadata": {},
   "outputs": [
    {
     "name": "stdout",
     "output_type": "stream",
     "text": [
      "adc_datapath/t226/data_mover_ctrl\n",
      "adc_datapath/t226/fifo_count\n",
      "axi_gpio_led\n",
      "dac_datapath/t230/data_mover_ctrl\n",
      "dac_datapath/t230/fifo_count\n",
      "usp_rf_data_converter\n",
      "zynq_ultra_ps_e\n"
     ]
    }
   ],
   "source": [
    "ol = RFSoCOverlay(path_to_bitstream=\"./rfsoc_rfdc/bitstream/rfsoc_rfdc_v39.bit\")\n",
    "NEW_CONFIG = {\n",
    "    \"RefClockForPLL\": 500.0,\n",
    "    \"DACSampleRate\": 2500.0,\n",
    "    \"DACInterpolationRate\": 2,\n",
    "    \"DACNCO\": 625.0,\n",
    "    \"ADCSampleRate\": 2500.0,\n",
    "    \"ADCInterpolationRate\": 2,\n",
    "    \"ADCNCO\": -625.0,\n",
    "    \"CONFIG_NAME\": \"rfsoc_rfdc_v39\"\n",
    "}\n",
    "ZCU216_CONFIG.update(NEW_CONFIG)"
   ]
  },
  {
   "cell_type": "code",
   "execution_count": null,
   "id": "60a704a2",
   "metadata": {
    "scrolled": true
   },
   "outputs": [
    {
     "data": {
      "application/vnd.jupyter.widget-view+json": {
       "model_id": "0aebdec8e2bb4b37a8ba1c859548dfb3",
       "version_major": 2,
       "version_minor": 0
      },
      "text/plain": [
       "FigureWidget({\n",
       "    'data': [],\n",
       "    'layout': {'template': '...',\n",
       "               'title': {'text': 'Complex Sig…"
      ]
     },
     "metadata": {},
     "output_type": "display_data"
    },
    {
     "data": {
      "application/vnd.jupyter.widget-view+json": {
       "model_id": "e12ac37a66f444aabe871687158f0024",
       "version_major": 2,
       "version_minor": 0
      },
      "text/plain": [
       "FigureWidget({\n",
       "    'data': [{'name': 'Magnitude', 'type': 'scattergl', 'uid': '09e0644d-855f-4b11-8d11-7215797…"
      ]
     },
     "metadata": {},
     "output_type": "display_data"
    },
    {
     "name": "stderr",
     "output_type": "stream",
     "text": [
      "2024-07-30 22:49:00,597 - root - INFO - Configuring LMK chip using file LMK04828_250.0.txt at 250.0 MHz\n",
      "2024-07-30 22:49:00,601 - root - INFO - Configuring LMX chip using file LMX2594_500.0.txt at 500.0 MHz\n",
      "2024-07-30 22:49:03,052 - root - INFO - DAC tile 1 (229) is fully powered up!\n",
      "2024-07-30 22:49:04,098 - root - INFO - DAC tile 2 (230) is fully powered up!\n",
      "2024-07-30 22:49:04,101 - root - INFO - DAC tile 0 DAC block 0 is NOT enabled!\n",
      "2024-07-30 22:49:04,104 - root - INFO - DAC tile 0 DAC block 1 is NOT enabled!\n",
      "2024-07-30 22:49:04,107 - root - INFO - DAC tile 0 DAC block 2 is NOT enabled!\n",
      "2024-07-30 22:49:04,109 - root - INFO - DAC tile 0 DAC block 3 is NOT enabled!\n",
      "2024-07-30 22:49:04,202 - root - INFO - DAC tile 1 DAC block 0 is enabled!\n",
      "2024-07-30 22:49:04,205 - root - INFO - DAC tile 1 DAC block 1 is NOT enabled!\n",
      "2024-07-30 22:49:04,208 - root - INFO - DAC tile 1 DAC block 2 is NOT enabled!\n",
      "2024-07-30 22:49:04,210 - root - INFO - DAC tile 1 DAC block 3 is NOT enabled!\n",
      "2024-07-30 22:49:04,251 - root - INFO - DAC tile 2 DAC block 0 is enabled!\n",
      "2024-07-30 22:49:04,254 - root - INFO - DAC tile 2 DAC block 1 is NOT enabled!\n",
      "2024-07-30 22:49:04,256 - root - INFO - DAC tile 2 DAC block 2 is NOT enabled!\n",
      "2024-07-30 22:49:04,259 - root - INFO - DAC tile 2 DAC block 3 is NOT enabled!\n",
      "2024-07-30 22:49:04,261 - root - INFO - DAC tile 3 DAC block 0 is NOT enabled!\n",
      "2024-07-30 22:49:04,264 - root - INFO - DAC tile 3 DAC block 1 is NOT enabled!\n",
      "2024-07-30 22:49:04,267 - root - INFO - DAC tile 3 DAC block 2 is NOT enabled!\n",
      "2024-07-30 22:49:04,269 - root - INFO - DAC tile 3 DAC block 3 is NOT enabled!\n",
      "2024-07-30 22:49:05,383 - root - INFO - ADC tile 1 (225) is fully powered up!\n",
      "2024-07-30 22:49:06,495 - root - INFO - ADC tile 2 (226) is fully powered up!\n",
      "2024-07-30 22:49:06,497 - root - INFO - ADC tile 0 ADC block 0 is NOT enabled!\n",
      "2024-07-30 22:49:06,500 - root - INFO - ADC tile 0 ADC block 1 is NOT enabled!\n",
      "2024-07-30 22:49:06,502 - root - INFO - ADC tile 0 ADC block 2 is NOT enabled!\n",
      "2024-07-30 22:49:06,505 - root - INFO - ADC tile 0 ADC block 3 is NOT enabled!\n",
      "2024-07-30 22:49:06,533 - root - INFO - ADC tile 1 ADC block 0 is enabled!\n",
      "2024-07-30 22:49:06,535 - root - INFO - ADC tile 1 ADC block 1 is NOT enabled!\n",
      "2024-07-30 22:49:06,537 - root - INFO - ADC tile 1 ADC block 2 is NOT enabled!\n",
      "2024-07-30 22:49:06,540 - root - INFO - ADC tile 1 ADC block 3 is NOT enabled!\n",
      "2024-07-30 22:49:06,572 - root - INFO - ADC tile 2 ADC block 0 is enabled!\n",
      "2024-07-30 22:49:06,575 - root - INFO - ADC tile 2 ADC block 1 is NOT enabled!\n",
      "2024-07-30 22:49:06,577 - root - INFO - ADC tile 2 ADC block 2 is NOT enabled!\n",
      "2024-07-30 22:49:06,580 - root - INFO - ADC tile 2 ADC block 3 is NOT enabled!\n",
      "2024-07-30 22:49:06,583 - root - INFO - ADC tile 3 ADC block 0 is NOT enabled!\n",
      "2024-07-30 22:49:06,586 - root - INFO - ADC tile 3 ADC block 1 is NOT enabled!\n",
      "2024-07-30 22:49:06,588 - root - INFO - ADC tile 3 ADC block 2 is NOT enabled!\n",
      "2024-07-30 22:49:06,591 - root - INFO - ADC tile 3 ADC block 3 is NOT enabled!\n"
     ]
    }
   ],
   "source": [
    "rfdc_t = RfdcTask(ol)\n",
    "led_t = BlinkLedTask(ol)\n",
    "tx_t = SingleChTxTask(ol)\n",
    "rx_t = SingleChRxTask(ol)\n",
    "\n",
    "for task in [rfdc_t]:\n",
    "    task.start()\n",
    "    task.join()\n",
    "\n",
    "parallel_task = [led_t, tx_t, rx_t]\n",
    "for task in parallel_task:\n",
    "    task.start()\n",
    "\n",
    "time.sleep(5)\n",
    "\n",
    "for task in parallel_task:\n",
    "    task.stop()"
   ]
  }
 ],
 "metadata": {
  "kernelspec": {
   "display_name": "Python 3",
   "language": "python",
   "name": "python3"
  },
  "language_info": {
   "codemirror_mode": {
    "name": "ipython",
    "version": 3
   },
   "file_extension": ".py",
   "mimetype": "text/x-python",
   "name": "python",
   "nbconvert_exporter": "python",
   "pygments_lexer": "ipython3",
   "version": "3.8.2"
  }
 },
 "nbformat": 4,
 "nbformat_minor": 5
}
