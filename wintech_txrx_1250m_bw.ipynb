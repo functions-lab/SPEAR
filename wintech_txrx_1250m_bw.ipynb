{
 "cells": [
  {
   "cell_type": "code",
   "execution_count": null,
   "id": "43e0f9e0",
   "metadata": {},
   "outputs": [],
   "source": [
    "%matplotlib notebook\n",
    "from rfsoc_rfdc.rfsoc_overlay import RFSoCOverlay\n",
    "from rfsoc_rfdc.overlay_task import OverlayTask\n",
    "from rfsoc_rfdc.overlay_task import BlinkLedTask\n",
    "\n",
    "from rfsoc_rfdc.transmitter.single_ch_tx_task import SingleChTxTask\n",
    "from rfsoc_rfdc.receiver.single_ch_rx_task import SingleChRxTask\n",
    "\n",
    "from rfsoc_rfdc.transmitter.multi_ch_tx_task import MultiChTxTask\n",
    "from rfsoc_rfdc.receiver.multi_ch_rx_task import MultiChRxTask\n",
    "\n",
    "from rfsoc_rfdc.rfdc_task import RfdcTask \n",
    "from rfsoc_rfdc.cmac_task import CmacTask\n",
    "from rfsoc_rfdc.rfdc_config import ZCU216_CONFIG\n",
    "\n",
    "import sys\n",
    "import os\n",
    "import time"
   ]
  },
  {
   "cell_type": "code",
   "execution_count": null,
   "id": "caed7e9b",
   "metadata": {},
   "outputs": [],
   "source": [
    "# RFSoC experiment configuration\n",
    "# +----------------------------------------------------------------------------------------+\n",
    "# | Feature: Single Channel 1.25 GHz BW Tx/Rx Experiment                                   |\n",
    "# +-----------------+--------------------+----------------+-----------+-------+------------+\n",
    "# | DAC Sample Rate | Interpolation Rate | IQ Sample Rate | Bandwidth | NCO   | Ref. Clock |\n",
    "# | 2.5 GSPS        | 2x                 | 1.25 GSPS      | 1.25G     | 625M  | 500M (PLL) |\n",
    "# +-----------------+--------------------+----------------+-----------+-------+------------+\n",
    "# | ADC Sample Rate | Decimation Rate    | IQ Sample Rate | Bandwidth | NCO   | Ref. Clock |\n",
    "# | 2.5 GSPS        | 2x                 | 1.25 GSPS      | 1.25G     | -625M | 500M (PLL) |\n",
    "# +-----------------+--------------------+----------------+-----------+-------+------------+"
   ]
  },
  {
   "cell_type": "code",
   "execution_count": null,
   "id": "f546283e",
   "metadata": {},
   "outputs": [],
   "source": [
    "ol = RFSoCOverlay(path_to_bitstream=\"./rfsoc_rfdc/bitstream/rfsoc_rfdc_v39.bit\")\n",
    "NEW_CONFIG = {\n",
    "    \"RefClockForPLL\": 500.0,\n",
    "    \"DACSampleRate\": 2500.0,\n",
    "    \"DACInterpolationRate\": 2,\n",
    "    \"DACNCO\": 625.0,\n",
    "    \"ADCSampleRate\": 2500.0,\n",
    "    \"ADCInterpolationRate\": 2,\n",
    "    \"ADCNCO\": -625.0,\n",
    "}\n",
    "ZCU216_CONFIG.update(NEW_CONFIG)"
   ]
  },
  {
   "cell_type": "code",
   "execution_count": null,
   "id": "0ab0a68e",
   "metadata": {},
   "outputs": [],
   "source": [
    "from rfsoc_rfdc.dsp.ofdm import OFDM\n",
    "from rfsoc_rfdc.dsp.detection import Detection"
   ]
  },
  {
   "cell_type": "code",
   "execution_count": null,
   "id": "60a704a2",
   "metadata": {
    "scrolled": true
   },
   "outputs": [],
   "source": [
    "import numpy as np\n",
    "\n",
    "for atten in np.arange(0.0, 33.0, 3.0):\n",
    "\n",
    "    for qam_order in [\"16QAM\", \"64QAM\", \"256QAM\", \"1024QAM\"]:\n",
    "\n",
    "        for inv_sinc in [0, 1]:\n",
    "            # Update config\n",
    "            true_samp_rate = ZCU216_CONFIG['DACSampleRate'] / \\\n",
    "                ZCU216_CONFIG['DACInterpolationRate'] * 1e6\n",
    "            ZCU216_CONFIG['QAM'] = qam_order\n",
    "            ZCU216_CONFIG['OFDM_SCHEME'] = OFDM(\n",
    "                sym_num=100, fft_size=64, sub_num=48, modu=qam_order, cp_rate=0.25)\n",
    "            ZCU216_CONFIG['DETECTION_SCHEME'] = Detection(\n",
    "                sample_rate=true_samp_rate)\n",
    "            ZCU216_CONFIG['InvSincFIR'] = inv_sinc\n",
    "            ZCU216_CONFIG['OFDM_ATTEN_DB'] = atten\n",
    "            nco = ZCU216_CONFIG['DACNCO']\n",
    "\n",
    "            ZCU216_CONFIG['CONFIG_NAME'] = \"TxRx_1250M_BW\" + \\\n",
    "                \"_\" + qam_order + \"_\" + \\\n",
    "                str(nco) + \"_\" + str(atten) + \"_\" + str(inv_sinc)\n",
    "\n",
    "            rfdc_t = RfdcTask(ol)\n",
    "            led_t = BlinkLedTask(ol)\n",
    "            tx_t = SingleChTxTask(ol)\n",
    "            rx_t = SingleChRxTask(ol)\n",
    "\n",
    "            for task in [rfdc_t]:\n",
    "                task.start()\n",
    "                task.join()\n",
    "\n",
    "            parallel_task = [led_t, tx_t, rx_t]\n",
    "            for task in parallel_task:\n",
    "                task.start()\n",
    "\n",
    "            print(\n",
    "                f\"qam_order {qam_order}, nco {nco}, atten {atten}, inv_sinc {inv_sinc}\")\n",
    "\n",
    "            time.sleep(3)\n",
    "\n",
    "            for task in parallel_task:\n",
    "                task.stop()\n"
   ]
  }
 ],
 "metadata": {
  "kernelspec": {
   "display_name": "Python 3",
   "language": "python",
   "name": "python3"
  },
  "language_info": {
   "codemirror_mode": {
    "name": "ipython",
    "version": 3
   },
   "file_extension": ".py",
   "mimetype": "text/x-python",
   "name": "python",
   "nbconvert_exporter": "python",
   "pygments_lexer": "ipython3",
   "version": "3.8.2"
  }
 },
 "nbformat": 4,
 "nbformat_minor": 5
}
