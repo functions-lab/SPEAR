{
 "cells": [
  {
   "cell_type": "code",
   "execution_count": 1,
   "id": "43e0f9e0",
   "metadata": {},
   "outputs": [
    {
     "data": {
      "application/javascript": [
       "\n",
       "try {\n",
       "require(['notebook/js/codecell'], function(codecell) {\n",
       "  codecell.CodeCell.options_default.highlight_modes[\n",
       "      'magic_text/x-csrc'] = {'reg':[/^%%microblaze/]};\n",
       "  Jupyter.notebook.events.one('kernel_ready.Kernel', function(){\n",
       "      Jupyter.notebook.get_cells().map(function(cell){\n",
       "          if (cell.cell_type == 'code'){ cell.auto_highlight(); } }) ;\n",
       "  });\n",
       "});\n",
       "} catch (e) {};\n"
      ]
     },
     "metadata": {},
     "output_type": "display_data"
    },
    {
     "data": {
      "application/javascript": [
       "\n",
       "try {\n",
       "require(['notebook/js/codecell'], function(codecell) {\n",
       "  codecell.CodeCell.options_default.highlight_modes[\n",
       "      'magic_text/x-csrc'] = {'reg':[/^%%pybind11/]};\n",
       "  Jupyter.notebook.events.one('kernel_ready.Kernel', function(){\n",
       "      Jupyter.notebook.get_cells().map(function(cell){\n",
       "          if (cell.cell_type == 'code'){ cell.auto_highlight(); } }) ;\n",
       "  });\n",
       "});\n",
       "} catch (e) {};\n"
      ]
     },
     "metadata": {},
     "output_type": "display_data"
    }
   ],
   "source": [
    "%matplotlib notebook\n",
    "from rfsoc_rfdc.rfsoc_overlay import RFSoCOverlay\n",
    "from rfsoc_rfdc.overlay_task import OverlayTask\n",
    "from rfsoc_rfdc.overlay_task import BlinkLedTask\n",
    "\n",
    "from rfsoc_rfdc.transmitter.single_ch_tx_task import SingleChTxTask\n",
    "from rfsoc_rfdc.receiver.single_ch_rx_task import SingleChRxTask\n",
    "\n",
    "from rfsoc_rfdc.rfdc_task import RfdcTask \n",
    "from rfsoc_rfdc.rfdc_config import ZCU216_CONFIG\n",
    "\n",
    "import sys\n",
    "import os\n",
    "import time"
   ]
  },
  {
   "cell_type": "code",
   "execution_count": 2,
   "id": "f546283e",
   "metadata": {},
   "outputs": [
    {
     "name": "stdout",
     "output_type": "stream",
     "text": [
      "adc_datapath/t226/data_mover_ctrl\n",
      "adc_datapath/t226/fifo_count\n",
      "axi_gpio_led\n",
      "dac_datapath/t230/data_mover_ctrl\n",
      "dac_datapath/t230/fifo_count\n",
      "usp_rf_data_converter\n",
      "zynq_ultra_ps_e\n"
     ]
    }
   ],
   "source": [
    "ol = RFSoCOverlay(path_to_bitstream=\"./rfsoc_rfdc/bitstream/rfsoc_rfdc_v39_100M.bit\")\n",
    "NEW_CONFIG = {\n",
    "    \"RefClockForPLL\": 500.0,\n",
    "    \"DACSampleRate\": 4000.0,\n",
    "    \"DACInterpolationRate\": 40,\n",
    "    \"DACNCO\": 0.0,\n",
    "    \"ADCSampleRate\": 2000.0,\n",
    "    \"ADCInterpolationRate\": 20,\n",
    "    \"ADCNCO\": -0.0,\n",
    "}\n",
    "ZCU216_CONFIG.update(NEW_CONFIG)"
   ]
  },
  {
   "cell_type": "code",
   "execution_count": 3,
   "id": "60a704a2",
   "metadata": {
    "scrolled": true
   },
   "outputs": [
    {
     "name": "stderr",
     "output_type": "stream",
     "text": [
      "2024-11-16 23:26:40,712 - root - INFO - DAC tile 0 DAC block 0 is NOT enabled!\n",
      "2024-11-16 23:26:40,717 - root - INFO - DAC tile 0 DAC block 1 is NOT enabled!\n",
      "2024-11-16 23:26:40,720 - root - INFO - DAC tile 0 DAC block 2 is NOT enabled!\n",
      "2024-11-16 23:26:40,723 - root - INFO - DAC tile 0 DAC block 3 is NOT enabled!\n",
      "2024-11-16 23:26:40,832 - root - INFO - DAC tile 1 DAC block 0 is enabled!\n",
      "2024-11-16 23:26:40,835 - root - INFO - DAC tile 1 DAC block 1 is NOT enabled!\n",
      "2024-11-16 23:26:40,837 - root - INFO - DAC tile 1 DAC block 2 is NOT enabled!\n",
      "2024-11-16 23:26:40,840 - root - INFO - DAC tile 1 DAC block 3 is NOT enabled!\n",
      "2024-11-16 23:26:40,887 - root - INFO - DAC tile 2 DAC block 0 is enabled!\n",
      "2024-11-16 23:26:40,889 - root - INFO - DAC tile 2 DAC block 1 is NOT enabled!\n",
      "2024-11-16 23:26:40,892 - root - INFO - DAC tile 2 DAC block 2 is NOT enabled!\n",
      "2024-11-16 23:26:40,894 - root - INFO - DAC tile 2 DAC block 3 is NOT enabled!\n",
      "2024-11-16 23:26:40,897 - root - INFO - DAC tile 3 DAC block 0 is NOT enabled!\n",
      "2024-11-16 23:26:40,899 - root - INFO - DAC tile 3 DAC block 1 is NOT enabled!\n",
      "2024-11-16 23:26:40,905 - root - INFO - DAC tile 3 DAC block 2 is NOT enabled!\n",
      "2024-11-16 23:26:40,907 - root - INFO - DAC tile 3 DAC block 3 is NOT enabled!\n",
      "2024-11-16 23:26:40,910 - root - INFO - ADC tile 0 ADC block 0 is NOT enabled!\n",
      "2024-11-16 23:26:40,913 - root - INFO - ADC tile 0 ADC block 1 is NOT enabled!\n",
      "2024-11-16 23:26:40,915 - root - INFO - ADC tile 0 ADC block 2 is NOT enabled!\n",
      "2024-11-16 23:26:40,918 - root - INFO - ADC tile 0 ADC block 3 is NOT enabled!\n",
      "2024-11-16 23:26:40,960 - root - INFO - ADC tile 1 ADC block 0 is enabled!\n",
      "2024-11-16 23:26:40,963 - root - INFO - ADC tile 1 ADC block 1 is NOT enabled!\n",
      "2024-11-16 23:26:40,966 - root - INFO - ADC tile 1 ADC block 2 is NOT enabled!\n",
      "2024-11-16 23:26:40,969 - root - INFO - ADC tile 1 ADC block 3 is NOT enabled!\n",
      "2024-11-16 23:26:41,003 - root - INFO - ADC tile 2 ADC block 0 is enabled!\n",
      "2024-11-16 23:26:41,006 - root - INFO - ADC tile 2 ADC block 1 is NOT enabled!\n",
      "2024-11-16 23:26:41,008 - root - INFO - ADC tile 2 ADC block 2 is NOT enabled!\n",
      "2024-11-16 23:26:41,013 - root - INFO - ADC tile 2 ADC block 3 is NOT enabled!\n",
      "2024-11-16 23:26:41,017 - root - INFO - ADC tile 3 ADC block 0 is NOT enabled!\n",
      "2024-11-16 23:26:41,020 - root - INFO - ADC tile 3 ADC block 1 is NOT enabled!\n",
      "2024-11-16 23:26:41,024 - root - INFO - ADC tile 3 ADC block 2 is NOT enabled!\n",
      "2024-11-16 23:26:41,028 - root - INFO - ADC tile 3 ADC block 3 is NOT enabled!\n"
     ]
    },
    {
     "ename": "FileNotFoundError",
     "evalue": "The specified file does not exist: ./tmp_files/Tx.npy",
     "output_type": "error",
     "traceback": [
      "\u001b[0;31m---------------------------------------------------------------------------\u001b[0m",
      "\u001b[0;31mFileNotFoundError\u001b[0m                         Traceback (most recent call last)",
      "\u001b[0;32m<ipython-input-3-6de4bdccaa70>\u001b[0m in \u001b[0;36m<module>\u001b[0;34m\u001b[0m\n\u001b[1;32m     23\u001b[0m \u001b[0;34m\u001b[0m\u001b[0m\n\u001b[1;32m     24\u001b[0m     \u001b[0mled_t\u001b[0m \u001b[0;34m=\u001b[0m \u001b[0mBlinkLedTask\u001b[0m\u001b[0;34m(\u001b[0m\u001b[0mol\u001b[0m\u001b[0;34m)\u001b[0m\u001b[0;34m\u001b[0m\u001b[0;34m\u001b[0m\u001b[0m\n\u001b[0;32m---> 25\u001b[0;31m     \u001b[0mtx_t\u001b[0m \u001b[0;34m=\u001b[0m \u001b[0mSingleChTxTask\u001b[0m\u001b[0;34m(\u001b[0m\u001b[0mol\u001b[0m\u001b[0;34m,\u001b[0m \u001b[0mtx_file\u001b[0m\u001b[0;34m=\u001b[0m\u001b[0;34m\"./tmp_files/Tx.npy\"\u001b[0m\u001b[0;34m)\u001b[0m\u001b[0;34m\u001b[0m\u001b[0;34m\u001b[0m\u001b[0m\n\u001b[0m\u001b[1;32m     26\u001b[0m \u001b[0;34m\u001b[0m\u001b[0m\n\u001b[1;32m     27\u001b[0m     \u001b[0mparallel_task\u001b[0m \u001b[0;34m=\u001b[0m \u001b[0;34m[\u001b[0m\u001b[0mled_t\u001b[0m\u001b[0;34m,\u001b[0m \u001b[0mtx_t\u001b[0m\u001b[0;34m]\u001b[0m\u001b[0;34m\u001b[0m\u001b[0;34m\u001b[0m\u001b[0m\n",
      "\u001b[0;32m/mnt/sata_ssd_128g/jupyter_notebooks/SPEAR/rfsoc_rfdc/transmitter/single_ch_tx_task.py\u001b[0m in \u001b[0;36m__init__\u001b[0;34m(self, overlay, tx_file)\u001b[0m\n\u001b[1;32m     54\u001b[0m         \u001b[0;31m# Load IQ samples from a .npy or .mat file\u001b[0m\u001b[0;34m\u001b[0m\u001b[0;34m\u001b[0m\u001b[0;34m\u001b[0m\u001b[0m\n\u001b[1;32m     55\u001b[0m         \u001b[0;32mif\u001b[0m \u001b[0mself\u001b[0m\u001b[0;34m.\u001b[0m\u001b[0mpath_to_tx_file\u001b[0m\u001b[0;34m.\u001b[0m\u001b[0mendswith\u001b[0m\u001b[0;34m(\u001b[0m\u001b[0;34m'.npy'\u001b[0m\u001b[0;34m)\u001b[0m\u001b[0;34m:\u001b[0m\u001b[0;34m\u001b[0m\u001b[0;34m\u001b[0m\u001b[0m\n\u001b[0;32m---> 56\u001b[0;31m             \u001b[0mloader\u001b[0m \u001b[0;34m=\u001b[0m \u001b[0mNumpyIqLoader\u001b[0m\u001b[0;34m(\u001b[0m\u001b[0mself\u001b[0m\u001b[0;34m.\u001b[0m\u001b[0mpath_to_tx_file\u001b[0m\u001b[0;34m)\u001b[0m\u001b[0;34m\u001b[0m\u001b[0;34m\u001b[0m\u001b[0m\n\u001b[0m\u001b[1;32m     57\u001b[0m             \u001b[0mself\u001b[0m\u001b[0;34m.\u001b[0m\u001b[0mi_samples\u001b[0m\u001b[0;34m,\u001b[0m \u001b[0mself\u001b[0m\u001b[0;34m.\u001b[0m\u001b[0mq_samples\u001b[0m \u001b[0;34m=\u001b[0m \u001b[0mloader\u001b[0m\u001b[0;34m.\u001b[0m\u001b[0mget_iq\u001b[0m\u001b[0;34m(\u001b[0m\u001b[0;34m)\u001b[0m\u001b[0;34m\u001b[0m\u001b[0;34m\u001b[0m\u001b[0m\n\u001b[1;32m     58\u001b[0m         \u001b[0;32melif\u001b[0m \u001b[0mself\u001b[0m\u001b[0;34m.\u001b[0m\u001b[0mpath_to_tx_file\u001b[0m\u001b[0;34m.\u001b[0m\u001b[0mendswith\u001b[0m\u001b[0;34m(\u001b[0m\u001b[0;34m'.mat'\u001b[0m\u001b[0;34m)\u001b[0m\u001b[0;34m:\u001b[0m\u001b[0;34m\u001b[0m\u001b[0;34m\u001b[0m\u001b[0m\n",
      "\u001b[0;32m/mnt/sata_ssd_128g/jupyter_notebooks/SPEAR/rfsoc_rfdc/iq_loader.py\u001b[0m in \u001b[0;36m__init__\u001b[0;34m(self, file_path, key)\u001b[0m\n\u001b[1;32m     52\u001b[0m     \u001b[0;32mdef\u001b[0m \u001b[0m__init__\u001b[0m\u001b[0;34m(\u001b[0m\u001b[0mself\u001b[0m\u001b[0;34m,\u001b[0m \u001b[0mfile_path\u001b[0m\u001b[0;34m,\u001b[0m \u001b[0mkey\u001b[0m\u001b[0;34m=\u001b[0m\u001b[0;34m'wave'\u001b[0m\u001b[0;34m)\u001b[0m\u001b[0;34m:\u001b[0m\u001b[0;34m\u001b[0m\u001b[0;34m\u001b[0m\u001b[0m\n\u001b[1;32m     53\u001b[0m         \u001b[0msuper\u001b[0m\u001b[0;34m(\u001b[0m\u001b[0;34m)\u001b[0m\u001b[0;34m.\u001b[0m\u001b[0m__init__\u001b[0m\u001b[0;34m(\u001b[0m\u001b[0mfile_path\u001b[0m\u001b[0;34m)\u001b[0m\u001b[0;34m\u001b[0m\u001b[0;34m\u001b[0m\u001b[0m\n\u001b[0;32m---> 54\u001b[0;31m         \u001b[0mself\u001b[0m\u001b[0;34m.\u001b[0m\u001b[0mcheck_file_exist\u001b[0m\u001b[0;34m(\u001b[0m\u001b[0;34m)\u001b[0m\u001b[0;34m\u001b[0m\u001b[0;34m\u001b[0m\u001b[0m\n\u001b[0m\u001b[1;32m     55\u001b[0m         \u001b[0mself\u001b[0m\u001b[0;34m.\u001b[0m\u001b[0mload_iq\u001b[0m\u001b[0;34m(\u001b[0m\u001b[0;34m)\u001b[0m\u001b[0;34m\u001b[0m\u001b[0;34m\u001b[0m\u001b[0m\n\u001b[1;32m     56\u001b[0m         self.scale_to_int16(MyRFdcType.DAC_MIN_SCALE, MyRFdcType.DAC_MAX_SCALE,\n",
      "\u001b[0;32m/mnt/sata_ssd_128g/jupyter_notebooks/SPEAR/rfsoc_rfdc/iq_loader.py\u001b[0m in \u001b[0;36mcheck_file_exist\u001b[0;34m(self)\u001b[0m\n\u001b[1;32m     15\u001b[0m     \u001b[0;32mdef\u001b[0m \u001b[0mcheck_file_exist\u001b[0m\u001b[0;34m(\u001b[0m\u001b[0mself\u001b[0m\u001b[0;34m)\u001b[0m\u001b[0;34m:\u001b[0m\u001b[0;34m\u001b[0m\u001b[0;34m\u001b[0m\u001b[0m\n\u001b[1;32m     16\u001b[0m         \u001b[0;32mif\u001b[0m \u001b[0;32mnot\u001b[0m \u001b[0mos\u001b[0m\u001b[0;34m.\u001b[0m\u001b[0mpath\u001b[0m\u001b[0;34m.\u001b[0m\u001b[0misfile\u001b[0m\u001b[0;34m(\u001b[0m\u001b[0mself\u001b[0m\u001b[0;34m.\u001b[0m\u001b[0mfile_path\u001b[0m\u001b[0;34m)\u001b[0m\u001b[0;34m:\u001b[0m\u001b[0;34m\u001b[0m\u001b[0;34m\u001b[0m\u001b[0m\n\u001b[0;32m---> 17\u001b[0;31m             raise FileNotFoundError(\n\u001b[0m\u001b[1;32m     18\u001b[0m                 f\"The specified file does not exist: {self.file_path}\")\n\u001b[1;32m     19\u001b[0m \u001b[0;34m\u001b[0m\u001b[0m\n",
      "\u001b[0;31mFileNotFoundError\u001b[0m: The specified file does not exist: ./tmp_files/Tx.npy"
     ]
    }
   ],
   "source": [
    "import numpy as np\n",
    "\n",
    "qam_order = \"16QAM\"  # Have to change it manually\n",
    "\n",
    "for nco in np.arange(50.0, 2000.0, 100.0):\n",
    "\n",
    "    # Update config\n",
    "    inv_sinc = 1\n",
    "    atten = 0.0\n",
    "    ZCU216_CONFIG['DACNCO'] = nco\n",
    "    ZCU216_CONFIG['InvSincFIR'] = inv_sinc\n",
    "    ZCU216_CONFIG['OFDM_ATTEN_DB'] = atten\n",
    "\n",
    "    ZCU216_CONFIG['CONFIG_NAME'] = \"Tx_100M_BW\" + \\\n",
    "        \"_\" + qam_order + \"_\" + str(nco) + \"_\" + \\\n",
    "        str(atten) + \"_\" + str(inv_sinc)\n",
    "\n",
    "    rfdc_t = RfdcTask(ol)\n",
    "\n",
    "    for task in [rfdc_t]:\n",
    "        task.start()\n",
    "        task.join()\n",
    "\n",
    "    led_t = BlinkLedTask(ol)\n",
    "    tx_t = SingleChTxTask(ol, tx_file=\"./wave_files/Tx.npy\")\n",
    "\n",
    "    parallel_task = [led_t, tx_t]\n",
    "    for task in parallel_task:\n",
    "        task.start()\n",
    "\n",
    "    print(\n",
    "        f\"qam_order {qam_order}, nco {nco}, atten {atten}, inv_sinc {inv_sinc}\")\n",
    "    dummy = input('Type anything and press Enter to continue.')\n",
    "\n",
    "    for task in parallel_task:\n",
    "        task.stop()"
   ]
  }
 ],
 "metadata": {
  "kernelspec": {
   "display_name": "Python 3",
   "language": "python",
   "name": "python3"
  },
  "language_info": {
   "codemirror_mode": {
    "name": "ipython",
    "version": 3
   },
   "file_extension": ".py",
   "mimetype": "text/x-python",
   "name": "python",
   "nbconvert_exporter": "python",
   "pygments_lexer": "ipython3",
   "version": "3.8.2"
  }
 },
 "nbformat": 4,
 "nbformat_minor": 5
}
