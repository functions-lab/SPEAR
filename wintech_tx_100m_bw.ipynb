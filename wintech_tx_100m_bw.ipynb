{
 "cells": [
  {
   "cell_type": "code",
   "execution_count": null,
   "id": "43e0f9e0",
   "metadata": {},
   "outputs": [],
   "source": [
    "%matplotlib notebook\n",
    "from rfsoc_rfdc.rfsoc_overlay import RFSoCOverlay\n",
    "from rfsoc_rfdc.overlay_task import OverlayTask\n",
    "from rfsoc_rfdc.overlay_task import BlinkLedTask\n",
    "\n",
    "from rfsoc_rfdc.transmitter.single_ch_tx_task import SingleChTxTask\n",
    "from rfsoc_rfdc.receiver.single_ch_rx_task import SingleChRxTask\n",
    "\n",
    "from rfsoc_rfdc.transmitter.multi_ch_tx_task import MultiChTxTask\n",
    "from rfsoc_rfdc.receiver.multi_ch_rx_task import MultiChRxTask\n",
    "\n",
    "from rfsoc_rfdc.rfdc_task import RfdcTask \n",
    "from rfsoc_rfdc.cmac_task import CmacTask\n",
    "from rfsoc_rfdc.rfdc_config import ZCU216_CONFIG\n",
    "\n",
    "import sys\n",
    "import os\n",
    "import time"
   ]
  },
  {
   "cell_type": "code",
   "execution_count": null,
   "id": "645e980d",
   "metadata": {},
   "outputs": [],
   "source": [
    "# RFSoC experiment configuration\n",
    "# +------------------------------------------------------------------------------------------------+\n",
    "# | Feature: Single Channel 312.5 MHz BW Tx/Rx Experiment                                          |\n",
    "# +-----------------+--------------------+----------------+-----------+---------------+------------+\n",
    "# | DAC Sample Rate | Interpolation Rate | IQ Sample Rate | Bandwidth | NCO           | Ref. Clock |\n",
    "# | 4.0 GSPS        | 40x                | 100 MSPS       | 100M      | 1000:1800:200M| 500M (PLL) |\n",
    "# +-----------------+--------------------+----------------+-----------+---------------+------------+\n",
    "# | ADC Sample Rate | Decimation Rate    | IQ Sample Rate | Bandwidth | NCO           | Ref. Clock |\n",
    "# | 2.0 GSPS        | 20x                | 100 MSPS       | 100M      | 1000:1800:200M| 500M (PLL) |\n",
    "# +-----------------+--------------------+----------------+-----------+---------------+------------+"
   ]
  },
  {
   "cell_type": "code",
   "execution_count": null,
   "id": "f546283e",
   "metadata": {},
   "outputs": [],
   "source": [
    "ol = RFSoCOverlay(path_to_bitstream=\"./rfsoc_rfdc/bitstream/rfsoc_rfdc_v39_100M.bit\")\n",
    "NEW_CONFIG = {\n",
    "    \"RefClockForPLL\": 500.0,\n",
    "    \"DACSampleRate\": 4000.0,\n",
    "    \"DACInterpolationRate\": 40,\n",
    "    \"DACNCO\": 0.0,\n",
    "    \"ADCSampleRate\": 2000.0,\n",
    "    \"ADCInterpolationRate\": 20,\n",
    "    \"ADCNCO\": -0.0,\n",
    "}\n",
    "ZCU216_CONFIG.update(NEW_CONFIG)"
   ]
  },
  {
   "cell_type": "code",
   "execution_count": null,
   "id": "b8ffc871",
   "metadata": {},
   "outputs": [],
   "source": [
    "import numpy as np\n",
    "\n",
    "for inv_sinc in [0, 1]:\n",
    "    \n",
    "    for nco in np.arange(50.0, 2000.0, 50.0):\n",
    "    \n",
    "        # Update config\n",
    "        ZCU216_CONFIG['DACNCO'] = nco\n",
    "        ZCU216_CONFIG['InvSincFIR'] = inv_sinc\n",
    "        ZCU216_CONFIG['CONFIG_NAME'] = \"Tx_100M_BW\" + \"_\" + str(nco) + \"_\" + str(inv_sinc)\n",
    "        \n",
    "        print(f\"Experiment InvSincFIR {inv_sinc}, DAC NCO {nco}\")\n",
    "\n",
    "        rfdc_t = RfdcTask(ol)\n",
    "\n",
    "        for task in [rfdc_t]:\n",
    "            task.start()\n",
    "            task.join()\n",
    "\n",
    "        led_t = BlinkLedTask(ol)\n",
    "        tx_t = SingleChTxTask(ol, tx_file=\"./tmp_files/Tx.mat\")\n",
    "\n",
    "        parallel_task = [led_t, tx_t]\n",
    "        for task in parallel_task:\n",
    "            task.start()\n",
    "\n",
    "        dummy = input('Type anything and press Enter to continue.')\n",
    "\n",
    "        for task in parallel_task:\n",
    "            task.stop()"
   ]
  }
 ],
 "metadata": {
  "kernelspec": {
   "display_name": "Python 3",
   "language": "python",
   "name": "python3"
  },
  "language_info": {
   "codemirror_mode": {
    "name": "ipython",
    "version": 3
   },
   "file_extension": ".py",
   "mimetype": "text/x-python",
   "name": "python",
   "nbconvert_exporter": "python",
   "pygments_lexer": "ipython3",
   "version": "3.8.2"
  }
 },
 "nbformat": 4,
 "nbformat_minor": 5
}
