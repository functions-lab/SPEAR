{
 "cells": [
  {
   "cell_type": "code",
   "execution_count": 1,
   "id": "43e0f9e0",
   "metadata": {},
   "outputs": [
    {
     "data": {
      "application/javascript": [
       "\n",
       "try {\n",
       "require(['notebook/js/codecell'], function(codecell) {\n",
       "  codecell.CodeCell.options_default.highlight_modes[\n",
       "      'magic_text/x-csrc'] = {'reg':[/^%%microblaze/]};\n",
       "  Jupyter.notebook.events.one('kernel_ready.Kernel', function(){\n",
       "      Jupyter.notebook.get_cells().map(function(cell){\n",
       "          if (cell.cell_type == 'code'){ cell.auto_highlight(); } }) ;\n",
       "  });\n",
       "});\n",
       "} catch (e) {};\n"
      ]
     },
     "metadata": {},
     "output_type": "display_data"
    },
    {
     "data": {
      "application/javascript": [
       "\n",
       "try {\n",
       "require(['notebook/js/codecell'], function(codecell) {\n",
       "  codecell.CodeCell.options_default.highlight_modes[\n",
       "      'magic_text/x-csrc'] = {'reg':[/^%%pybind11/]};\n",
       "  Jupyter.notebook.events.one('kernel_ready.Kernel', function(){\n",
       "      Jupyter.notebook.get_cells().map(function(cell){\n",
       "          if (cell.cell_type == 'code'){ cell.auto_highlight(); } }) ;\n",
       "  });\n",
       "});\n",
       "} catch (e) {};\n"
      ]
     },
     "metadata": {},
     "output_type": "display_data"
    }
   ],
   "source": [
    "%matplotlib notebook\n",
    "from rfsoc_rfdc.rfsoc_overlay import RFSoCOverlay\n",
    "from rfsoc_rfdc.overlay_task import OverlayTask\n",
    "from rfsoc_rfdc.overlay_task import BlinkLedTask\n",
    "\n",
    "from rfsoc_rfdc.transmitter.single_ch_transmitter_task import SingleChTransmitterTask\n",
    "from rfsoc_rfdc.receiver.single_ch_receiver_task import SingleChReceiverTask\n",
    "\n",
    "from rfsoc_rfdc.transmitter.multi_ch_transmitter_task import MultiChTransmitterTask\n",
    "from rfsoc_rfdc.receiver.multi_ch_receiver_task import MultiChReceiverTask\n",
    "\n",
    "from rfsoc_rfdc.rfdc_task import RfdcTask \n",
    "from rfsoc_rfdc.cmac_task import CmacTask\n",
    "from rfsoc_rfdc.rfdc_config import ZCU216_CONFIG"
   ]
  },
  {
   "cell_type": "code",
   "execution_count": null,
   "id": "1cfbb97c",
   "metadata": {},
   "outputs": [],
   "source": [
    "# RFSoC experiment configuration\n",
    "# +--------------------------------------------------------------------------------------+\n",
    "# | Feature: Single channel 100MHz bandwidth (Tx only)                                   |\n",
    "# +-----------------+--------------------+----------------+-----------+-----+------------+\n",
    "# | DAC Sample Rate | Interpolation Rate | IQ Sample Rate | Bandwidth | NCO | Ref. Clock |\n",
    "# | 2.0 GSPS        | 20x                | 200 MSPS       | 100M      | +1G | 500M (PLL) |\n",
    "# +-----------------+--------------------+----------------+-----------+-----+------------+\n",
    "# | ADC Sample Rate | Decimation Rate    | IQ Sample Rate | Bandwidth | NCO | Ref. Clock |\n",
    "# | 2.0 GSPS        | 20x                | 200 MSPS       | 100M      | -1G | 500M (PLL) |\n",
    "# +-----------------+--------------------+----------------+-----------+-----+------------+"
   ]
  },
  {
   "cell_type": "code",
   "execution_count": null,
   "id": "cf1bd19b",
   "metadata": {},
   "outputs": [],
   "source": [
    "ol = RFSoCOverlay(path_to_bitstream=\"./rfsoc_rfdc/bitstream/rfsoc_rfdc_v27.bit\")\n",
    "NEW_CONFIG = {\n",
    "    \"RefClockForPLL\": 500.0,\n",
    "    \"DACSampleRate\": 2000.0,\n",
    "    \"DACInterpolationRate\": 2,\n",
    "    \"DACNCO\": 1000.0,\n",
    "    \"ADCSampleRate\": 2000.0,\n",
    "    \"ADCInterpolationRate\": 2,\n",
    "    \"ADCNCO\": -1000.0\n",
    "}\n",
    "ZCU216_CONFIG.update(NEW_CONFIG)"
   ]
  },
  {
   "cell_type": "code",
   "execution_count": null,
   "id": "60a704a2",
   "metadata": {
    "scrolled": true
   },
   "outputs": [
    {
     "name": "stdout",
     "output_type": "stream",
     "text": [
      "axi_gpio_led\n",
      "axi_rfdc_intc\n",
      "usp_rf_data_converter\n",
      "dac_datapath/t230/axi_dma\n",
      "dac_datapath/t230/fifo_count\n",
      "adc_datapath/t226/adc_packet_generator\n",
      "adc_datapath/t226/axi_dma\n",
      "adc_datapath/t226/fifo_count\n",
      "zynq_ultra_ps_e\n"
     ]
    },
    {
     "data": {
      "application/vnd.jupyter.widget-view+json": {
       "model_id": "429ab337ce0a442f95f1eaa7c6d9e6d5",
       "version_major": 2,
       "version_minor": 0
      },
      "text/plain": [
       "FigureWidget({\n",
       "    'data': [],\n",
       "    'layout': {'template': '...',\n",
       "               'title': {'text': 'Complex Sig…"
      ]
     },
     "metadata": {},
     "output_type": "display_data"
    },
    {
     "data": {
      "application/vnd.jupyter.widget-view+json": {
       "model_id": "3d46a851348f4823aaa07fdd924615ec",
       "version_major": 2,
       "version_minor": 0
      },
      "text/plain": [
       "FigureWidget({\n",
       "    'data': [{'name': 'Magnitude', 'type': 'scattergl', 'uid': '72515a9c-8c1a-466e-bbc5-ddf4cc3…"
      ]
     },
     "metadata": {},
     "output_type": "display_data"
    },
    {
     "name": "stderr",
     "output_type": "stream",
     "text": [
      "2024-05-15 03:57:15,270 - root - INFO - Configuring LMK chip using file LMK04828_250.0.txt at 250.0 MHz\n",
      "2024-05-15 03:57:15,276 - root - INFO - Configuring LMX chip using file LMX2594_500.0.txt at 500.0 MHz\n",
      "2024-05-15 03:57:17,736 - root - INFO - DAC tile 1 (229) is fully powered up!\n",
      "2024-05-15 03:57:18,785 - root - INFO - DAC tile 2 (230) is fully powered up!\n",
      "2024-05-15 03:57:18,787 - root - INFO - DAC tile 0 DAC block 0 is NOT enabled!\n",
      "2024-05-15 03:57:18,790 - root - INFO - DAC tile 0 DAC block 1 is NOT enabled!\n",
      "2024-05-15 03:57:18,792 - root - INFO - DAC tile 0 DAC block 2 is NOT enabled!\n",
      "2024-05-15 03:57:18,795 - root - INFO - DAC tile 0 DAC block 3 is NOT enabled!\n",
      "2024-05-15 03:57:18,852 - root - INFO - DAC tile 1 DAC block 0 is enabled!\n",
      "2024-05-15 03:57:18,854 - root - INFO - DAC tile 1 DAC block 1 is NOT enabled!\n",
      "2024-05-15 03:57:18,857 - root - INFO - DAC tile 1 DAC block 2 is NOT enabled!\n",
      "2024-05-15 03:57:18,859 - root - INFO - DAC tile 1 DAC block 3 is NOT enabled!\n",
      "2024-05-15 03:57:18,889 - root - INFO - DAC tile 2 DAC block 0 is enabled!\n",
      "2024-05-15 03:57:18,892 - root - INFO - DAC tile 2 DAC block 1 is NOT enabled!\n",
      "2024-05-15 03:57:18,896 - root - INFO - DAC tile 2 DAC block 2 is NOT enabled!\n",
      "2024-05-15 03:57:18,898 - root - INFO - DAC tile 2 DAC block 3 is NOT enabled!\n",
      "2024-05-15 03:57:18,901 - root - INFO - DAC tile 3 DAC block 0 is NOT enabled!\n",
      "2024-05-15 03:57:18,904 - root - INFO - DAC tile 3 DAC block 1 is NOT enabled!\n",
      "2024-05-15 03:57:18,906 - root - INFO - DAC tile 3 DAC block 2 is NOT enabled!\n",
      "2024-05-15 03:57:18,909 - root - INFO - DAC tile 3 DAC block 3 is NOT enabled!\n",
      "2024-05-15 03:57:20,022 - root - INFO - ADC tile 1 (225) is fully powered up!\n",
      "2024-05-15 03:57:21,136 - root - INFO - ADC tile 2 (226) is fully powered up!\n",
      "2024-05-15 03:57:21,138 - root - INFO - ADC tile 0 ADC block 0 is NOT enabled!\n",
      "2024-05-15 03:57:21,141 - root - INFO - ADC tile 0 ADC block 1 is NOT enabled!\n",
      "2024-05-15 03:57:21,144 - root - INFO - ADC tile 0 ADC block 2 is NOT enabled!\n",
      "2024-05-15 03:57:21,147 - root - INFO - ADC tile 0 ADC block 3 is NOT enabled!\n",
      "2024-05-15 03:57:21,174 - root - INFO - ADC tile 1 ADC block 0 is enabled!\n",
      "2024-05-15 03:57:21,176 - root - INFO - ADC tile 1 ADC block 1 is NOT enabled!\n",
      "2024-05-15 03:57:21,179 - root - INFO - ADC tile 1 ADC block 2 is NOT enabled!\n",
      "2024-05-15 03:57:21,182 - root - INFO - ADC tile 1 ADC block 3 is NOT enabled!\n",
      "2024-05-15 03:57:21,211 - root - INFO - ADC tile 2 ADC block 0 is enabled!\n",
      "2024-05-15 03:57:21,214 - root - INFO - ADC tile 2 ADC block 1 is NOT enabled!\n",
      "2024-05-15 03:57:21,218 - root - INFO - ADC tile 2 ADC block 2 is NOT enabled!\n",
      "2024-05-15 03:57:21,221 - root - INFO - ADC tile 2 ADC block 3 is NOT enabled!\n",
      "2024-05-15 03:57:21,224 - root - INFO - ADC tile 3 ADC block 0 is NOT enabled!\n",
      "2024-05-15 03:57:21,227 - root - INFO - ADC tile 3 ADC block 1 is NOT enabled!\n",
      "2024-05-15 03:57:21,230 - root - INFO - ADC tile 3 ADC block 2 is NOT enabled!\n",
      "2024-05-15 03:57:21,233 - root - INFO - ADC tile 3 ADC block 3 is NOT enabled!\n"
     ]
    }
   ],
   "source": [
    "import sys\n",
    "import os\n",
    "\n",
    "rfdc_t = RfdcTask(ol)\n",
    "led_t = BlinkLedTask(ol)\n",
    "tx_t = SingleChTransmitterTask(ol, \"./wave_files/Tx.mat\")\n",
    "rx_t = SingleChReceiverTask(ol)\n",
    "\n",
    "for task in [rfdc_t]:\n",
    "    task.start()\n",
    "    task.join()\n",
    "\n",
    "parallel_task = [led_t, tx_t]\n",
    "for task in parallel_task:\n",
    "    task.start()\n",
    "for task in parallel_task:\n",
    "    task.join()"
   ]
  }
 ],
 "metadata": {
  "kernelspec": {
   "display_name": "Python 3",
   "language": "python",
   "name": "python3"
  },
  "language_info": {
   "codemirror_mode": {
    "name": "ipython",
    "version": 3
   },
   "file_extension": ".py",
   "mimetype": "text/x-python",
   "name": "python",
   "nbconvert_exporter": "python",
   "pygments_lexer": "ipython3",
   "version": "3.8.2"
  }
 },
 "nbformat": 4,
 "nbformat_minor": 5
}
