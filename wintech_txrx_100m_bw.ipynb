{
 "cells": [
  {
   "cell_type": "code",
   "execution_count": 1,
   "id": "43e0f9e0",
   "metadata": {},
   "outputs": [
    {
     "data": {
      "application/javascript": [
       "\n",
       "try {\n",
       "require(['notebook/js/codecell'], function(codecell) {\n",
       "  codecell.CodeCell.options_default.highlight_modes[\n",
       "      'magic_text/x-csrc'] = {'reg':[/^%%microblaze/]};\n",
       "  Jupyter.notebook.events.one('kernel_ready.Kernel', function(){\n",
       "      Jupyter.notebook.get_cells().map(function(cell){\n",
       "          if (cell.cell_type == 'code'){ cell.auto_highlight(); } }) ;\n",
       "  });\n",
       "});\n",
       "} catch (e) {};\n"
      ]
     },
     "metadata": {},
     "output_type": "display_data"
    },
    {
     "data": {
      "application/javascript": [
       "\n",
       "try {\n",
       "require(['notebook/js/codecell'], function(codecell) {\n",
       "  codecell.CodeCell.options_default.highlight_modes[\n",
       "      'magic_text/x-csrc'] = {'reg':[/^%%pybind11/]};\n",
       "  Jupyter.notebook.events.one('kernel_ready.Kernel', function(){\n",
       "      Jupyter.notebook.get_cells().map(function(cell){\n",
       "          if (cell.cell_type == 'code'){ cell.auto_highlight(); } }) ;\n",
       "  });\n",
       "});\n",
       "} catch (e) {};\n"
      ]
     },
     "metadata": {},
     "output_type": "display_data"
    }
   ],
   "source": [
    "%matplotlib notebook\n",
    "from rfsoc_rfdc.rfsoc_overlay import RFSoCOverlay\n",
    "from rfsoc_rfdc.overlay_task import OverlayTask\n",
    "from rfsoc_rfdc.overlay_task import BlinkLedTask\n",
    "\n",
    "from rfsoc_rfdc.transmitter.single_ch_tx_task import SingleChTxTask\n",
    "from rfsoc_rfdc.receiver.single_ch_rx_task import SingleChRxTask\n",
    "\n",
    "from rfsoc_rfdc.transmitter.multi_ch_tx_task import MultiChTxTask\n",
    "from rfsoc_rfdc.receiver.multi_ch_rx_task import MultiChRxTask\n",
    "\n",
    "from rfsoc_rfdc.rfdc_task import RfdcTask \n",
    "from rfsoc_rfdc.cmac_task import CmacTask\n",
    "from rfsoc_rfdc.rfdc_config import ZCU216_CONFIG\n",
    "\n",
    "import sys\n",
    "import os\n",
    "import time"
   ]
  },
  {
   "cell_type": "code",
   "execution_count": 2,
   "id": "645e980d",
   "metadata": {},
   "outputs": [],
   "source": [
    "# RFSoC experiment configuration\n",
    "# +------------------------------------------------------------------------------------------------+\n",
    "# | Feature: Single Channel 312.5 MHz BW Tx/Rx Experiment                                          |\n",
    "# +-----------------+--------------------+----------------+-----------+---------------+------------+\n",
    "# | DAC Sample Rate | Interpolation Rate | IQ Sample Rate | Bandwidth | NCO           | Ref. Clock |\n",
    "# | 4.0 GSPS        | 40x                | 100 MSPS       | 100M      | 1000:1800:200M| 500M (PLL) |\n",
    "# +-----------------+--------------------+----------------+-----------+---------------+------------+\n",
    "# | ADC Sample Rate | Decimation Rate    | IQ Sample Rate | Bandwidth | NCO           | Ref. Clock |\n",
    "# | 2.0 GSPS        | 20x                | 100 MSPS       | 100M      | 1000:1800:200M| 500M (PLL) |\n",
    "# +-----------------+--------------------+----------------+-----------+---------------+------------+"
   ]
  },
  {
   "cell_type": "code",
   "execution_count": 3,
   "id": "f546283e",
   "metadata": {},
   "outputs": [
    {
     "name": "stdout",
     "output_type": "stream",
     "text": [
      "adc_datapath/t226/data_mover_ctrl\n",
      "adc_datapath/t226/fifo_count\n",
      "axi_gpio_led\n",
      "dac_datapath/t230/data_mover_ctrl\n",
      "dac_datapath/t230/fifo_count\n",
      "usp_rf_data_converter\n",
      "zynq_ultra_ps_e\n"
     ]
    }
   ],
   "source": [
    "ol = RFSoCOverlay(path_to_bitstream=\"./rfsoc_rfdc/bitstream/rfsoc_rfdc_v39_100M.bit\")\n",
    "NEW_CONFIG = {\n",
    "    \"RefClockForPLL\": 500.0,\n",
    "    \"DACSampleRate\": 4000.0,\n",
    "    \"DACInterpolationRate\": 40,\n",
    "    \"DACNCO\": 0.0,\n",
    "    \"ADCSampleRate\": 2000.0,\n",
    "    \"ADCInterpolationRate\": 20,\n",
    "    \"ADCNCO\": -0.0,\n",
    "    \"CONFIG_NAME\": \"rfsoc_rfdc_v39_100M\"\n",
    "}\n",
    "ZCU216_CONFIG.update(NEW_CONFIG)"
   ]
  },
  {
   "cell_type": "code",
   "execution_count": 4,
   "id": "b8ffc871",
   "metadata": {},
   "outputs": [
    {
     "name": "stdout",
     "output_type": "stream",
     "text": [
      "Setting DAC NCO to 1000.0 and ADC NCO to -1000.0\n"
     ]
    },
    {
     "name": "stderr",
     "output_type": "stream",
     "text": [
      "2024-07-30 21:48:41,679 - root - INFO - Configuring LMK chip using file LMK04828_250.0.txt at 250.0 MHz\n",
      "2024-07-30 21:48:41,683 - root - INFO - Configuring LMX chip using file LMX2594_500.0.txt at 500.0 MHz\n",
      "2024-07-30 21:48:44,133 - root - INFO - DAC tile 1 (229) is fully powered up!\n",
      "2024-07-30 21:48:45,182 - root - INFO - DAC tile 2 (230) is fully powered up!\n",
      "2024-07-30 21:48:45,185 - root - INFO - DAC tile 0 DAC block 0 is NOT enabled!\n",
      "2024-07-30 21:48:45,188 - root - INFO - DAC tile 0 DAC block 1 is NOT enabled!\n",
      "2024-07-30 21:48:45,191 - root - INFO - DAC tile 0 DAC block 2 is NOT enabled!\n",
      "2024-07-30 21:48:45,194 - root - INFO - DAC tile 0 DAC block 3 is NOT enabled!\n",
      "2024-07-30 21:48:45,285 - root - INFO - DAC tile 1 DAC block 0 is enabled!\n",
      "2024-07-30 21:48:45,288 - root - INFO - DAC tile 1 DAC block 1 is NOT enabled!\n",
      "2024-07-30 21:48:45,291 - root - INFO - DAC tile 1 DAC block 2 is NOT enabled!\n",
      "2024-07-30 21:48:45,293 - root - INFO - DAC tile 1 DAC block 3 is NOT enabled!\n",
      "2024-07-30 21:48:45,331 - root - INFO - DAC tile 2 DAC block 0 is enabled!\n",
      "2024-07-30 21:48:45,334 - root - INFO - DAC tile 2 DAC block 1 is NOT enabled!\n",
      "2024-07-30 21:48:45,336 - root - INFO - DAC tile 2 DAC block 2 is NOT enabled!\n",
      "2024-07-30 21:48:45,339 - root - INFO - DAC tile 2 DAC block 3 is NOT enabled!\n",
      "2024-07-30 21:48:45,342 - root - INFO - DAC tile 3 DAC block 0 is NOT enabled!\n",
      "2024-07-30 21:48:45,345 - root - INFO - DAC tile 3 DAC block 1 is NOT enabled!\n",
      "2024-07-30 21:48:45,348 - root - INFO - DAC tile 3 DAC block 2 is NOT enabled!\n",
      "2024-07-30 21:48:45,351 - root - INFO - DAC tile 3 DAC block 3 is NOT enabled!\n",
      "2024-07-30 21:48:46,467 - root - INFO - ADC tile 1 (225) is fully powered up!\n",
      "2024-07-30 21:48:47,584 - root - INFO - ADC tile 2 (226) is fully powered up!\n",
      "2024-07-30 21:48:47,588 - root - INFO - ADC tile 0 ADC block 0 is NOT enabled!\n",
      "2024-07-30 21:48:47,592 - root - INFO - ADC tile 0 ADC block 1 is NOT enabled!\n",
      "2024-07-30 21:48:47,596 - root - INFO - ADC tile 0 ADC block 2 is NOT enabled!\n",
      "2024-07-30 21:48:47,600 - root - INFO - ADC tile 0 ADC block 3 is NOT enabled!\n",
      "2024-07-30 21:48:47,636 - root - INFO - ADC tile 1 ADC block 0 is enabled!\n",
      "2024-07-30 21:48:47,638 - root - INFO - ADC tile 1 ADC block 1 is NOT enabled!\n",
      "2024-07-30 21:48:47,641 - root - INFO - ADC tile 1 ADC block 2 is NOT enabled!\n",
      "2024-07-30 21:48:47,643 - root - INFO - ADC tile 1 ADC block 3 is NOT enabled!\n",
      "2024-07-30 21:48:47,687 - root - INFO - ADC tile 2 ADC block 0 is enabled!\n",
      "2024-07-30 21:48:47,690 - root - INFO - ADC tile 2 ADC block 1 is NOT enabled!\n",
      "2024-07-30 21:48:47,693 - root - INFO - ADC tile 2 ADC block 2 is NOT enabled!\n",
      "2024-07-30 21:48:47,696 - root - INFO - ADC tile 2 ADC block 3 is NOT enabled!\n",
      "2024-07-30 21:48:47,699 - root - INFO - ADC tile 3 ADC block 0 is NOT enabled!\n",
      "2024-07-30 21:48:47,701 - root - INFO - ADC tile 3 ADC block 1 is NOT enabled!\n",
      "2024-07-30 21:48:47,704 - root - INFO - ADC tile 3 ADC block 2 is NOT enabled!\n",
      "2024-07-30 21:48:47,707 - root - INFO - ADC tile 3 ADC block 3 is NOT enabled!\n"
     ]
    },
    {
     "data": {
      "application/vnd.jupyter.widget-view+json": {
       "model_id": "7f4d988d8c874278a952451300e53515",
       "version_major": 2,
       "version_minor": 0
      },
      "text/plain": [
       "FigureWidget({\n",
       "    'data': [],\n",
       "    'layout': {'template': '...',\n",
       "               'title': {'text': 'Complex Sig…"
      ]
     },
     "metadata": {},
     "output_type": "display_data"
    },
    {
     "data": {
      "application/vnd.jupyter.widget-view+json": {
       "model_id": "cfe4cb27aaae43f59a3aa5c7fd6bca08",
       "version_major": 2,
       "version_minor": 0
      },
      "text/plain": [
       "FigureWidget({\n",
       "    'data': [{'name': 'Magnitude', 'type': 'scattergl', 'uid': 'f6e26adb-72c1-4db4-ad44-d4d3ed9…"
      ]
     },
     "metadata": {},
     "output_type": "display_data"
    },
    {
     "name": "stderr",
     "output_type": "stream",
     "text": [
      "2024-07-30 21:49:05,992 - root - INFO - SNR: 33.518491438894756, CFO: 0.0, EVM: 9.10685224564669, BER: 0.37234375\n"
     ]
    },
    {
     "name": "stdout",
     "output_type": "stream",
     "text": [
      "Setting DAC NCO to 1200.0 and ADC NCO to -1200.0\n"
     ]
    },
    {
     "name": "stderr",
     "output_type": "stream",
     "text": [
      "Exception ignored in: <function MyRFdc.__del__ at 0xffff723b6040>\n",
      "Traceback (most recent call last):\n",
      "  File \"/mnt/sata_ssd_128g/jupyter_notebooks/zcu216_dev/rfsoc_rfdc/rfdc.py\", line 208, in __del__\n",
      "    self.shutdown_tiles()\n",
      "  File \"/mnt/sata_ssd_128g/jupyter_notebooks/zcu216_dev/rfsoc_rfdc/rfdc.py\", line 258, in shutdown_tiles\n",
      "    tile.Shutdown()\n",
      "AttributeError: 'MyRFdcDACTile' object has no attribute 'Shutdown'\n",
      "2024-07-30 21:49:06,093 - root - INFO - Configuring LMK chip using file LMK04828_250.0.txt at 250.0 MHz\n",
      "2024-07-30 21:49:06,096 - root - INFO - Configuring LMX chip using file LMX2594_500.0.txt at 500.0 MHz\n",
      "2024-07-30 21:49:08,544 - root - INFO - DAC tile 1 (229) is fully powered up!\n",
      "2024-07-30 21:49:09,595 - root - INFO - DAC tile 2 (230) is fully powered up!\n",
      "2024-07-30 21:49:09,597 - root - INFO - DAC tile 0 DAC block 0 is NOT enabled!\n",
      "2024-07-30 21:49:09,602 - root - INFO - DAC tile 0 DAC block 1 is NOT enabled!\n",
      "2024-07-30 21:49:09,614 - root - INFO - DAC tile 0 DAC block 2 is NOT enabled!\n",
      "2024-07-30 21:49:09,617 - root - INFO - DAC tile 0 DAC block 3 is NOT enabled!\n",
      "2024-07-30 21:49:09,652 - root - INFO - DAC tile 1 DAC block 0 is enabled!\n",
      "2024-07-30 21:49:09,655 - root - INFO - DAC tile 1 DAC block 1 is NOT enabled!\n",
      "2024-07-30 21:49:09,658 - root - INFO - DAC tile 1 DAC block 2 is NOT enabled!\n",
      "2024-07-30 21:49:09,661 - root - INFO - DAC tile 1 DAC block 3 is NOT enabled!\n",
      "2024-07-30 21:49:09,694 - root - INFO - DAC tile 2 DAC block 0 is enabled!\n",
      "2024-07-30 21:49:09,696 - root - INFO - DAC tile 2 DAC block 1 is NOT enabled!\n",
      "2024-07-30 21:49:09,699 - root - INFO - DAC tile 2 DAC block 2 is NOT enabled!\n",
      "2024-07-30 21:49:09,702 - root - INFO - DAC tile 2 DAC block 3 is NOT enabled!\n",
      "2024-07-30 21:49:09,705 - root - INFO - DAC tile 3 DAC block 0 is NOT enabled!\n",
      "2024-07-30 21:49:09,708 - root - INFO - DAC tile 3 DAC block 1 is NOT enabled!\n",
      "2024-07-30 21:49:09,711 - root - INFO - DAC tile 3 DAC block 2 is NOT enabled!\n",
      "2024-07-30 21:49:09,714 - root - INFO - DAC tile 3 DAC block 3 is NOT enabled!\n",
      "2024-07-30 21:49:10,734 - root - INFO - ADC tile 1 (225) is fully powered up!\n",
      "2024-07-30 21:49:11,847 - root - INFO - ADC tile 2 (226) is fully powered up!\n",
      "2024-07-30 21:49:11,850 - root - INFO - ADC tile 0 ADC block 0 is NOT enabled!\n",
      "2024-07-30 21:49:11,852 - root - INFO - ADC tile 0 ADC block 1 is NOT enabled!\n",
      "2024-07-30 21:49:11,855 - root - INFO - ADC tile 0 ADC block 2 is NOT enabled!\n",
      "2024-07-30 21:49:11,858 - root - INFO - ADC tile 0 ADC block 3 is NOT enabled!\n",
      "2024-07-30 21:49:11,886 - root - INFO - ADC tile 1 ADC block 0 is enabled!\n",
      "2024-07-30 21:49:11,889 - root - INFO - ADC tile 1 ADC block 1 is NOT enabled!\n",
      "2024-07-30 21:49:11,891 - root - INFO - ADC tile 1 ADC block 2 is NOT enabled!\n",
      "2024-07-30 21:49:11,894 - root - INFO - ADC tile 1 ADC block 3 is NOT enabled!\n",
      "2024-07-30 21:49:11,927 - root - INFO - ADC tile 2 ADC block 0 is enabled!\n",
      "2024-07-30 21:49:11,929 - root - INFO - ADC tile 2 ADC block 1 is NOT enabled!\n",
      "2024-07-30 21:49:11,932 - root - INFO - ADC tile 2 ADC block 2 is NOT enabled!\n",
      "2024-07-30 21:49:11,935 - root - INFO - ADC tile 2 ADC block 3 is NOT enabled!\n",
      "2024-07-30 21:49:11,939 - root - INFO - ADC tile 3 ADC block 0 is NOT enabled!\n",
      "2024-07-30 21:49:11,945 - root - INFO - ADC tile 3 ADC block 1 is NOT enabled!\n",
      "2024-07-30 21:49:11,947 - root - INFO - ADC tile 3 ADC block 2 is NOT enabled!\n",
      "2024-07-30 21:49:11,950 - root - INFO - ADC tile 3 ADC block 3 is NOT enabled!\n"
     ]
    },
    {
     "data": {
      "application/vnd.jupyter.widget-view+json": {
       "model_id": "a9a32acbcc28434b8cda2b38104e1ec2",
       "version_major": 2,
       "version_minor": 0
      },
      "text/plain": [
       "FigureWidget({\n",
       "    'data': [],\n",
       "    'layout': {'template': '...',\n",
       "               'title': {'text': 'Complex Sig…"
      ]
     },
     "metadata": {},
     "output_type": "display_data"
    },
    {
     "data": {
      "application/vnd.jupyter.widget-view+json": {
       "model_id": "d45fd24f1c204549b6602a7f86f3e6c6",
       "version_major": 2,
       "version_minor": 0
      },
      "text/plain": [
       "FigureWidget({\n",
       "    'data': [{'name': 'Magnitude', 'type': 'scattergl', 'uid': '84d039cf-3d70-4d61-94e8-da87279…"
      ]
     },
     "metadata": {},
     "output_type": "display_data"
    },
    {
     "name": "stderr",
     "output_type": "stream",
     "text": [
      "2024-07-30 21:49:28,620 - root - INFO - SNR: 28.707938021293273, CFO: 1.2958406983916575, EVM: 0.040986673251292224, BER: 0.0\n"
     ]
    },
    {
     "name": "stdout",
     "output_type": "stream",
     "text": [
      "Setting DAC NCO to 1400.0 and ADC NCO to -1400.0\n"
     ]
    },
    {
     "name": "stderr",
     "output_type": "stream",
     "text": [
      "Exception ignored in: <function MyRFdc.__del__ at 0xffff723b6040>\n",
      "Traceback (most recent call last):\n",
      "  File \"/mnt/sata_ssd_128g/jupyter_notebooks/zcu216_dev/rfsoc_rfdc/rfdc.py\", line 208, in __del__\n",
      "    self.shutdown_tiles()\n",
      "  File \"/mnt/sata_ssd_128g/jupyter_notebooks/zcu216_dev/rfsoc_rfdc/rfdc.py\", line 258, in shutdown_tiles\n",
      "    tile.Shutdown()\n",
      "AttributeError: 'MyRFdcDACTile' object has no attribute 'Shutdown'\n",
      "2024-07-30 21:49:28,715 - root - INFO - Configuring LMK chip using file LMK04828_250.0.txt at 250.0 MHz\n",
      "2024-07-30 21:49:28,719 - root - INFO - Configuring LMX chip using file LMX2594_500.0.txt at 500.0 MHz\n",
      "2024-07-30 21:49:31,172 - root - INFO - DAC tile 1 (229) is fully powered up!\n",
      "2024-07-30 21:49:32,221 - root - INFO - DAC tile 2 (230) is fully powered up!\n",
      "2024-07-30 21:49:32,224 - root - INFO - DAC tile 0 DAC block 0 is NOT enabled!\n",
      "2024-07-30 21:49:32,228 - root - INFO - DAC tile 0 DAC block 1 is NOT enabled!\n",
      "2024-07-30 21:49:32,230 - root - INFO - DAC tile 0 DAC block 2 is NOT enabled!\n",
      "2024-07-30 21:49:32,233 - root - INFO - DAC tile 0 DAC block 3 is NOT enabled!\n",
      "2024-07-30 21:49:32,260 - root - INFO - DAC tile 1 DAC block 0 is enabled!\n",
      "2024-07-30 21:49:32,262 - root - INFO - DAC tile 1 DAC block 1 is NOT enabled!\n",
      "2024-07-30 21:49:32,265 - root - INFO - DAC tile 1 DAC block 2 is NOT enabled!\n",
      "2024-07-30 21:49:32,268 - root - INFO - DAC tile 1 DAC block 3 is NOT enabled!\n",
      "2024-07-30 21:49:32,300 - root - INFO - DAC tile 2 DAC block 0 is enabled!\n",
      "2024-07-30 21:49:32,303 - root - INFO - DAC tile 2 DAC block 1 is NOT enabled!\n",
      "2024-07-30 21:49:32,305 - root - INFO - DAC tile 2 DAC block 2 is NOT enabled!\n",
      "2024-07-30 21:49:32,308 - root - INFO - DAC tile 2 DAC block 3 is NOT enabled!\n",
      "2024-07-30 21:49:32,311 - root - INFO - DAC tile 3 DAC block 0 is NOT enabled!\n",
      "2024-07-30 21:49:32,314 - root - INFO - DAC tile 3 DAC block 1 is NOT enabled!\n",
      "2024-07-30 21:49:32,317 - root - INFO - DAC tile 3 DAC block 2 is NOT enabled!\n",
      "2024-07-30 21:49:32,320 - root - INFO - DAC tile 3 DAC block 3 is NOT enabled!\n",
      "2024-07-30 21:49:33,434 - root - INFO - ADC tile 1 (225) is fully powered up!\n",
      "2024-07-30 21:49:34,547 - root - INFO - ADC tile 2 (226) is fully powered up!\n",
      "2024-07-30 21:49:34,549 - root - INFO - ADC tile 0 ADC block 0 is NOT enabled!\n",
      "2024-07-30 21:49:34,552 - root - INFO - ADC tile 0 ADC block 1 is NOT enabled!\n",
      "2024-07-30 21:49:34,555 - root - INFO - ADC tile 0 ADC block 2 is NOT enabled!\n",
      "2024-07-30 21:49:34,558 - root - INFO - ADC tile 0 ADC block 3 is NOT enabled!\n",
      "2024-07-30 21:49:34,586 - root - INFO - ADC tile 1 ADC block 0 is enabled!\n",
      "2024-07-30 21:49:34,589 - root - INFO - ADC tile 1 ADC block 1 is NOT enabled!\n",
      "2024-07-30 21:49:34,592 - root - INFO - ADC tile 1 ADC block 2 is NOT enabled!\n",
      "2024-07-30 21:49:34,595 - root - INFO - ADC tile 1 ADC block 3 is NOT enabled!\n",
      "2024-07-30 21:49:34,932 - root - INFO - ADC tile 2 ADC block 0 is enabled!\n",
      "2024-07-30 21:49:34,936 - root - INFO - ADC tile 2 ADC block 1 is NOT enabled!\n",
      "2024-07-30 21:49:34,938 - root - INFO - ADC tile 2 ADC block 2 is NOT enabled!\n",
      "2024-07-30 21:49:34,941 - root - INFO - ADC tile 2 ADC block 3 is NOT enabled!\n",
      "2024-07-30 21:49:34,944 - root - INFO - ADC tile 3 ADC block 0 is NOT enabled!\n",
      "2024-07-30 21:49:34,947 - root - INFO - ADC tile 3 ADC block 1 is NOT enabled!\n",
      "2024-07-30 21:49:34,950 - root - INFO - ADC tile 3 ADC block 2 is NOT enabled!\n",
      "2024-07-30 21:49:34,953 - root - INFO - ADC tile 3 ADC block 3 is NOT enabled!\n"
     ]
    },
    {
     "data": {
      "application/vnd.jupyter.widget-view+json": {
       "model_id": "1168fd154752452098b92cc1431f2818",
       "version_major": 2,
       "version_minor": 0
      },
      "text/plain": [
       "FigureWidget({\n",
       "    'data': [],\n",
       "    'layout': {'template': '...',\n",
       "               'title': {'text': 'Complex Sig…"
      ]
     },
     "metadata": {},
     "output_type": "display_data"
    },
    {
     "data": {
      "application/vnd.jupyter.widget-view+json": {
       "model_id": "f44ec529115d4ad39207c865825935de",
       "version_major": 2,
       "version_minor": 0
      },
      "text/plain": [
       "FigureWidget({\n",
       "    'data': [{'name': 'Magnitude', 'type': 'scattergl', 'uid': 'cd166d2f-86f6-414e-b94e-86566f9…"
      ]
     },
     "metadata": {},
     "output_type": "display_data"
    },
    {
     "name": "stderr",
     "output_type": "stream",
     "text": [
      "2024-07-30 21:49:51,419 - root - INFO - SNR: 24.846244774442038, CFO: -307.507140487437, EVM: 0.06876069784986347, BER: 0.0\n"
     ]
    },
    {
     "name": "stdout",
     "output_type": "stream",
     "text": [
      "Setting DAC NCO to 1600.0 and ADC NCO to -1600.0\n"
     ]
    },
    {
     "name": "stderr",
     "output_type": "stream",
     "text": [
      "Exception ignored in: <function MyRFdc.__del__ at 0xffff723b6040>\n",
      "Traceback (most recent call last):\n",
      "  File \"/mnt/sata_ssd_128g/jupyter_notebooks/zcu216_dev/rfsoc_rfdc/rfdc.py\", line 208, in __del__\n",
      "    self.shutdown_tiles()\n",
      "  File \"/mnt/sata_ssd_128g/jupyter_notebooks/zcu216_dev/rfsoc_rfdc/rfdc.py\", line 258, in shutdown_tiles\n",
      "    tile.Shutdown()\n",
      "AttributeError: 'MyRFdcDACTile' object has no attribute 'Shutdown'\n",
      "2024-07-30 21:49:51,521 - root - INFO - Configuring LMK chip using file LMK04828_250.0.txt at 250.0 MHz\n",
      "2024-07-30 21:49:51,524 - root - INFO - Configuring LMX chip using file LMX2594_500.0.txt at 500.0 MHz\n",
      "2024-07-30 21:49:53,976 - root - INFO - DAC tile 1 (229) is fully powered up!\n",
      "2024-07-30 21:49:55,025 - root - INFO - DAC tile 2 (230) is fully powered up!\n",
      "2024-07-30 21:49:55,028 - root - INFO - DAC tile 0 DAC block 0 is NOT enabled!\n",
      "2024-07-30 21:49:55,030 - root - INFO - DAC tile 0 DAC block 1 is NOT enabled!\n",
      "2024-07-30 21:49:55,033 - root - INFO - DAC tile 0 DAC block 2 is NOT enabled!\n",
      "2024-07-30 21:49:55,035 - root - INFO - DAC tile 0 DAC block 3 is NOT enabled!\n",
      "2024-07-30 21:49:55,062 - root - INFO - DAC tile 1 DAC block 0 is enabled!\n",
      "2024-07-30 21:49:55,065 - root - INFO - DAC tile 1 DAC block 1 is NOT enabled!\n",
      "2024-07-30 21:49:55,068 - root - INFO - DAC tile 1 DAC block 2 is NOT enabled!\n",
      "2024-07-30 21:49:55,072 - root - INFO - DAC tile 1 DAC block 3 is NOT enabled!\n",
      "2024-07-30 21:49:55,103 - root - INFO - DAC tile 2 DAC block 0 is enabled!\n",
      "2024-07-30 21:49:55,106 - root - INFO - DAC tile 2 DAC block 1 is NOT enabled!\n",
      "2024-07-30 21:49:55,108 - root - INFO - DAC tile 2 DAC block 2 is NOT enabled!\n",
      "2024-07-30 21:49:55,111 - root - INFO - DAC tile 2 DAC block 3 is NOT enabled!\n",
      "2024-07-30 21:49:55,114 - root - INFO - DAC tile 3 DAC block 0 is NOT enabled!\n",
      "2024-07-30 21:49:55,116 - root - INFO - DAC tile 3 DAC block 1 is NOT enabled!\n",
      "2024-07-30 21:49:55,119 - root - INFO - DAC tile 3 DAC block 2 is NOT enabled!\n",
      "2024-07-30 21:49:55,121 - root - INFO - DAC tile 3 DAC block 3 is NOT enabled!\n",
      "2024-07-30 21:49:56,142 - root - INFO - ADC tile 1 (225) is fully powered up!\n",
      "2024-07-30 21:49:57,254 - root - INFO - ADC tile 2 (226) is fully powered up!\n",
      "2024-07-30 21:49:57,257 - root - INFO - ADC tile 0 ADC block 0 is NOT enabled!\n",
      "2024-07-30 21:49:57,260 - root - INFO - ADC tile 0 ADC block 1 is NOT enabled!\n",
      "2024-07-30 21:49:57,263 - root - INFO - ADC tile 0 ADC block 2 is NOT enabled!\n",
      "2024-07-30 21:49:57,266 - root - INFO - ADC tile 0 ADC block 3 is NOT enabled!\n",
      "2024-07-30 21:49:57,292 - root - INFO - ADC tile 1 ADC block 0 is enabled!\n",
      "2024-07-30 21:49:57,295 - root - INFO - ADC tile 1 ADC block 1 is NOT enabled!\n",
      "2024-07-30 21:49:57,297 - root - INFO - ADC tile 1 ADC block 2 is NOT enabled!\n",
      "2024-07-30 21:49:57,300 - root - INFO - ADC tile 1 ADC block 3 is NOT enabled!\n",
      "2024-07-30 21:49:57,332 - root - INFO - ADC tile 2 ADC block 0 is enabled!\n",
      "2024-07-30 21:49:57,335 - root - INFO - ADC tile 2 ADC block 1 is NOT enabled!\n",
      "2024-07-30 21:49:57,337 - root - INFO - ADC tile 2 ADC block 2 is NOT enabled!\n",
      "2024-07-30 21:49:57,340 - root - INFO - ADC tile 2 ADC block 3 is NOT enabled!\n",
      "2024-07-30 21:49:57,343 - root - INFO - ADC tile 3 ADC block 0 is NOT enabled!\n",
      "2024-07-30 21:49:57,345 - root - INFO - ADC tile 3 ADC block 1 is NOT enabled!\n",
      "2024-07-30 21:49:57,348 - root - INFO - ADC tile 3 ADC block 2 is NOT enabled!\n",
      "2024-07-30 21:49:57,351 - root - INFO - ADC tile 3 ADC block 3 is NOT enabled!\n"
     ]
    },
    {
     "data": {
      "application/vnd.jupyter.widget-view+json": {
       "model_id": "8d6178414fff42abba31d0c9bf3aefd9",
       "version_major": 2,
       "version_minor": 0
      },
      "text/plain": [
       "FigureWidget({\n",
       "    'data': [],\n",
       "    'layout': {'template': '...',\n",
       "               'title': {'text': 'Complex Sig…"
      ]
     },
     "metadata": {},
     "output_type": "display_data"
    },
    {
     "data": {
      "application/vnd.jupyter.widget-view+json": {
       "model_id": "60eca10a332d4b93a1a947672338e583",
       "version_major": 2,
       "version_minor": 0
      },
      "text/plain": [
       "FigureWidget({\n",
       "    'data': [{'name': 'Magnitude', 'type': 'scattergl', 'uid': 'ce513aa9-77c5-4bd5-8e01-06f6071…"
      ]
     },
     "metadata": {},
     "output_type": "display_data"
    },
    {
     "name": "stderr",
     "output_type": "stream",
     "text": [
      "Exception in thread Thread-288:\n",
      "Traceback (most recent call last):\n",
      "  File \"/usr/lib/python3.8/threading.py\", line 932, in _bootstrap_inner\n",
      "    self.run()\n",
      "  File \"/usr/lib/python3.8/threading.py\", line 870, in run\n",
      "    self._target(*self._args, **self._kwargs)\n",
      "  File \"/mnt/sata_ssd_128g/jupyter_notebooks/zcu216_dev/rfsoc_rfdc/receiver/single_ch_rx_task.py\", line 130, in run\n",
      "    packet_rx, snr, cfo = DETECTION_SCHEME.proc_rx(wave_rx)\n",
      "  File \"/mnt/sata_ssd_128g/jupyter_notebooks/zcu216_dev/rfsoc_rfdc/dsp/detection.py\", line 123, in proc_rx\n",
      "    offset_list, corr_list = self._zadoff_detection(\n",
      "  File \"/mnt/sata_ssd_128g/jupyter_notebooks/zcu216_dev/rfsoc_rfdc/dsp/detection.py\", line 79, in _zadoff_detection\n",
      "    if corr < np.max(corr_all[offset - neighbor - 1:offset - 1]):\n",
      "  File \"<__array_function__ internals>\", line 5, in amax\n",
      "  File \"/usr/local/share/pynq-venv/lib/python3.8/site-packages/numpy/core/fromnumeric.py\", line 2733, in amax\n",
      "    return _wrapreduction(a, np.maximum, 'max', axis, None, out,\n",
      "  File \"/usr/local/share/pynq-venv/lib/python3.8/site-packages/numpy/core/fromnumeric.py\", line 87, in _wrapreduction\n",
      "    return ufunc.reduce(obj, axis, dtype, out, **passkwargs)\n",
      "ValueError: zero-size array to reduction operation maximum which has no identity\n"
     ]
    },
    {
     "name": "stdout",
     "output_type": "stream",
     "text": [
      "Setting DAC NCO to 1800.0 and ADC NCO to -1800.0\n"
     ]
    },
    {
     "name": "stderr",
     "output_type": "stream",
     "text": [
      "Exception ignored in: <function MyRFdc.__del__ at 0xffff723b6040>\n",
      "Traceback (most recent call last):\n",
      "  File \"/mnt/sata_ssd_128g/jupyter_notebooks/zcu216_dev/rfsoc_rfdc/rfdc.py\", line 208, in __del__\n",
      "    self.shutdown_tiles()\n",
      "  File \"/mnt/sata_ssd_128g/jupyter_notebooks/zcu216_dev/rfsoc_rfdc/rfdc.py\", line 258, in shutdown_tiles\n",
      "    tile.Shutdown()\n",
      "AttributeError: 'MyRFdcDACTile' object has no attribute 'Shutdown'\n",
      "2024-07-30 21:50:06,150 - root - INFO - Configuring LMK chip using file LMK04828_250.0.txt at 250.0 MHz\n",
      "2024-07-30 21:50:06,154 - root - INFO - Configuring LMX chip using file LMX2594_500.0.txt at 500.0 MHz\n",
      "2024-07-30 21:50:08,601 - root - INFO - DAC tile 1 (229) is fully powered up!\n",
      "2024-07-30 21:50:09,650 - root - INFO - DAC tile 2 (230) is fully powered up!\n",
      "2024-07-30 21:50:09,653 - root - INFO - DAC tile 0 DAC block 0 is NOT enabled!\n",
      "2024-07-30 21:50:09,656 - root - INFO - DAC tile 0 DAC block 1 is NOT enabled!\n",
      "2024-07-30 21:50:09,659 - root - INFO - DAC tile 0 DAC block 2 is NOT enabled!\n",
      "2024-07-30 21:50:09,662 - root - INFO - DAC tile 0 DAC block 3 is NOT enabled!\n",
      "2024-07-30 21:50:09,689 - root - INFO - DAC tile 1 DAC block 0 is enabled!\n",
      "2024-07-30 21:50:09,691 - root - INFO - DAC tile 1 DAC block 1 is NOT enabled!\n",
      "2024-07-30 21:50:09,694 - root - INFO - DAC tile 1 DAC block 2 is NOT enabled!\n",
      "2024-07-30 21:50:09,697 - root - INFO - DAC tile 1 DAC block 3 is NOT enabled!\n",
      "2024-07-30 21:50:09,730 - root - INFO - DAC tile 2 DAC block 0 is enabled!\n",
      "2024-07-30 21:50:09,733 - root - INFO - DAC tile 2 DAC block 1 is NOT enabled!\n",
      "2024-07-30 21:50:09,736 - root - INFO - DAC tile 2 DAC block 2 is NOT enabled!\n",
      "2024-07-30 21:50:09,739 - root - INFO - DAC tile 2 DAC block 3 is NOT enabled!\n",
      "2024-07-30 21:50:09,742 - root - INFO - DAC tile 3 DAC block 0 is NOT enabled!\n",
      "2024-07-30 21:50:09,745 - root - INFO - DAC tile 3 DAC block 1 is NOT enabled!\n",
      "2024-07-30 21:50:09,748 - root - INFO - DAC tile 3 DAC block 2 is NOT enabled!\n",
      "2024-07-30 21:50:09,751 - root - INFO - DAC tile 3 DAC block 3 is NOT enabled!\n",
      "2024-07-30 21:50:10,864 - root - INFO - ADC tile 1 (225) is fully powered up!\n",
      "2024-07-30 21:50:11,978 - root - INFO - ADC tile 2 (226) is fully powered up!\n",
      "2024-07-30 21:50:11,981 - root - INFO - ADC tile 0 ADC block 0 is NOT enabled!\n",
      "2024-07-30 21:50:11,984 - root - INFO - ADC tile 0 ADC block 1 is NOT enabled!\n",
      "2024-07-30 21:50:11,987 - root - INFO - ADC tile 0 ADC block 2 is NOT enabled!\n",
      "2024-07-30 21:50:11,990 - root - INFO - ADC tile 0 ADC block 3 is NOT enabled!\n",
      "2024-07-30 21:50:12,017 - root - INFO - ADC tile 1 ADC block 0 is enabled!\n",
      "2024-07-30 21:50:12,019 - root - INFO - ADC tile 1 ADC block 1 is NOT enabled!\n",
      "2024-07-30 21:50:12,022 - root - INFO - ADC tile 1 ADC block 2 is NOT enabled!\n",
      "2024-07-30 21:50:12,025 - root - INFO - ADC tile 1 ADC block 3 is NOT enabled!\n",
      "2024-07-30 21:50:12,059 - root - INFO - ADC tile 2 ADC block 0 is enabled!\n",
      "2024-07-30 21:50:12,062 - root - INFO - ADC tile 2 ADC block 1 is NOT enabled!\n",
      "2024-07-30 21:50:12,065 - root - INFO - ADC tile 2 ADC block 2 is NOT enabled!\n",
      "2024-07-30 21:50:12,068 - root - INFO - ADC tile 2 ADC block 3 is NOT enabled!\n",
      "2024-07-30 21:50:12,071 - root - INFO - ADC tile 3 ADC block 0 is NOT enabled!\n",
      "2024-07-30 21:50:12,074 - root - INFO - ADC tile 3 ADC block 1 is NOT enabled!\n",
      "2024-07-30 21:50:12,077 - root - INFO - ADC tile 3 ADC block 2 is NOT enabled!\n",
      "2024-07-30 21:50:12,080 - root - INFO - ADC tile 3 ADC block 3 is NOT enabled!\n"
     ]
    },
    {
     "data": {
      "application/vnd.jupyter.widget-view+json": {
       "model_id": "a13f8bd125ac43e9956ba9b457e1f826",
       "version_major": 2,
       "version_minor": 0
      },
      "text/plain": [
       "FigureWidget({\n",
       "    'data': [],\n",
       "    'layout': {'template': '...',\n",
       "               'title': {'text': 'Complex Sig…"
      ]
     },
     "metadata": {},
     "output_type": "display_data"
    },
    {
     "data": {
      "application/vnd.jupyter.widget-view+json": {
       "model_id": "0c291f28a3a04981a9e0f49119ebfa9a",
       "version_major": 2,
       "version_minor": 0
      },
      "text/plain": [
       "FigureWidget({\n",
       "    'data': [{'name': 'Magnitude', 'type': 'scattergl', 'uid': 'a7a65591-6470-4131-a181-632c662…"
      ]
     },
     "metadata": {},
     "output_type": "display_data"
    },
    {
     "name": "stderr",
     "output_type": "stream",
     "text": [
      "2024-07-30 21:50:28,579 - root - INFO - SNR: 28.626395893967576, CFO: 209.44732539261804, EVM: 0.042017115590483156, BER: 0.0\n"
     ]
    },
    {
     "name": "stdout",
     "output_type": "stream",
     "text": [
      "Setting DAC NCO to 2000.0 and ADC NCO to -2000.0\n"
     ]
    },
    {
     "name": "stderr",
     "output_type": "stream",
     "text": [
      "Exception ignored in: <function MyRFdc.__del__ at 0xffff723b6040>\n",
      "Traceback (most recent call last):\n",
      "  File \"/mnt/sata_ssd_128g/jupyter_notebooks/zcu216_dev/rfsoc_rfdc/rfdc.py\", line 208, in __del__\n",
      "    self.shutdown_tiles()\n",
      "  File \"/mnt/sata_ssd_128g/jupyter_notebooks/zcu216_dev/rfsoc_rfdc/rfdc.py\", line 258, in shutdown_tiles\n",
      "    tile.Shutdown()\n",
      "AttributeError: 'MyRFdcDACTile' object has no attribute 'Shutdown'\n",
      "2024-07-30 21:50:28,670 - root - INFO - Configuring LMK chip using file LMK04828_250.0.txt at 250.0 MHz\n",
      "2024-07-30 21:50:28,674 - root - INFO - Configuring LMX chip using file LMX2594_500.0.txt at 500.0 MHz\n",
      "2024-07-30 21:50:31,128 - root - INFO - DAC tile 1 (229) is fully powered up!\n",
      "2024-07-30 21:50:32,177 - root - INFO - DAC tile 2 (230) is fully powered up!\n",
      "2024-07-30 21:50:32,180 - root - INFO - DAC tile 0 DAC block 0 is NOT enabled!\n",
      "2024-07-30 21:50:32,183 - root - INFO - DAC tile 0 DAC block 1 is NOT enabled!\n",
      "2024-07-30 21:50:32,187 - root - INFO - DAC tile 0 DAC block 2 is NOT enabled!\n",
      "2024-07-30 21:50:32,190 - root - INFO - DAC tile 0 DAC block 3 is NOT enabled!\n",
      "2024-07-30 21:50:32,215 - root - INFO - DAC tile 1 DAC block 0 is enabled!\n",
      "2024-07-30 21:50:32,218 - root - INFO - DAC tile 1 DAC block 1 is NOT enabled!\n",
      "2024-07-30 21:50:32,220 - root - INFO - DAC tile 1 DAC block 2 is NOT enabled!\n",
      "2024-07-30 21:50:32,223 - root - INFO - DAC tile 1 DAC block 3 is NOT enabled!\n",
      "2024-07-30 21:50:32,254 - root - INFO - DAC tile 2 DAC block 0 is enabled!\n",
      "2024-07-30 21:50:32,257 - root - INFO - DAC tile 2 DAC block 1 is NOT enabled!\n",
      "2024-07-30 21:50:32,260 - root - INFO - DAC tile 2 DAC block 2 is NOT enabled!\n",
      "2024-07-30 21:50:32,263 - root - INFO - DAC tile 2 DAC block 3 is NOT enabled!\n",
      "2024-07-30 21:50:32,265 - root - INFO - DAC tile 3 DAC block 0 is NOT enabled!\n",
      "2024-07-30 21:50:32,268 - root - INFO - DAC tile 3 DAC block 1 is NOT enabled!\n",
      "2024-07-30 21:50:32,270 - root - INFO - DAC tile 3 DAC block 2 is NOT enabled!\n",
      "2024-07-30 21:50:32,273 - root - INFO - DAC tile 3 DAC block 3 is NOT enabled!\n",
      "2024-07-30 21:50:33,293 - root - INFO - ADC tile 1 (225) is fully powered up!\n",
      "2024-07-30 21:50:34,406 - root - INFO - ADC tile 2 (226) is fully powered up!\n",
      "2024-07-30 21:50:34,409 - root - INFO - ADC tile 0 ADC block 0 is NOT enabled!\n",
      "2024-07-30 21:50:34,412 - root - INFO - ADC tile 0 ADC block 1 is NOT enabled!\n",
      "2024-07-30 21:50:34,415 - root - INFO - ADC tile 0 ADC block 2 is NOT enabled!\n",
      "2024-07-30 21:50:34,418 - root - INFO - ADC tile 0 ADC block 3 is NOT enabled!\n",
      "2024-07-30 21:50:34,443 - root - INFO - ADC tile 1 ADC block 0 is enabled!\n",
      "2024-07-30 21:50:34,446 - root - INFO - ADC tile 1 ADC block 1 is NOT enabled!\n",
      "2024-07-30 21:50:34,448 - root - INFO - ADC tile 1 ADC block 2 is NOT enabled!\n",
      "2024-07-30 21:50:34,451 - root - INFO - ADC tile 1 ADC block 3 is NOT enabled!\n",
      "2024-07-30 21:50:34,486 - root - INFO - ADC tile 2 ADC block 0 is enabled!\n",
      "2024-07-30 21:50:34,490 - root - INFO - ADC tile 2 ADC block 1 is NOT enabled!\n",
      "2024-07-30 21:50:34,493 - root - INFO - ADC tile 2 ADC block 2 is NOT enabled!\n",
      "2024-07-30 21:50:34,496 - root - INFO - ADC tile 2 ADC block 3 is NOT enabled!\n",
      "2024-07-30 21:50:34,498 - root - INFO - ADC tile 3 ADC block 0 is NOT enabled!\n",
      "2024-07-30 21:50:34,501 - root - INFO - ADC tile 3 ADC block 1 is NOT enabled!\n",
      "2024-07-30 21:50:34,504 - root - INFO - ADC tile 3 ADC block 2 is NOT enabled!\n",
      "2024-07-30 21:50:34,507 - root - INFO - ADC tile 3 ADC block 3 is NOT enabled!\n"
     ]
    },
    {
     "data": {
      "application/vnd.jupyter.widget-view+json": {
       "model_id": "2690a20c68be4a2a92f6bca6f5ab0d5d",
       "version_major": 2,
       "version_minor": 0
      },
      "text/plain": [
       "FigureWidget({\n",
       "    'data': [],\n",
       "    'layout': {'template': '...',\n",
       "               'title': {'text': 'Complex Sig…"
      ]
     },
     "metadata": {},
     "output_type": "display_data"
    },
    {
     "data": {
      "application/vnd.jupyter.widget-view+json": {
       "model_id": "5cc63ebe33384efdb9da01d9d9bb0b20",
       "version_major": 2,
       "version_minor": 0
      },
      "text/plain": [
       "FigureWidget({\n",
       "    'data': [{'name': 'Magnitude', 'type': 'scattergl', 'uid': '46f23ff2-bdf7-4c4f-b315-f945f29…"
      ]
     },
     "metadata": {},
     "output_type": "display_data"
    },
    {
     "name": "stderr",
     "output_type": "stream",
     "text": [
      "2024-07-30 21:50:51,386 - root - INFO - SNR: 18.09707769096423, CFO: 0.0, EVM: 0.7604018111547841, BER: 0.379375\n"
     ]
    }
   ],
   "source": [
    "import numpy as np\n",
    "\n",
    "for nco in np.arange(1000.0, 2200.0, 200.0):\n",
    "    NEW_CONFIG['DACNCO'] = nco\n",
    "    NEW_CONFIG['ADCNCO'] = -nco\n",
    "    NEW_CONFIG['CONFIG_NAME'] = \"rfsoc_rfdc_v39_100M_\" + str(nco)\n",
    "    print(f\"Setting DAC NCO to {nco} and ADC NCO to {-nco}\")\n",
    "    ZCU216_CONFIG.update(NEW_CONFIG)\n",
    "\n",
    "    rfdc_t = RfdcTask(ol)\n",
    "\n",
    "    for task in [rfdc_t]:\n",
    "        task.start()\n",
    "        task.join()\n",
    "    \n",
    "    led_t = BlinkLedTask(ol)\n",
    "    tx_t = SingleChTxTask(ol)\n",
    "    rx_t = SingleChRxTask(ol)\n",
    "\n",
    "    parallel_task = [led_t, tx_t, rx_t]\n",
    "    for task in parallel_task:\n",
    "        task.start()\n",
    "\n",
    "    time.sleep(5)\n",
    "\n",
    "    for task in parallel_task:\n",
    "        task.stop()"
   ]
  }
 ],
 "metadata": {
  "kernelspec": {
   "display_name": "Python 3",
   "language": "python",
   "name": "python3"
  },
  "language_info": {
   "codemirror_mode": {
    "name": "ipython",
    "version": 3
   },
   "file_extension": ".py",
   "mimetype": "text/x-python",
   "name": "python",
   "nbconvert_exporter": "python",
   "pygments_lexer": "ipython3",
   "version": "3.8.2"
  }
 },
 "nbformat": 4,
 "nbformat_minor": 5
}
