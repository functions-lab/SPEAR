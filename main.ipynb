{
 "cells": [
  {
   "cell_type": "code",
   "execution_count": null,
   "id": "43e0f9e0",
   "metadata": {},
   "outputs": [],
   "source": [
    "%matplotlib notebook\n",
    "from rfsoc_rfdc.rfsoc_overlay import RFSoCOverlay\n",
    "from rfsoc_rfdc.overlay_task import OverlayTask\n",
    "from rfsoc_rfdc.overlay_task import BlinkLedTask\n",
    "\n",
    "from rfsoc_rfdc.single_ch_transmitter_task import SingleChannelTransmitterTask\n",
    "from rfsoc_rfdc.single_ch_receiver_task import SingleChannelReceiverTask\n",
    "\n",
    "from rfsoc_rfdc.multi_ch_transmitter_task import MultiChannelTransmitterTask\n",
    "from rfsoc_rfdc.multi_ch_receiver_task import MultiChannelSingleChannelReceiverTask\n",
    "\n",
    "from rfsoc_rfdc.rfdc_task import RfdcTask \n",
    "from rfsoc_rfdc.cmac_task import CmacTask\n",
    "\n",
    "ol = RFSoCOverlay()"
   ]
  },
  {
   "cell_type": "code",
   "execution_count": null,
   "id": "60a704a2",
   "metadata": {
    "scrolled": true
   },
   "outputs": [],
   "source": [
    "import sys\n",
    "import os\n",
    "\n",
    "def validate_arguments(waveform_path, dac_samp_rate, adc_samp_rate, carrier_freq):\n",
    "    if not os.path.exists(waveform_path):\n",
    "        raise FileNotFoundError(f\"The specified waveform file '{waveform_path}' does not exist.\")\n",
    "    try:\n",
    "        dac_samp_rate, adc_samp_rate = int(dac_samp_rate), int(adc_samp_rate)\n",
    "        carrier_freq = int(carrier_freq)\n",
    "    except ValueError:\n",
    "        raise ValueError(\"DAC/ADC sampling rate and carrier frequency must be integers.\")\n",
    "    if dac_samp_rate < 500e6 or dac_samp_rate > 10e9:\n",
    "        raise ValueError(\"DAC sampling rate ranges from 500MHz to 10GHz.\")\n",
    "    if adc_samp_rate < 500e6 or adc_samp_rate > 2.5e9:\n",
    "        raise ValueError(\"DAC sampling rate ranges from 500MHz to 2.5GHz.\")\n",
    "    return True\n",
    "\n",
    "matlab_waveform = \"./wave_files/Tx.mat\"\n",
    "dac_samp_rate, adc_samp_rate = 2e9, 2e9\n",
    "carrier_freq = 0\n",
    "\n",
    "try:\n",
    "    if validate_arguments(matlab_waveform, dac_samp_rate, adc_samp_rate, carrier_freq):\n",
    "        print(\"Arguments validated successfully.\")\n",
    "except Exception as e:\n",
    "    print(f\"Error: {e}\")\n",
    "    sys.exit(1)\n",
    "\n",
    "rfdc_t = RfdcTask(ol, dac_samp_rate, adc_samp_rate, carrier_freq)\n",
    "# cmac_t = CmacTask(ol)\n",
    "led_t = BlinkLedTask(ol)\n",
    "tx_t = SingleChannelTransmitterTask(ol, matlab_waveform)\n",
    "# tx_t = MultiChannelTransmitterTask(ol)\n",
    "rx_t = SingleChannelReceiverTask(ol)\n",
    "# rx_t = MultiChannelSingleChannelReceiverTask(ol)\n",
    "\n",
    "for task in [rfdc_t]:\n",
    "    task.start()\n",
    "    task.join()\n",
    "\n",
    "parallel_task = [led_t, tx_t, rx_t]\n",
    "for task in parallel_task:\n",
    "    task.start()\n",
    "for task in parallel_task:\n",
    "    task.join()"
   ]
  },
  {
   "cell_type": "code",
   "execution_count": null,
   "id": "9c9f3add",
   "metadata": {},
   "outputs": [],
   "source": []
  }
 ],
 "metadata": {
  "kernelspec": {
   "display_name": "Python 3",
   "language": "python",
   "name": "python3"
  },
  "language_info": {
   "codemirror_mode": {
    "name": "ipython",
    "version": 3
   },
   "file_extension": ".py",
   "mimetype": "text/x-python",
   "name": "python",
   "nbconvert_exporter": "python",
   "pygments_lexer": "ipython3",
   "version": "3.8.2"
  }
 },
 "nbformat": 4,
 "nbformat_minor": 5
}
