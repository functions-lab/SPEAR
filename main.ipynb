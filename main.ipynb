{
 "cells": [
  {
   "cell_type": "code",
   "execution_count": 1,
   "id": "43e0f9e0",
   "metadata": {},
   "outputs": [
    {
     "data": {
      "application/javascript": [
       "\n",
       "try {\n",
       "require(['notebook/js/codecell'], function(codecell) {\n",
       "  codecell.CodeCell.options_default.highlight_modes[\n",
       "      'magic_text/x-csrc'] = {'reg':[/^%%microblaze/]};\n",
       "  Jupyter.notebook.events.one('kernel_ready.Kernel', function(){\n",
       "      Jupyter.notebook.get_cells().map(function(cell){\n",
       "          if (cell.cell_type == 'code'){ cell.auto_highlight(); } }) ;\n",
       "  });\n",
       "});\n",
       "} catch (e) {};\n"
      ]
     },
     "metadata": {},
     "output_type": "display_data"
    },
    {
     "data": {
      "application/javascript": [
       "\n",
       "try {\n",
       "require(['notebook/js/codecell'], function(codecell) {\n",
       "  codecell.CodeCell.options_default.highlight_modes[\n",
       "      'magic_text/x-csrc'] = {'reg':[/^%%pybind11/]};\n",
       "  Jupyter.notebook.events.one('kernel_ready.Kernel', function(){\n",
       "      Jupyter.notebook.get_cells().map(function(cell){\n",
       "          if (cell.cell_type == 'code'){ cell.auto_highlight(); } }) ;\n",
       "  });\n",
       "});\n",
       "} catch (e) {};\n"
      ]
     },
     "metadata": {},
     "output_type": "display_data"
    }
   ],
   "source": [
    "from rfsoc_rfdc.rfsoc_overlay import RFSoCOverlay\n",
    "from rfsoc_rfdc.overlay_task import OverlayTask, RfdcTask, BlinkLedTask\n",
    "from rfsoc_rfdc.overlay_task import TransmitterTask, ReceiverTask\n",
    "\n",
    "ol = RFSoCOverlay(\"./rfsoc_rfdc_v9.bit\")"
   ]
  },
  {
   "cell_type": "code",
   "execution_count": null,
   "id": "60a704a2",
   "metadata": {},
   "outputs": [],
   "source": [
    "class TaskManager:\n",
    "    def __init__(self):\n",
    "        rfdc_t = RfdcTask(ol)\n",
    "        led_t = BlinkLedTask(ol)\n",
    "        tx_t = TransmitterTask(ol)\n",
    "        rx_t = ReceiverTask(ol)\n",
    "\n",
    "        self.sequential_t = [rfdc_t]\n",
    "        self.parallel_t = [tx_t, led_t, rx_t]\n",
    "        \n",
    "    def execute_all(self):\n",
    "        \n",
    "        # Run all sequential tasks\n",
    "        for seq_t in self.sequential_t:\n",
    "            seq_t.start()\n",
    "            seq_t.join()\n",
    "\n",
    "        for para_t in self.parallel_t:\n",
    "            para_t.start()\n",
    "        \n",
    "        for para_t in self.parallel_t:\n",
    "            para_t.join()\n",
    "\n",
    "t = TaskManager()\n",
    "t.execute_all()"
   ]
  }
 ],
 "metadata": {
  "kernelspec": {
   "display_name": "Python 3",
   "language": "python",
   "name": "python3"
  },
  "language_info": {
   "codemirror_mode": {
    "name": "ipython",
    "version": 3
   },
   "file_extension": ".py",
   "mimetype": "text/x-python",
   "name": "python",
   "nbconvert_exporter": "python",
   "pygments_lexer": "ipython3",
   "version": "3.8.2"
  }
 },
 "nbformat": 4,
 "nbformat_minor": 5
}
