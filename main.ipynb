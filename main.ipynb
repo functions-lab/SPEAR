{
 "cells": [
  {
   "cell_type": "code",
   "execution_count": null,
   "id": "43e0f9e0",
   "metadata": {},
   "outputs": [],
   "source": [
    "%matplotlib notebook\n",
    "from rfsoc_rfdc.rfsoc_overlay import RFSoCOverlay\n",
    "from rfsoc_rfdc.overlay_task import OverlayTask, BlinkLedTask\n",
    "from rfsoc_rfdc.transmitter_task import TransmitterTask\n",
    "from rfsoc_rfdc.receiver_task import ReceiverTask\n",
    "from rfsoc_rfdc.rfdc_task import RfdcTask \n",
    "\n",
    "ol = RFSoCOverlay()"
   ]
  },
  {
   "cell_type": "code",
   "execution_count": null,
   "id": "60a704a2",
   "metadata": {
    "scrolled": true
   },
   "outputs": [],
   "source": [
    "class TaskManager:\n",
    "    def __init__(self):\n",
    "        rfdc_t = RfdcTask(ol)\n",
    "        led_t = BlinkLedTask(ol)\n",
    "        tx_t = TransmitterTask(ol)\n",
    "        rx_t = ReceiverTask(ol)\n",
    "\n",
    "        self.sequential_t = [rfdc_t]\n",
    "        self.parallel_t = [led_t, tx_t, rx_t]\n",
    "        \n",
    "    def execute_all(self):\n",
    "        \n",
    "        # Run all sequential tasks\n",
    "        for seq_t in self.sequential_t:\n",
    "            seq_t.start()\n",
    "            seq_t.join()\n",
    "\n",
    "        for para_t in self.parallel_t:\n",
    "            para_t.start()\n",
    "        \n",
    "        for para_t in self.parallel_t:\n",
    "            para_t.join()\n",
    "\n",
    "t = TaskManager()\n",
    "t.execute_all()"
   ]
  },
  {
   "cell_type": "code",
   "execution_count": null,
   "id": "9c9f3add",
   "metadata": {},
   "outputs": [],
   "source": []
  }
 ],
 "metadata": {
  "kernelspec": {
   "display_name": "Python 3",
   "language": "python",
   "name": "python3"
  },
  "language_info": {
   "codemirror_mode": {
    "name": "ipython",
    "version": 3
   },
   "file_extension": ".py",
   "mimetype": "text/x-python",
   "name": "python",
   "nbconvert_exporter": "python",
   "pygments_lexer": "ipython3",
   "version": "3.8.2"
  }
 },
 "nbformat": 4,
 "nbformat_minor": 5
}
