{
 "cells": [
  {
   "cell_type": "code",
   "execution_count": 2,
   "id": "43e0f9e0",
   "metadata": {},
   "outputs": [],
   "source": [
    "%matplotlib notebook\n",
    "from rfsoc_rfdc.rfsoc_overlay import RFSoCOverlay\n",
    "from rfsoc_rfdc.overlay_task import OverlayTask\n",
    "from rfsoc_rfdc.overlay_task import BlinkLedTask\n",
    "\n",
    "from rfsoc_rfdc.transmitter.single_ch_tx_task import SingleChTxTask\n",
    "from rfsoc_rfdc.receiver.single_ch_rx_task import SingleChRxTask\n",
    "\n",
    "from rfsoc_rfdc.transmitter.multi_ch_tx_task import MultiChTxTask\n",
    "from rfsoc_rfdc.receiver.multi_ch_rx_task import MultiChRxTask\n",
    "\n",
    "from rfsoc_rfdc.rfdc_task import RfdcTask \n",
    "from rfsoc_rfdc.cmac_task import CmacTask\n",
    "from rfsoc_rfdc.rfdc_config import ZCU216_CONFIG\n",
    "\n",
    "import sys\n",
    "import os\n",
    "import time"
   ]
  },
  {
   "cell_type": "code",
   "execution_count": 3,
   "id": "f546283e",
   "metadata": {},
   "outputs": [
    {
     "name": "stdout",
     "output_type": "stream",
     "text": [
      "adc_datapath/t226/data_mover_ctrl\n",
      "adc_datapath/t226/fifo_count\n",
      "axi_gpio_led\n",
      "dac_datapath/t230/data_mover_ctrl\n",
      "dac_datapath/t230/fifo_count\n",
      "usp_rf_data_converter\n",
      "zynq_ultra_ps_e\n"
     ]
    }
   ],
   "source": [
    "ol = RFSoCOverlay(path_to_bitstream=\"./rfsoc_rfdc/bitstream/rfsoc_rfdc_v38.bit\")\n",
    "NEW_CONFIG = {\n",
    "    \"RefClockForPLL\": 500.0,\n",
    "    \"DACSampleRate\": 2500.0,\n",
    "    \"DACInterpolationRate\": 2,\n",
    "    \"DACNCO\": 625.0,\n",
    "    \"ADCSampleRate\": 2500.0,\n",
    "    \"ADCInterpolationRate\": 2,\n",
    "    \"ADCNCO\": -625.0\n",
    "}\n",
    "ZCU216_CONFIG.update(NEW_CONFIG)"
   ]
  },
  {
   "cell_type": "code",
   "execution_count": 4,
   "id": "60a704a2",
   "metadata": {
    "scrolled": true
   },
   "outputs": [
    {
     "data": {
      "application/vnd.jupyter.widget-view+json": {
       "model_id": "0739f6b1969f4568afa9a18165f05c2c",
       "version_major": 2,
       "version_minor": 0
      },
      "text/plain": [
       "FigureWidget({\n",
       "    'data': [],\n",
       "    'layout': {'template': '...',\n",
       "               'title': {'text': 'Complex Sig…"
      ]
     },
     "metadata": {},
     "output_type": "display_data"
    },
    {
     "data": {
      "application/vnd.jupyter.widget-view+json": {
       "model_id": "7323e86dbc8e48a79e19d1c52abc0fb4",
       "version_major": 2,
       "version_minor": 0
      },
      "text/plain": [
       "FigureWidget({\n",
       "    'data': [{'name': 'Magnitude', 'type': 'scattergl', 'uid': '7a540ec9-df48-456d-88f9-7e65ee9…"
      ]
     },
     "metadata": {},
     "output_type": "display_data"
    },
    {
     "name": "stderr",
     "output_type": "stream",
     "text": [
      "2024-07-29 14:36:27,326 - root - INFO - Configuring LMK chip using file LMK04828_250.0.txt at 250.0 MHz\n",
      "2024-07-29 14:36:27,329 - root - INFO - Configuring LMX chip using file LMX2594_500.0.txt at 500.0 MHz\n",
      "2024-07-29 14:36:29,771 - root - INFO - DAC tile 1 (229) is fully powered up!\n",
      "2024-07-29 14:36:30,820 - root - INFO - DAC tile 2 (230) is fully powered up!\n",
      "2024-07-29 14:36:30,823 - root - INFO - DAC tile 0 DAC block 0 is NOT enabled!\n",
      "2024-07-29 14:36:30,826 - root - INFO - DAC tile 0 DAC block 1 is NOT enabled!\n",
      "2024-07-29 14:36:30,828 - root - INFO - DAC tile 0 DAC block 2 is NOT enabled!\n",
      "2024-07-29 14:36:30,831 - root - INFO - DAC tile 0 DAC block 3 is NOT enabled!\n",
      "2024-07-29 14:36:30,923 - root - INFO - DAC tile 1 DAC block 0 is enabled!\n",
      "2024-07-29 14:36:30,926 - root - INFO - DAC tile 1 DAC block 1 is NOT enabled!\n",
      "2024-07-29 14:36:30,928 - root - INFO - DAC tile 1 DAC block 2 is NOT enabled!\n",
      "2024-07-29 14:36:30,931 - root - INFO - DAC tile 1 DAC block 3 is NOT enabled!\n",
      "2024-07-29 14:36:30,966 - root - INFO - DAC tile 2 DAC block 0 is enabled!\n",
      "2024-07-29 14:36:30,968 - root - INFO - DAC tile 2 DAC block 1 is NOT enabled!\n",
      "2024-07-29 14:36:30,971 - root - INFO - DAC tile 2 DAC block 2 is NOT enabled!\n",
      "2024-07-29 14:36:30,974 - root - INFO - DAC tile 2 DAC block 3 is NOT enabled!\n",
      "2024-07-29 14:36:30,977 - root - INFO - DAC tile 3 DAC block 0 is NOT enabled!\n",
      "2024-07-29 14:36:30,979 - root - INFO - DAC tile 3 DAC block 1 is NOT enabled!\n",
      "2024-07-29 14:36:30,982 - root - INFO - DAC tile 3 DAC block 2 is NOT enabled!\n",
      "2024-07-29 14:36:30,985 - root - INFO - DAC tile 3 DAC block 3 is NOT enabled!\n",
      "2024-07-29 14:36:32,099 - root - INFO - ADC tile 1 (225) is fully powered up!\n",
      "2024-07-29 14:36:33,212 - root - INFO - ADC tile 2 (226) is fully powered up!\n",
      "2024-07-29 14:36:33,215 - root - INFO - ADC tile 0 ADC block 0 is NOT enabled!\n",
      "2024-07-29 14:36:33,221 - root - INFO - ADC tile 0 ADC block 1 is NOT enabled!\n",
      "2024-07-29 14:36:33,224 - root - INFO - ADC tile 0 ADC block 2 is NOT enabled!\n",
      "2024-07-29 14:36:33,227 - root - INFO - ADC tile 0 ADC block 3 is NOT enabled!\n",
      "2024-07-29 14:36:33,252 - root - INFO - ADC tile 1 ADC block 0 is enabled!\n",
      "2024-07-29 14:36:33,255 - root - INFO - ADC tile 1 ADC block 1 is NOT enabled!\n",
      "2024-07-29 14:36:33,257 - root - INFO - ADC tile 1 ADC block 2 is NOT enabled!\n",
      "2024-07-29 14:36:33,260 - root - INFO - ADC tile 1 ADC block 3 is NOT enabled!\n",
      "2024-07-29 14:36:33,296 - root - INFO - ADC tile 2 ADC block 0 is enabled!\n",
      "2024-07-29 14:36:33,298 - root - INFO - ADC tile 2 ADC block 1 is NOT enabled!\n",
      "2024-07-29 14:36:33,301 - root - INFO - ADC tile 2 ADC block 2 is NOT enabled!\n",
      "2024-07-29 14:36:33,304 - root - INFO - ADC tile 2 ADC block 3 is NOT enabled!\n",
      "2024-07-29 14:36:33,307 - root - INFO - ADC tile 3 ADC block 0 is NOT enabled!\n",
      "2024-07-29 14:36:33,309 - root - INFO - ADC tile 3 ADC block 1 is NOT enabled!\n",
      "2024-07-29 14:36:33,312 - root - INFO - ADC tile 3 ADC block 2 is NOT enabled!\n",
      "2024-07-29 14:36:33,315 - root - INFO - ADC tile 3 ADC block 3 is NOT enabled!\n"
     ]
    }
   ],
   "source": [
    "rfdc_t = RfdcTask(ol)\n",
    "led_t = BlinkLedTask(ol)\n",
    "tx_t = SingleChTxTask(ol, \"./wave_files/Tx.npy\")\n",
    "rx_t = SingleChRxTask(ol)\n",
    "\n",
    "# for task in [rfdc_t]:\n",
    "#     task.start()\n",
    "#     task.join()\n",
    "\n",
    "parallel_task = [led_t, tx_t, rx_t]\n",
    "for task in parallel_task:\n",
    "    task.start()\n",
    "\n",
    "time.sleep(5)\n",
    "\n",
    "for task in parallel_task:\n",
    "    task.stop()"
   ]
  },
  {
   "cell_type": "code",
   "execution_count": null,
   "id": "0b38e1ff",
   "metadata": {},
   "outputs": [],
   "source": []
  }
 ],
 "metadata": {
  "kernelspec": {
   "display_name": "Python 3",
   "language": "python",
   "name": "python3"
  },
  "language_info": {
   "codemirror_mode": {
    "name": "ipython",
    "version": 3
   },
   "file_extension": ".py",
   "mimetype": "text/x-python",
   "name": "python",
   "nbconvert_exporter": "python",
   "pygments_lexer": "ipython3",
   "version": "3.8.2"
  }
 },
 "nbformat": 4,
 "nbformat_minor": 5
}
