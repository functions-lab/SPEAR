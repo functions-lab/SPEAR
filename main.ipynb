{
 "cells": [
  {
   "cell_type": "code",
   "execution_count": 1,
   "id": "43e0f9e0",
   "metadata": {},
   "outputs": [
    {
     "data": {
      "application/javascript": "\ntry {\nrequire(['notebook/js/codecell'], function(codecell) {\n  codecell.CodeCell.options_default.highlight_modes[\n      'magic_text/x-csrc'] = {'reg':[/^%%microblaze/]};\n  Jupyter.notebook.events.one('kernel_ready.Kernel', function(){\n      Jupyter.notebook.get_cells().map(function(cell){\n          if (cell.cell_type == 'code'){ cell.auto_highlight(); } }) ;\n  });\n});\n} catch (e) {};\n"
     },
     "metadata": {},
     "output_type": "display_data"
    },
    {
     "data": {
      "application/javascript": "\ntry {\nrequire(['notebook/js/codecell'], function(codecell) {\n  codecell.CodeCell.options_default.highlight_modes[\n      'magic_text/x-csrc'] = {'reg':[/^%%pybind11/]};\n  Jupyter.notebook.events.one('kernel_ready.Kernel', function(){\n      Jupyter.notebook.get_cells().map(function(cell){\n          if (cell.cell_type == 'code'){ cell.auto_highlight(); } }) ;\n  });\n});\n} catch (e) {};\n"
     },
     "metadata": {},
     "output_type": "display_data"
    }
   ],
   "source": [
    "%matplotlib notebook\n",
    "from rfsoc_rfdc.rfsoc_overlay import RFSoCOverlay\n",
    "from rfsoc_rfdc.overlay_task import OverlayTask\n",
    "from rfsoc_rfdc.overlay_task import BlinkLedTask\n",
    "\n",
    "from rfsoc_rfdc.transmitter.single_ch_tx_task import SingleChTxTask\n",
    "from rfsoc_rfdc.receiver.single_ch_rx_task import SingleChRxTask\n",
    "\n",
    "from rfsoc_rfdc.transmitter.multi_ch_tx_task import MultiChTxTask\n",
    "from rfsoc_rfdc.receiver.multi_ch_rx_task import MultiChRxTask\n",
    "\n",
    "from rfsoc_rfdc.rfdc_task import RfdcTask \n",
    "from rfsoc_rfdc.cmac_task import CmacTask\n",
    "from rfsoc_rfdc.rfdc_config import ZCU216_CONFIG\n",
    "\n",
    "import sys\n",
    "import os\n",
    "import time"
   ]
  },
  {
   "cell_type": "code",
   "execution_count": 2,
   "id": "f546283e",
   "metadata": {},
   "outputs": [
    {
     "name": "stdout",
     "output_type": "stream",
     "text": [
      "adc_datapath/t226/data_mover_ctrl\n",
      "adc_datapath/t226/fifo_count\n",
      "axi_gpio_led\n",
      "dac_datapath/t230/data_mover_ctrl\n",
      "dac_datapath/t230/fifo_count\n",
      "usp_rf_data_converter\n",
      "zynq_ultra_ps_e\n"
     ]
    }
   ],
   "source": [
    "ol = RFSoCOverlay(path_to_bitstream=\"./rfsoc_rfdc/bitstream/rfsoc_rfdc_v40.bit\")\n",
    "NEW_CONFIG = {\n",
    "    \"RefClockForPLL\": 500.0,\n",
    "    \"DACSampleRate\": 5000.0,\n",
    "    \"DACInterpolationRate\": 2,\n",
    "    \"DACNCO\": 625.0,\n",
    "    \"ADCSampleRate\": 2500.0,\n",
    "    \"ADCInterpolationRate\": 1,\n",
    "    \"ADCNCO\": -625.0\n",
    "}\n",
    "ZCU216_CONFIG.update(NEW_CONFIG)"
   ]
  },
  {
   "cell_type": "code",
   "execution_count": 3,
   "id": "60a704a2",
   "metadata": {
    "scrolled": true
   },
   "outputs": [
    {
     "data": {
      "application/vnd.jupyter.widget-view+json": {
       "model_id": "8c4a363b5c3647c09754d4effe270659",
       "version_major": 2,
       "version_minor": 0
      },
      "text/plain": [
       "FigureWidget({\n",
       "    'data': [],\n",
       "    'layout': {'template': '...',\n",
       "               'title': {'text': 'Complex Sig…"
      ]
     },
     "metadata": {},
     "output_type": "display_data"
    },
    {
     "data": {
      "application/vnd.jupyter.widget-view+json": {
       "model_id": "feeb8ac9c5fe4ab881c6798e6481f234",
       "version_major": 2,
       "version_minor": 0
      },
      "text/plain": [
       "FigureWidget({\n",
       "    'data': [{'name': 'Magnitude', 'type': 'scattergl', 'uid': '8e0d958f-b680-47cf-a9c5-701a003…"
      ]
     },
     "metadata": {},
     "output_type": "display_data"
    },
    {
     "name": "stderr",
     "output_type": "stream",
     "text": [
      "2024-07-30 00:53:46,746 - root - INFO - Configuring LMK chip using file LMK04828_250.0.txt at 250.0 MHz\n",
      "2024-07-30 00:53:46,751 - root - INFO - Configuring LMX chip using file LMX2594_500.0.txt at 500.0 MHz\n",
      "2024-07-30 00:53:49,200 - root - INFO - DAC tile 1 (229) is fully powered up!\n",
      "2024-07-30 00:53:50,251 - root - INFO - DAC tile 2 (230) is fully powered up!\n",
      "2024-07-30 00:53:50,254 - root - INFO - DAC tile 0 DAC block 0 is NOT enabled!\n",
      "2024-07-30 00:53:50,257 - root - INFO - DAC tile 0 DAC block 1 is NOT enabled!\n",
      "2024-07-30 00:53:50,259 - root - INFO - DAC tile 0 DAC block 2 is NOT enabled!\n",
      "2024-07-30 00:53:50,262 - root - INFO - DAC tile 0 DAC block 3 is NOT enabled!\n",
      "2024-07-30 00:53:50,363 - root - INFO - DAC tile 1 DAC block 0 is enabled!\n",
      "2024-07-30 00:53:50,366 - root - INFO - DAC tile 1 DAC block 1 is NOT enabled!\n",
      "2024-07-30 00:53:50,371 - root - INFO - DAC tile 1 DAC block 2 is NOT enabled!\n",
      "2024-07-30 00:53:50,374 - root - INFO - DAC tile 1 DAC block 3 is NOT enabled!\n",
      "2024-07-30 00:53:50,408 - root - INFO - DAC tile 2 DAC block 0 is enabled!\n",
      "2024-07-30 00:53:50,410 - root - INFO - DAC tile 2 DAC block 1 is NOT enabled!\n",
      "2024-07-30 00:53:50,415 - root - INFO - DAC tile 2 DAC block 2 is NOT enabled!\n",
      "2024-07-30 00:53:50,418 - root - INFO - DAC tile 2 DAC block 3 is NOT enabled!\n",
      "2024-07-30 00:53:50,420 - root - INFO - DAC tile 3 DAC block 0 is NOT enabled!\n",
      "2024-07-30 00:53:50,423 - root - INFO - DAC tile 3 DAC block 1 is NOT enabled!\n",
      "2024-07-30 00:53:50,426 - root - INFO - DAC tile 3 DAC block 2 is NOT enabled!\n",
      "2024-07-30 00:53:50,428 - root - INFO - DAC tile 3 DAC block 3 is NOT enabled!\n",
      "2024-07-30 00:53:51,542 - root - INFO - ADC tile 1 (225) is fully powered up!\n",
      "2024-07-30 00:53:52,658 - root - INFO - ADC tile 2 (226) is fully powered up!\n",
      "2024-07-30 00:53:52,666 - root - INFO - ADC tile 0 ADC block 0 is NOT enabled!\n",
      "2024-07-30 00:53:52,668 - root - INFO - ADC tile 0 ADC block 1 is NOT enabled!\n",
      "2024-07-30 00:53:52,671 - root - INFO - ADC tile 0 ADC block 2 is NOT enabled!\n",
      "2024-07-30 00:53:52,673 - root - INFO - ADC tile 0 ADC block 3 is NOT enabled!\n",
      "2024-07-30 00:53:52,709 - root - INFO - ADC tile 1 ADC block 0 is enabled!\n",
      "2024-07-30 00:53:52,711 - root - INFO - ADC tile 1 ADC block 1 is NOT enabled!\n",
      "2024-07-30 00:53:52,713 - root - INFO - ADC tile 1 ADC block 2 is NOT enabled!\n",
      "2024-07-30 00:53:52,716 - root - INFO - ADC tile 1 ADC block 3 is NOT enabled!\n",
      "2024-07-30 00:53:52,751 - root - INFO - ADC tile 2 ADC block 0 is enabled!\n",
      "2024-07-30 00:53:52,754 - root - INFO - ADC tile 2 ADC block 1 is NOT enabled!\n",
      "2024-07-30 00:53:52,756 - root - INFO - ADC tile 2 ADC block 2 is NOT enabled!\n",
      "2024-07-30 00:53:52,760 - root - INFO - ADC tile 2 ADC block 3 is NOT enabled!\n",
      "2024-07-30 00:53:52,763 - root - INFO - ADC tile 3 ADC block 0 is NOT enabled!\n",
      "2024-07-30 00:53:52,766 - root - INFO - ADC tile 3 ADC block 1 is NOT enabled!\n",
      "2024-07-30 00:53:52,769 - root - INFO - ADC tile 3 ADC block 2 is NOT enabled!\n",
      "2024-07-30 00:53:52,771 - root - INFO - ADC tile 3 ADC block 3 is NOT enabled!\n",
      "2024-07-30 00:54:08,516 - root - INFO - SNR: 21.801061838558088, CFO: 61.57906153351348, EVM: 0.10633045893121416, BER: 0.0\n"
     ]
    }
   ],
   "source": [
    "rfdc_t = RfdcTask(ol)\n",
    "led_t = BlinkLedTask(ol)\n",
    "tx_t = SingleChTxTask(ol)\n",
    "rx_t = SingleChRxTask(ol)\n",
    "\n",
    "for task in [rfdc_t]:\n",
    "    task.start()\n",
    "    task.join()\n",
    "\n",
    "parallel_task = [led_t, tx_t, rx_t]\n",
    "for task in parallel_task:\n",
    "    task.start()\n",
    "\n",
    "time.sleep(5)\n",
    "\n",
    "for task in parallel_task:\n",
    "    task.stop()"
   ]
  }
 ],
 "metadata": {
  "kernelspec": {
   "display_name": "Python 3",
   "language": "python",
   "name": "python3"
  },
  "language_info": {
   "codemirror_mode": {
    "name": "ipython",
    "version": 3
   },
   "file_extension": ".py",
   "mimetype": "text/x-python",
   "name": "python",
   "nbconvert_exporter": "python",
   "pygments_lexer": "ipython3",
   "version": "3.8.2"
  }
 },
 "nbformat": 4,
 "nbformat_minor": 5
}
