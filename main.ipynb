{
 "cells": [
  {
   "cell_type": "code",
   "execution_count": 1,
   "id": "43e0f9e0",
   "metadata": {},
   "outputs": [
    {
     "data": {
      "application/javascript": [
       "\n",
       "try {\n",
       "require(['notebook/js/codecell'], function(codecell) {\n",
       "  codecell.CodeCell.options_default.highlight_modes[\n",
       "      'magic_text/x-csrc'] = {'reg':[/^%%microblaze/]};\n",
       "  Jupyter.notebook.events.one('kernel_ready.Kernel', function(){\n",
       "      Jupyter.notebook.get_cells().map(function(cell){\n",
       "          if (cell.cell_type == 'code'){ cell.auto_highlight(); } }) ;\n",
       "  });\n",
       "});\n",
       "} catch (e) {};\n"
      ]
     },
     "metadata": {},
     "output_type": "display_data"
    },
    {
     "data": {
      "application/javascript": [
       "\n",
       "try {\n",
       "require(['notebook/js/codecell'], function(codecell) {\n",
       "  codecell.CodeCell.options_default.highlight_modes[\n",
       "      'magic_text/x-csrc'] = {'reg':[/^%%pybind11/]};\n",
       "  Jupyter.notebook.events.one('kernel_ready.Kernel', function(){\n",
       "      Jupyter.notebook.get_cells().map(function(cell){\n",
       "          if (cell.cell_type == 'code'){ cell.auto_highlight(); } }) ;\n",
       "  });\n",
       "});\n",
       "} catch (e) {};\n"
      ]
     },
     "metadata": {},
     "output_type": "display_data"
    },
    {
     "name": "stderr",
     "output_type": "stream",
     "text": [
      "2024-05-09 17:18:03,927 - root - INFO - \"Writing bitstream rfsoc_rfdc_v27.bit to RFSoC.\"\n"
     ]
    },
    {
     "name": "stdout",
     "output_type": "stream",
     "text": [
      "axi_gpio_led\n",
      "axi_rfdc_intc\n",
      "usp_rf_data_converter\n",
      "dac_datapath/t230/axi_dma\n",
      "dac_datapath/t230/fifo_count\n",
      "adc_datapath/t226/adc_packet_generator\n",
      "adc_datapath/t226/axi_dma\n",
      "adc_datapath/t226/fifo_count\n",
      "zynq_ultra_ps_e\n"
     ]
    }
   ],
   "source": [
    "%matplotlib notebook\n",
    "from rfsoc_rfdc.rfsoc_overlay import RFSoCOverlay\n",
    "from rfsoc_rfdc.overlay_task import OverlayTask\n",
    "from rfsoc_rfdc.overlay_task import BlinkLedTask\n",
    "\n",
    "from rfsoc_rfdc.transmitter.single_ch_transmitter_task import SingleChTransmitterTask\n",
    "from rfsoc_rfdc.receiver.single_ch_receiver_task import SingleChReceiverTask\n",
    "\n",
    "from rfsoc_rfdc.transmitter.multi_ch_transmitter_task import MultiChTransmitterTask\n",
    "from rfsoc_rfdc.receiver.multi_ch_receiver_task import MultiChReceiverTask\n",
    "\n",
    "from rfsoc_rfdc.rfdc_task import RfdcTask \n",
    "from rfsoc_rfdc.cmac_task import CmacTask\n",
    "\n",
    "ol = RFSoCOverlay()"
   ]
  },
  {
   "cell_type": "code",
   "execution_count": null,
   "id": "60a704a2",
   "metadata": {
    "scrolled": true
   },
   "outputs": [
    {
     "name": "stdout",
     "output_type": "stream",
     "text": [
      "Arguments validated successfully.\n"
     ]
    },
    {
     "data": {
      "application/vnd.jupyter.widget-view+json": {
       "model_id": "f89ee21444984228ace12476f32ddd0e",
       "version_major": 2,
       "version_minor": 0
      },
      "text/plain": [
       "FigureWidget({\n",
       "    'data': [],\n",
       "    'layout': {'template': '...',\n",
       "               'title': {'text': 'Complex Sig…"
      ]
     },
     "metadata": {},
     "output_type": "display_data"
    },
    {
     "data": {
      "application/vnd.jupyter.widget-view+json": {
       "model_id": "d32fad1e8a1d44eeab945025597d4b61",
       "version_major": 2,
       "version_minor": 0
      },
      "text/plain": [
       "FigureWidget({\n",
       "    'data': [{'name': 'Magnitude', 'type': 'scattergl', 'uid': '31648392-e4b5-47a6-b8b2-5acb8dd…"
      ]
     },
     "metadata": {},
     "output_type": "display_data"
    },
    {
     "name": "stderr",
     "output_type": "stream",
     "text": [
      "2024-05-09 17:18:07,798 - root - INFO - Configuring LMK chip using file LMK04828_250.0.txt at 250.0 MHz\n",
      "2024-05-09 17:18:07,804 - root - INFO - Configuring LMX chip using file LMX2594_500.0.txt at 500.0 MHz\n",
      "2024-05-09 17:18:10,255 - root - INFO - DAC tile 1 (229) is fully powered up!\n",
      "2024-05-09 17:18:10,313 - root - INFO - DAC tile 1 DAC block 0 is enabled!\n",
      "2024-05-09 17:18:10,315 - root - INFO - DAC tile 1 DAC block 1 is NOT enabled!\n",
      "2024-05-09 17:18:10,320 - root - INFO - DAC tile 1 DAC block 2 is NOT enabled!\n",
      "2024-05-09 17:18:10,323 - root - INFO - DAC tile 1 DAC block 3 is NOT enabled!\n",
      "2024-05-09 17:18:11,372 - root - INFO - DAC tile 2 (230) is fully powered up!\n",
      "2024-05-09 17:18:11,398 - root - INFO - DAC tile 2 DAC block 0 is enabled!\n",
      "2024-05-09 17:18:11,400 - root - INFO - DAC tile 2 DAC block 1 is NOT enabled!\n",
      "2024-05-09 17:18:11,403 - root - INFO - DAC tile 2 DAC block 2 is NOT enabled!\n",
      "2024-05-09 17:18:11,405 - root - INFO - DAC tile 2 DAC block 3 is NOT enabled!\n",
      "2024-05-09 17:18:12,516 - root - INFO - ADC tile 1 (225) is fully powered up!\n",
      "2024-05-09 17:18:12,545 - root - INFO - ADC tile 1 ADC block 0 is enabled!\n",
      "2024-05-09 17:18:12,547 - root - INFO - ADC tile 1 ADC block 1 is NOT enabled!\n",
      "2024-05-09 17:18:12,550 - root - INFO - ADC tile 1 ADC block 2 is NOT enabled!\n",
      "2024-05-09 17:18:12,552 - root - INFO - ADC tile 1 ADC block 3 is NOT enabled!\n",
      "2024-05-09 17:18:13,663 - root - INFO - ADC tile 2 (226) is fully powered up!\n",
      "2024-05-09 17:18:13,688 - root - INFO - ADC tile 2 ADC block 0 is enabled!\n",
      "2024-05-09 17:18:13,691 - root - INFO - ADC tile 2 ADC block 1 is NOT enabled!\n",
      "2024-05-09 17:18:13,693 - root - INFO - ADC tile 2 ADC block 2 is NOT enabled!\n",
      "2024-05-09 17:18:13,696 - root - INFO - ADC tile 2 ADC block 3 is NOT enabled!\n"
     ]
    }
   ],
   "source": [
    "import sys\n",
    "import os\n",
    "\n",
    "def validate_arguments(waveform_path, dac_samp_rate, adc_samp_rate, carrier_freq):\n",
    "    if not os.path.exists(waveform_path):\n",
    "        raise FileNotFoundError(f\"The specified waveform file '{waveform_path}' does not exist.\")\n",
    "    try:\n",
    "        dac_samp_rate, adc_samp_rate = int(dac_samp_rate), int(adc_samp_rate)\n",
    "        carrier_freq = int(carrier_freq)\n",
    "    except ValueError:\n",
    "        raise ValueError(\"DAC/ADC sampling rate and carrier frequency must be integers.\")\n",
    "    if dac_samp_rate < 500e6 or dac_samp_rate > 10e9:\n",
    "        raise ValueError(\"DAC sampling rate ranges from 500MHz to 10GHz.\")\n",
    "    if adc_samp_rate < 500e6 or adc_samp_rate > 2.5e9:\n",
    "        raise ValueError(\"DAC sampling rate ranges from 500MHz to 2.5GHz.\")\n",
    "    return True\n",
    "\n",
    "matlab_waveform = \"./wave_files/Tx.mat\"\n",
    "dac_samp_rate, adc_samp_rate = 2e9, 2e9\n",
    "carrier_freq = 0\n",
    "\n",
    "try:\n",
    "    if validate_arguments(matlab_waveform, dac_samp_rate, adc_samp_rate, carrier_freq):\n",
    "        print(\"Arguments validated successfully.\")\n",
    "except Exception as e:\n",
    "    print(f\"Error: {e}\")\n",
    "    sys.exit(1)\n",
    "\n",
    "rfdc_t = RfdcTask(ol, dac_samp_rate, adc_samp_rate, carrier_freq)\n",
    "# cmac_t = CmacTask(ol)\n",
    "led_t = BlinkLedTask(ol)\n",
    "tx_t = SingleChTransmitterTask(ol, matlab_waveform)\n",
    "# tx_t = MultiChTransmitterTask(ol)\n",
    "rx_t = SingleChReceiverTask(ol)\n",
    "# rx_t = MultiChReceiverTask(ol)\n",
    "\n",
    "for task in [rfdc_t]:\n",
    "    task.start()\n",
    "    task.join()\n",
    "\n",
    "parallel_task = [led_t, tx_t, rx_t]\n",
    "for task in parallel_task:\n",
    "    task.start()\n",
    "for task in parallel_task:\n",
    "    task.join()"
   ]
  },
  {
   "cell_type": "code",
   "execution_count": null,
   "id": "9c9f3add",
   "metadata": {},
   "outputs": [],
   "source": []
  }
 ],
 "metadata": {
  "kernelspec": {
   "display_name": "Python 3",
   "language": "python",
   "name": "python3"
  },
  "language_info": {
   "codemirror_mode": {
    "name": "ipython",
    "version": 3
   },
   "file_extension": ".py",
   "mimetype": "text/x-python",
   "name": "python",
   "nbconvert_exporter": "python",
   "pygments_lexer": "ipython3",
   "version": "3.8.2"
  }
 },
 "nbformat": 4,
 "nbformat_minor": 5
}
