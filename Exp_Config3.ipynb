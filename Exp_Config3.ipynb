{
 "cells": [
  {
   "cell_type": "code",
   "execution_count": 1,
   "id": "43e0f9e0",
   "metadata": {},
   "outputs": [
    {
     "data": {
      "application/javascript": [
       "\n",
       "try {\n",
       "require(['notebook/js/codecell'], function(codecell) {\n",
       "  codecell.CodeCell.options_default.highlight_modes[\n",
       "      'magic_text/x-csrc'] = {'reg':[/^%%microblaze/]};\n",
       "  Jupyter.notebook.events.one('kernel_ready.Kernel', function(){\n",
       "      Jupyter.notebook.get_cells().map(function(cell){\n",
       "          if (cell.cell_type == 'code'){ cell.auto_highlight(); } }) ;\n",
       "  });\n",
       "});\n",
       "} catch (e) {};\n"
      ]
     },
     "metadata": {},
     "output_type": "display_data"
    },
    {
     "data": {
      "application/javascript": [
       "\n",
       "try {\n",
       "require(['notebook/js/codecell'], function(codecell) {\n",
       "  codecell.CodeCell.options_default.highlight_modes[\n",
       "      'magic_text/x-csrc'] = {'reg':[/^%%pybind11/]};\n",
       "  Jupyter.notebook.events.one('kernel_ready.Kernel', function(){\n",
       "      Jupyter.notebook.get_cells().map(function(cell){\n",
       "          if (cell.cell_type == 'code'){ cell.auto_highlight(); } }) ;\n",
       "  });\n",
       "});\n",
       "} catch (e) {};\n"
      ]
     },
     "metadata": {},
     "output_type": "display_data"
    }
   ],
   "source": [
    "%matplotlib notebook\n",
    "from rfsoc_rfdc.rfsoc_overlay import RFSoCOverlay\n",
    "from rfsoc_rfdc.overlay_task import OverlayTask\n",
    "from rfsoc_rfdc.overlay_task import BlinkLedTask\n",
    "\n",
    "from rfsoc_rfdc.transmitter.single_ch_tx_task import SingleChTxTask\n",
    "from rfsoc_rfdc.receiver.single_ch_rx_task import SingleChRxTask\n",
    "\n",
    "from rfsoc_rfdc.rfdc_task import RfdcTask \n",
    "from rfsoc_rfdc.rfdc_config import ZCU216_CONFIG\n",
    "\n",
    "import sys\n",
    "import os\n",
    "import time"
   ]
  },
  {
   "cell_type": "code",
   "execution_count": 2,
   "id": "f546283e",
   "metadata": {},
   "outputs": [
    {
     "name": "stdout",
     "output_type": "stream",
     "text": [
      "adc_datapath/t226/data_mover_ctrl\n",
      "adc_datapath/t226/fifo_count\n",
      "axi_gpio_led\n",
      "dac_datapath/t230/data_mover_ctrl\n",
      "dac_datapath/t230/fifo_count\n",
      "usp_rf_data_converter\n",
      "zynq_ultra_ps_e\n"
     ]
    }
   ],
   "source": [
    "ol = RFSoCOverlay(path_to_bitstream=\"./rfsoc_rfdc/bitstream/rfsoc_rfdc_v39.bit\")\n",
    "NEW_CONFIG = {\n",
    "    \"RefClockForPLL\": 500.0,\n",
    "    \"DACSampleRate\": 2500.0,\n",
    "    \"DACInterpolationRate\": 2,\n",
    "    \"DACNCO\": 625.0,\n",
    "    \"ADCSampleRate\": 2500.0,\n",
    "    \"ADCInterpolationRate\": 2,\n",
    "    \"ADCNCO\": -625.0,\n",
    "}\n",
    "ZCU216_CONFIG.update(NEW_CONFIG)"
   ]
  },
  {
   "cell_type": "code",
   "execution_count": 3,
   "id": "e6c07e21",
   "metadata": {},
   "outputs": [],
   "source": [
    "from rfsoc_rfdc.dsp.ofdm import OFDM\n",
    "from rfsoc_rfdc.dsp.detection import Detection"
   ]
  },
  {
   "cell_type": "code",
   "execution_count": 4,
   "id": "60a704a2",
   "metadata": {
    "scrolled": true
   },
   "outputs": [
    {
     "name": "stdout",
     "output_type": "stream",
     "text": [
      "Warning: Packet Saturated for 1.73%\n"
     ]
    },
    {
     "data": {
      "application/vnd.jupyter.widget-view+json": {
       "model_id": "32390f208a274925ba920f8860849ac5",
       "version_major": 2,
       "version_minor": 0
      },
      "text/plain": [
       "FigureWidget({\n",
       "    'data': [],\n",
       "    'layout': {'template': '...',\n",
       "               'title': {'text': 'Complex Sig…"
      ]
     },
     "metadata": {},
     "output_type": "display_data"
    },
    {
     "data": {
      "application/vnd.jupyter.widget-view+json": {
       "model_id": "22eb060389304b6593273a64b7b8935c",
       "version_major": 2,
       "version_minor": 0
      },
      "text/plain": [
       "FigureWidget({\n",
       "    'data': [{'name': 'Magnitude', 'type': 'scattergl', 'uid': '36f7fc79-f66a-49cd-bae6-9ab96e4…"
      ]
     },
     "metadata": {},
     "output_type": "display_data"
    },
    {
     "name": "stderr",
     "output_type": "stream",
     "text": [
      "2024-11-16 21:57:24,956 - root - INFO - DAC tile 0 DAC block 0 is NOT enabled!\n",
      "2024-11-16 21:57:24,960 - root - INFO - DAC tile 0 DAC block 1 is NOT enabled!\n",
      "2024-11-16 21:57:24,964 - root - INFO - DAC tile 0 DAC block 2 is NOT enabled!\n",
      "2024-11-16 21:57:24,967 - root - INFO - DAC tile 0 DAC block 3 is NOT enabled!\n",
      "2024-11-16 21:57:25,069 - root - INFO - DAC tile 1 DAC block 0 is enabled!\n",
      "2024-11-16 21:57:25,072 - root - INFO - DAC tile 1 DAC block 1 is NOT enabled!\n",
      "2024-11-16 21:57:25,075 - root - INFO - DAC tile 1 DAC block 2 is NOT enabled!\n",
      "2024-11-16 21:57:25,078 - root - INFO - DAC tile 1 DAC block 3 is NOT enabled!\n",
      "2024-11-16 21:57:25,117 - root - INFO - DAC tile 2 DAC block 0 is enabled!\n",
      "2024-11-16 21:57:25,120 - root - INFO - DAC tile 2 DAC block 1 is NOT enabled!\n",
      "2024-11-16 21:57:25,123 - root - INFO - DAC tile 2 DAC block 2 is NOT enabled!\n",
      "2024-11-16 21:57:25,125 - root - INFO - DAC tile 2 DAC block 3 is NOT enabled!\n",
      "2024-11-16 21:57:25,128 - root - INFO - DAC tile 3 DAC block 0 is NOT enabled!\n",
      "2024-11-16 21:57:25,131 - root - INFO - DAC tile 3 DAC block 1 is NOT enabled!\n",
      "2024-11-16 21:57:25,135 - root - INFO - DAC tile 3 DAC block 2 is NOT enabled!\n",
      "2024-11-16 21:57:25,138 - root - INFO - DAC tile 3 DAC block 3 is NOT enabled!\n",
      "2024-11-16 21:57:25,141 - root - INFO - ADC tile 0 ADC block 0 is NOT enabled!\n",
      "2024-11-16 21:57:25,144 - root - INFO - ADC tile 0 ADC block 1 is NOT enabled!\n",
      "2024-11-16 21:57:25,147 - root - INFO - ADC tile 0 ADC block 2 is NOT enabled!\n",
      "2024-11-16 21:57:25,149 - root - INFO - ADC tile 0 ADC block 3 is NOT enabled!\n",
      "2024-11-16 21:57:25,192 - root - INFO - ADC tile 1 ADC block 0 is enabled!\n",
      "2024-11-16 21:57:25,195 - root - INFO - ADC tile 1 ADC block 1 is NOT enabled!\n",
      "2024-11-16 21:57:25,197 - root - INFO - ADC tile 1 ADC block 2 is NOT enabled!\n",
      "2024-11-16 21:57:25,200 - root - INFO - ADC tile 1 ADC block 3 is NOT enabled!\n",
      "2024-11-16 21:57:25,235 - root - INFO - ADC tile 2 ADC block 0 is enabled!\n",
      "2024-11-16 21:57:25,238 - root - INFO - ADC tile 2 ADC block 1 is NOT enabled!\n",
      "2024-11-16 21:57:25,240 - root - INFO - ADC tile 2 ADC block 2 is NOT enabled!\n",
      "2024-11-16 21:57:25,243 - root - INFO - ADC tile 2 ADC block 3 is NOT enabled!\n",
      "2024-11-16 21:57:25,246 - root - INFO - ADC tile 3 ADC block 0 is NOT enabled!\n",
      "2024-11-16 21:57:25,249 - root - INFO - ADC tile 3 ADC block 1 is NOT enabled!\n",
      "2024-11-16 21:57:25,252 - root - INFO - ADC tile 3 ADC block 2 is NOT enabled!\n",
      "2024-11-16 21:57:25,255 - root - INFO - ADC tile 3 ADC block 3 is NOT enabled!\n"
     ]
    },
    {
     "name": "stdout",
     "output_type": "stream",
     "text": [
      "qam_order 16QAM, nco 625.0, atten 0.0, inv_sinc 1\n"
     ]
    },
    {
     "name": "stderr",
     "output_type": "stream",
     "text": [
      "2024-11-16 21:57:33,679 - root - INFO - SNR: 30.709, CFO: -6.767, EVM: 0.035, BER: 0.0000000000\n"
     ]
    },
    {
     "name": "stdout",
     "output_type": "stream",
     "text": [
      "Warning: Packet Saturated for 1.88%\n"
     ]
    },
    {
     "data": {
      "application/vnd.jupyter.widget-view+json": {
       "model_id": "53138bf07d7e46b7be2b988cde7cda87",
       "version_major": 2,
       "version_minor": 0
      },
      "text/plain": [
       "FigureWidget({\n",
       "    'data': [],\n",
       "    'layout': {'template': '...',\n",
       "               'title': {'text': 'Complex Sig…"
      ]
     },
     "metadata": {},
     "output_type": "display_data"
    },
    {
     "data": {
      "application/vnd.jupyter.widget-view+json": {
       "model_id": "b6f0453479e445838e015f7b0882e2d1",
       "version_major": 2,
       "version_minor": 0
      },
      "text/plain": [
       "FigureWidget({\n",
       "    'data': [{'name': 'Magnitude', 'type': 'scattergl', 'uid': '994ac8a0-4d2b-4eb1-adf5-5827e48…"
      ]
     },
     "metadata": {},
     "output_type": "display_data"
    },
    {
     "name": "stderr",
     "output_type": "stream",
     "text": [
      "2024-11-16 21:57:34,474 - root - INFO - DAC tile 0 DAC block 0 is NOT enabled!\n",
      "2024-11-16 21:57:34,478 - root - INFO - DAC tile 0 DAC block 1 is NOT enabled!\n",
      "2024-11-16 21:57:34,481 - root - INFO - DAC tile 0 DAC block 2 is NOT enabled!\n",
      "2024-11-16 21:57:34,484 - root - INFO - DAC tile 0 DAC block 3 is NOT enabled!\n",
      "2024-11-16 21:57:34,528 - root - INFO - DAC tile 1 DAC block 0 is enabled!\n",
      "2024-11-16 21:57:34,531 - root - INFO - DAC tile 1 DAC block 1 is NOT enabled!\n",
      "2024-11-16 21:57:34,533 - root - INFO - DAC tile 1 DAC block 2 is NOT enabled!\n",
      "2024-11-16 21:57:34,536 - root - INFO - DAC tile 1 DAC block 3 is NOT enabled!\n",
      "2024-11-16 21:57:34,578 - root - INFO - DAC tile 2 DAC block 0 is enabled!\n",
      "2024-11-16 21:57:34,580 - root - INFO - DAC tile 2 DAC block 1 is NOT enabled!\n",
      "2024-11-16 21:57:34,583 - root - INFO - DAC tile 2 DAC block 2 is NOT enabled!\n",
      "2024-11-16 21:57:34,586 - root - INFO - DAC tile 2 DAC block 3 is NOT enabled!\n",
      "2024-11-16 21:57:34,589 - root - INFO - DAC tile 3 DAC block 0 is NOT enabled!\n",
      "2024-11-16 21:57:34,592 - root - INFO - DAC tile 3 DAC block 1 is NOT enabled!\n",
      "2024-11-16 21:57:34,595 - root - INFO - DAC tile 3 DAC block 2 is NOT enabled!\n",
      "2024-11-16 21:57:34,598 - root - INFO - DAC tile 3 DAC block 3 is NOT enabled!\n",
      "2024-11-16 21:57:34,601 - root - INFO - ADC tile 0 ADC block 0 is NOT enabled!\n",
      "2024-11-16 21:57:34,604 - root - INFO - ADC tile 0 ADC block 1 is NOT enabled!\n",
      "2024-11-16 21:57:34,607 - root - INFO - ADC tile 0 ADC block 2 is NOT enabled!\n",
      "2024-11-16 21:57:34,610 - root - INFO - ADC tile 0 ADC block 3 is NOT enabled!\n",
      "2024-11-16 21:57:34,653 - root - INFO - ADC tile 1 ADC block 0 is enabled!\n",
      "2024-11-16 21:57:34,655 - root - INFO - ADC tile 1 ADC block 1 is NOT enabled!\n",
      "2024-11-16 21:57:34,658 - root - INFO - ADC tile 1 ADC block 2 is NOT enabled!\n",
      "2024-11-16 21:57:34,661 - root - INFO - ADC tile 1 ADC block 3 is NOT enabled!\n",
      "2024-11-16 21:57:34,697 - root - INFO - ADC tile 2 ADC block 0 is enabled!\n",
      "2024-11-16 21:57:34,700 - root - INFO - ADC tile 2 ADC block 1 is NOT enabled!\n",
      "2024-11-16 21:57:34,702 - root - INFO - ADC tile 2 ADC block 2 is NOT enabled!\n",
      "2024-11-16 21:57:34,705 - root - INFO - ADC tile 2 ADC block 3 is NOT enabled!\n",
      "2024-11-16 21:57:34,708 - root - INFO - ADC tile 3 ADC block 0 is NOT enabled!\n",
      "2024-11-16 21:57:34,711 - root - INFO - ADC tile 3 ADC block 1 is NOT enabled!\n",
      "2024-11-16 21:57:34,715 - root - INFO - ADC tile 3 ADC block 2 is NOT enabled!\n",
      "2024-11-16 21:57:34,718 - root - INFO - ADC tile 3 ADC block 3 is NOT enabled!\n"
     ]
    },
    {
     "name": "stdout",
     "output_type": "stream",
     "text": [
      "qam_order 64QAM, nco 625.0, atten 0.0, inv_sinc 1\n"
     ]
    },
    {
     "name": "stderr",
     "output_type": "stream",
     "text": [
      "2024-11-16 21:57:55,693 - root - ERROR - Fail to detect Rx packet\n"
     ]
    },
    {
     "name": "stdout",
     "output_type": "stream",
     "text": [
      "Warning: Packet Saturated for 1.79%\n"
     ]
    },
    {
     "data": {
      "application/vnd.jupyter.widget-view+json": {
       "model_id": "6cbfc82d4a67415eba1f39ad72856674",
       "version_major": 2,
       "version_minor": 0
      },
      "text/plain": [
       "FigureWidget({\n",
       "    'data': [],\n",
       "    'layout': {'template': '...',\n",
       "               'title': {'text': 'Complex Sig…"
      ]
     },
     "metadata": {},
     "output_type": "display_data"
    },
    {
     "data": {
      "application/vnd.jupyter.widget-view+json": {
       "model_id": "f8a319c3abc043269b097e01d2c0d852",
       "version_major": 2,
       "version_minor": 0
      },
      "text/plain": [
       "FigureWidget({\n",
       "    'data': [{'name': 'Magnitude', 'type': 'scattergl', 'uid': '4791e998-9206-4914-b7ed-33d464c…"
      ]
     },
     "metadata": {},
     "output_type": "display_data"
    },
    {
     "name": "stderr",
     "output_type": "stream",
     "text": [
      "2024-11-16 21:57:56,536 - root - INFO - DAC tile 0 DAC block 0 is NOT enabled!\n",
      "2024-11-16 21:57:56,541 - root - INFO - DAC tile 0 DAC block 1 is NOT enabled!\n",
      "2024-11-16 21:57:56,545 - root - INFO - DAC tile 0 DAC block 2 is NOT enabled!\n",
      "2024-11-16 21:57:56,549 - root - INFO - DAC tile 0 DAC block 3 is NOT enabled!\n",
      "2024-11-16 21:57:56,590 - root - INFO - DAC tile 1 DAC block 0 is enabled!\n",
      "2024-11-16 21:57:56,593 - root - INFO - DAC tile 1 DAC block 1 is NOT enabled!\n",
      "2024-11-16 21:57:56,596 - root - INFO - DAC tile 1 DAC block 2 is NOT enabled!\n",
      "2024-11-16 21:57:56,599 - root - INFO - DAC tile 1 DAC block 3 is NOT enabled!\n",
      "2024-11-16 21:57:56,641 - root - INFO - DAC tile 2 DAC block 0 is enabled!\n",
      "2024-11-16 21:57:56,644 - root - INFO - DAC tile 2 DAC block 1 is NOT enabled!\n",
      "2024-11-16 21:57:56,647 - root - INFO - DAC tile 2 DAC block 2 is NOT enabled!\n",
      "2024-11-16 21:57:56,650 - root - INFO - DAC tile 2 DAC block 3 is NOT enabled!\n",
      "2024-11-16 21:57:56,653 - root - INFO - DAC tile 3 DAC block 0 is NOT enabled!\n",
      "2024-11-16 21:57:56,656 - root - INFO - DAC tile 3 DAC block 1 is NOT enabled!\n",
      "2024-11-16 21:57:56,659 - root - INFO - DAC tile 3 DAC block 2 is NOT enabled!\n",
      "2024-11-16 21:57:56,662 - root - INFO - DAC tile 3 DAC block 3 is NOT enabled!\n",
      "2024-11-16 21:57:56,665 - root - INFO - ADC tile 0 ADC block 0 is NOT enabled!\n",
      "2024-11-16 21:57:56,668 - root - INFO - ADC tile 0 ADC block 1 is NOT enabled!\n",
      "2024-11-16 21:57:56,671 - root - INFO - ADC tile 0 ADC block 2 is NOT enabled!\n",
      "2024-11-16 21:57:56,674 - root - INFO - ADC tile 0 ADC block 3 is NOT enabled!\n",
      "2024-11-16 21:57:56,716 - root - INFO - ADC tile 1 ADC block 0 is enabled!\n",
      "2024-11-16 21:57:56,719 - root - INFO - ADC tile 1 ADC block 1 is NOT enabled!\n",
      "2024-11-16 21:57:56,722 - root - INFO - ADC tile 1 ADC block 2 is NOT enabled!\n",
      "2024-11-16 21:57:56,725 - root - INFO - ADC tile 1 ADC block 3 is NOT enabled!\n",
      "2024-11-16 21:57:56,761 - root - INFO - ADC tile 2 ADC block 0 is enabled!\n",
      "2024-11-16 21:57:56,765 - root - INFO - ADC tile 2 ADC block 1 is NOT enabled!\n",
      "2024-11-16 21:57:56,768 - root - INFO - ADC tile 2 ADC block 2 is NOT enabled!\n",
      "2024-11-16 21:57:56,771 - root - INFO - ADC tile 2 ADC block 3 is NOT enabled!\n",
      "2024-11-16 21:57:56,774 - root - INFO - ADC tile 3 ADC block 0 is NOT enabled!\n",
      "2024-11-16 21:57:56,777 - root - INFO - ADC tile 3 ADC block 1 is NOT enabled!\n",
      "2024-11-16 21:57:56,780 - root - INFO - ADC tile 3 ADC block 2 is NOT enabled!\n",
      "2024-11-16 21:57:56,783 - root - INFO - ADC tile 3 ADC block 3 is NOT enabled!\n"
     ]
    },
    {
     "name": "stdout",
     "output_type": "stream",
     "text": [
      "qam_order 256QAM, nco 625.0, atten 0.0, inv_sinc 1\n"
     ]
    },
    {
     "name": "stderr",
     "output_type": "stream",
     "text": [
      "2024-11-16 21:58:00,929 - root - ERROR - Fail to detect Rx packet\n"
     ]
    },
    {
     "name": "stdout",
     "output_type": "stream",
     "text": [
      "Warning: Packet Saturated for 1.83%\n"
     ]
    },
    {
     "data": {
      "application/vnd.jupyter.widget-view+json": {
       "model_id": "4c8d398a7b7e4beebce241a5273a9d1e",
       "version_major": 2,
       "version_minor": 0
      },
      "text/plain": [
       "FigureWidget({\n",
       "    'data': [],\n",
       "    'layout': {'template': '...',\n",
       "               'title': {'text': 'Complex Sig…"
      ]
     },
     "metadata": {},
     "output_type": "display_data"
    },
    {
     "data": {
      "application/vnd.jupyter.widget-view+json": {
       "model_id": "4d79d5219ffe4b2f8b18d15b182e61b8",
       "version_major": 2,
       "version_minor": 0
      },
      "text/plain": [
       "FigureWidget({\n",
       "    'data': [{'name': 'Magnitude', 'type': 'scattergl', 'uid': 'cf8dabbe-5631-4877-909d-f620a61…"
      ]
     },
     "metadata": {},
     "output_type": "display_data"
    },
    {
     "name": "stderr",
     "output_type": "stream",
     "text": [
      "2024-11-16 21:58:01,848 - root - INFO - DAC tile 0 DAC block 0 is NOT enabled!\n",
      "2024-11-16 21:58:01,853 - root - INFO - DAC tile 0 DAC block 1 is NOT enabled!\n",
      "2024-11-16 21:58:01,857 - root - INFO - DAC tile 0 DAC block 2 is NOT enabled!\n",
      "2024-11-16 21:58:01,860 - root - INFO - DAC tile 0 DAC block 3 is NOT enabled!\n",
      "2024-11-16 21:58:01,899 - root - INFO - DAC tile 1 DAC block 0 is enabled!\n",
      "2024-11-16 21:58:01,902 - root - INFO - DAC tile 1 DAC block 1 is NOT enabled!\n",
      "2024-11-16 21:58:01,905 - root - INFO - DAC tile 1 DAC block 2 is NOT enabled!\n",
      "2024-11-16 21:58:01,908 - root - INFO - DAC tile 1 DAC block 3 is NOT enabled!\n",
      "2024-11-16 21:58:01,949 - root - INFO - DAC tile 2 DAC block 0 is enabled!\n",
      "2024-11-16 21:58:01,952 - root - INFO - DAC tile 2 DAC block 1 is NOT enabled!\n",
      "2024-11-16 21:58:01,954 - root - INFO - DAC tile 2 DAC block 2 is NOT enabled!\n",
      "2024-11-16 21:58:01,957 - root - INFO - DAC tile 2 DAC block 3 is NOT enabled!\n",
      "2024-11-16 21:58:01,960 - root - INFO - DAC tile 3 DAC block 0 is NOT enabled!\n",
      "2024-11-16 21:58:01,963 - root - INFO - DAC tile 3 DAC block 1 is NOT enabled!\n",
      "2024-11-16 21:58:01,967 - root - INFO - DAC tile 3 DAC block 2 is NOT enabled!\n",
      "2024-11-16 21:58:01,970 - root - INFO - DAC tile 3 DAC block 3 is NOT enabled!\n",
      "2024-11-16 21:58:01,973 - root - INFO - ADC tile 0 ADC block 0 is NOT enabled!\n",
      "2024-11-16 21:58:01,976 - root - INFO - ADC tile 0 ADC block 1 is NOT enabled!\n",
      "2024-11-16 21:58:01,979 - root - INFO - ADC tile 0 ADC block 2 is NOT enabled!\n",
      "2024-11-16 21:58:01,982 - root - INFO - ADC tile 0 ADC block 3 is NOT enabled!\n",
      "2024-11-16 21:58:02,025 - root - INFO - ADC tile 1 ADC block 0 is enabled!\n",
      "2024-11-16 21:58:02,028 - root - INFO - ADC tile 1 ADC block 1 is NOT enabled!\n",
      "2024-11-16 21:58:02,032 - root - INFO - ADC tile 1 ADC block 2 is NOT enabled!\n",
      "2024-11-16 21:58:02,035 - root - INFO - ADC tile 1 ADC block 3 is NOT enabled!\n",
      "2024-11-16 21:58:02,094 - root - INFO - ADC tile 2 ADC block 0 is enabled!\n",
      "2024-11-16 21:58:02,097 - root - INFO - ADC tile 2 ADC block 1 is NOT enabled!\n",
      "2024-11-16 21:58:02,103 - root - INFO - ADC tile 2 ADC block 2 is NOT enabled!\n",
      "2024-11-16 21:58:02,106 - root - INFO - ADC tile 2 ADC block 3 is NOT enabled!\n",
      "2024-11-16 21:58:02,109 - root - INFO - ADC tile 3 ADC block 0 is NOT enabled!\n",
      "2024-11-16 21:58:02,112 - root - INFO - ADC tile 3 ADC block 1 is NOT enabled!\n",
      "2024-11-16 21:58:02,115 - root - INFO - ADC tile 3 ADC block 2 is NOT enabled!\n",
      "2024-11-16 21:58:02,118 - root - INFO - ADC tile 3 ADC block 3 is NOT enabled!\n"
     ]
    },
    {
     "name": "stdout",
     "output_type": "stream",
     "text": [
      "qam_order 1024QAM, nco 625.0, atten 0.0, inv_sinc 1\n"
     ]
    },
    {
     "name": "stderr",
     "output_type": "stream",
     "text": [
      "2024-11-16 21:58:11,773 - root - INFO - SNR: 28.823, CFO: 23.425, EVM: 0.029, BER: 0.0331875000\n"
     ]
    },
    {
     "name": "stdout",
     "output_type": "stream",
     "text": [
      "Warning: Packet Saturated for 0.06%\n"
     ]
    },
    {
     "data": {
      "application/vnd.jupyter.widget-view+json": {
       "model_id": "b0bd619c35a947f7abea1e2be4c133ca",
       "version_major": 2,
       "version_minor": 0
      },
      "text/plain": [
       "FigureWidget({\n",
       "    'data': [],\n",
       "    'layout': {'template': '...',\n",
       "               'title': {'text': 'Complex Sig…"
      ]
     },
     "metadata": {},
     "output_type": "display_data"
    },
    {
     "data": {
      "application/vnd.jupyter.widget-view+json": {
       "model_id": "8a91fc0c50914761b5f4f8a48886d3f1",
       "version_major": 2,
       "version_minor": 0
      },
      "text/plain": [
       "FigureWidget({\n",
       "    'data': [{'name': 'Magnitude', 'type': 'scattergl', 'uid': '75f30ac1-24fe-435e-871f-31acb0c…"
      ]
     },
     "metadata": {},
     "output_type": "display_data"
    },
    {
     "name": "stderr",
     "output_type": "stream",
     "text": [
      "2024-11-16 21:58:12,857 - root - INFO - DAC tile 0 DAC block 0 is NOT enabled!\n",
      "2024-11-16 21:58:12,862 - root - INFO - DAC tile 0 DAC block 1 is NOT enabled!\n",
      "2024-11-16 21:58:12,865 - root - INFO - DAC tile 0 DAC block 2 is NOT enabled!\n",
      "2024-11-16 21:58:12,869 - root - INFO - DAC tile 0 DAC block 3 is NOT enabled!\n",
      "2024-11-16 21:58:12,910 - root - INFO - DAC tile 1 DAC block 0 is enabled!\n",
      "2024-11-16 21:58:12,913 - root - INFO - DAC tile 1 DAC block 1 is NOT enabled!\n",
      "2024-11-16 21:58:12,916 - root - INFO - DAC tile 1 DAC block 2 is NOT enabled!\n",
      "2024-11-16 21:58:12,919 - root - INFO - DAC tile 1 DAC block 3 is NOT enabled!\n",
      "2024-11-16 21:58:12,960 - root - INFO - DAC tile 2 DAC block 0 is enabled!\n",
      "2024-11-16 21:58:12,964 - root - INFO - DAC tile 2 DAC block 1 is NOT enabled!\n",
      "2024-11-16 21:58:12,967 - root - INFO - DAC tile 2 DAC block 2 is NOT enabled!\n",
      "2024-11-16 21:58:12,970 - root - INFO - DAC tile 2 DAC block 3 is NOT enabled!\n",
      "2024-11-16 21:58:12,973 - root - INFO - DAC tile 3 DAC block 0 is NOT enabled!\n",
      "2024-11-16 21:58:12,976 - root - INFO - DAC tile 3 DAC block 1 is NOT enabled!\n",
      "2024-11-16 21:58:12,979 - root - INFO - DAC tile 3 DAC block 2 is NOT enabled!\n",
      "2024-11-16 21:58:12,982 - root - INFO - DAC tile 3 DAC block 3 is NOT enabled!\n",
      "2024-11-16 21:58:12,985 - root - INFO - ADC tile 0 ADC block 0 is NOT enabled!\n",
      "2024-11-16 21:58:12,988 - root - INFO - ADC tile 0 ADC block 1 is NOT enabled!\n",
      "2024-11-16 21:58:12,991 - root - INFO - ADC tile 0 ADC block 2 is NOT enabled!\n",
      "2024-11-16 21:58:12,994 - root - INFO - ADC tile 0 ADC block 3 is NOT enabled!\n",
      "2024-11-16 21:58:13,036 - root - INFO - ADC tile 1 ADC block 0 is enabled!\n",
      "2024-11-16 21:58:13,039 - root - INFO - ADC tile 1 ADC block 1 is NOT enabled!\n",
      "2024-11-16 21:58:13,042 - root - INFO - ADC tile 1 ADC block 2 is NOT enabled!\n",
      "2024-11-16 21:58:13,045 - root - INFO - ADC tile 1 ADC block 3 is NOT enabled!\n",
      "2024-11-16 21:58:13,083 - root - INFO - ADC tile 2 ADC block 0 is enabled!\n",
      "2024-11-16 21:58:13,086 - root - INFO - ADC tile 2 ADC block 1 is NOT enabled!\n",
      "2024-11-16 21:58:13,089 - root - INFO - ADC tile 2 ADC block 2 is NOT enabled!\n",
      "2024-11-16 21:58:13,092 - root - INFO - ADC tile 2 ADC block 3 is NOT enabled!\n",
      "2024-11-16 21:58:13,095 - root - INFO - ADC tile 3 ADC block 0 is NOT enabled!\n",
      "2024-11-16 21:58:13,098 - root - INFO - ADC tile 3 ADC block 1 is NOT enabled!\n",
      "2024-11-16 21:58:13,101 - root - INFO - ADC tile 3 ADC block 2 is NOT enabled!\n",
      "2024-11-16 21:58:13,104 - root - INFO - ADC tile 3 ADC block 3 is NOT enabled!\n"
     ]
    },
    {
     "name": "stdout",
     "output_type": "stream",
     "text": [
      "qam_order 16QAM, nco 625.0, atten 3.0, inv_sinc 1\n"
     ]
    },
    {
     "name": "stderr",
     "output_type": "stream",
     "text": [
      "2024-11-16 21:58:21,533 - root - INFO - SNR: 27.496, CFO: -8.348, EVM: 0.052, BER: 0.0002083333\n"
     ]
    },
    {
     "name": "stdout",
     "output_type": "stream",
     "text": [
      "Warning: Packet Saturated for 0.02%\n"
     ]
    },
    {
     "data": {
      "application/vnd.jupyter.widget-view+json": {
       "model_id": "4d1928f34acc4ba69c570b3c374948c8",
       "version_major": 2,
       "version_minor": 0
      },
      "text/plain": [
       "FigureWidget({\n",
       "    'data': [],\n",
       "    'layout': {'template': '...',\n",
       "               'title': {'text': 'Complex Sig…"
      ]
     },
     "metadata": {},
     "output_type": "display_data"
    },
    {
     "data": {
      "application/vnd.jupyter.widget-view+json": {
       "model_id": "4cc4e4da0ac54ec79c98131e5014cad8",
       "version_major": 2,
       "version_minor": 0
      },
      "text/plain": [
       "FigureWidget({\n",
       "    'data': [{'name': 'Magnitude', 'type': 'scattergl', 'uid': '91dac0dc-09f2-4cfa-98b7-4d76409…"
      ]
     },
     "metadata": {},
     "output_type": "display_data"
    },
    {
     "name": "stderr",
     "output_type": "stream",
     "text": [
      "2024-11-16 21:58:22,325 - root - INFO - DAC tile 0 DAC block 0 is NOT enabled!\n",
      "2024-11-16 21:58:22,330 - root - INFO - DAC tile 0 DAC block 1 is NOT enabled!\n",
      "2024-11-16 21:58:22,334 - root - INFO - DAC tile 0 DAC block 2 is NOT enabled!\n",
      "2024-11-16 21:58:22,336 - root - INFO - DAC tile 0 DAC block 3 is NOT enabled!\n",
      "2024-11-16 21:58:22,380 - root - INFO - DAC tile 1 DAC block 0 is enabled!\n",
      "2024-11-16 21:58:22,383 - root - INFO - DAC tile 1 DAC block 1 is NOT enabled!\n",
      "2024-11-16 21:58:22,386 - root - INFO - DAC tile 1 DAC block 2 is NOT enabled!\n",
      "2024-11-16 21:58:22,389 - root - INFO - DAC tile 1 DAC block 3 is NOT enabled!\n",
      "2024-11-16 21:58:22,431 - root - INFO - DAC tile 2 DAC block 0 is enabled!\n",
      "2024-11-16 21:58:22,435 - root - INFO - DAC tile 2 DAC block 1 is NOT enabled!\n",
      "2024-11-16 21:58:22,438 - root - INFO - DAC tile 2 DAC block 2 is NOT enabled!\n",
      "2024-11-16 21:58:22,441 - root - INFO - DAC tile 2 DAC block 3 is NOT enabled!\n",
      "2024-11-16 21:58:22,444 - root - INFO - DAC tile 3 DAC block 0 is NOT enabled!\n",
      "2024-11-16 21:58:22,447 - root - INFO - DAC tile 3 DAC block 1 is NOT enabled!\n",
      "2024-11-16 21:58:22,450 - root - INFO - DAC tile 3 DAC block 2 is NOT enabled!\n",
      "2024-11-16 21:58:22,453 - root - INFO - DAC tile 3 DAC block 3 is NOT enabled!\n",
      "2024-11-16 21:58:22,456 - root - INFO - ADC tile 0 ADC block 0 is NOT enabled!\n",
      "2024-11-16 21:58:22,459 - root - INFO - ADC tile 0 ADC block 1 is NOT enabled!\n",
      "2024-11-16 21:58:22,462 - root - INFO - ADC tile 0 ADC block 2 is NOT enabled!\n",
      "2024-11-16 21:58:22,465 - root - INFO - ADC tile 0 ADC block 3 is NOT enabled!\n",
      "2024-11-16 21:58:22,524 - root - INFO - ADC tile 1 ADC block 0 is enabled!\n",
      "2024-11-16 21:58:22,528 - root - INFO - ADC tile 1 ADC block 1 is NOT enabled!\n",
      "2024-11-16 21:58:22,531 - root - INFO - ADC tile 1 ADC block 2 is NOT enabled!\n",
      "2024-11-16 21:58:22,534 - root - INFO - ADC tile 1 ADC block 3 is NOT enabled!\n",
      "2024-11-16 21:58:22,569 - root - INFO - ADC tile 2 ADC block 0 is enabled!\n",
      "2024-11-16 21:58:22,571 - root - INFO - ADC tile 2 ADC block 1 is NOT enabled!\n",
      "2024-11-16 21:58:22,574 - root - INFO - ADC tile 2 ADC block 2 is NOT enabled!\n",
      "2024-11-16 21:58:22,577 - root - INFO - ADC tile 2 ADC block 3 is NOT enabled!\n",
      "2024-11-16 21:58:22,580 - root - INFO - ADC tile 3 ADC block 0 is NOT enabled!\n",
      "2024-11-16 21:58:22,583 - root - INFO - ADC tile 3 ADC block 1 is NOT enabled!\n",
      "2024-11-16 21:58:22,586 - root - INFO - ADC tile 3 ADC block 2 is NOT enabled!\n",
      "2024-11-16 21:58:22,589 - root - INFO - ADC tile 3 ADC block 3 is NOT enabled!\n"
     ]
    },
    {
     "name": "stdout",
     "output_type": "stream",
     "text": [
      "qam_order 64QAM, nco 625.0, atten 3.0, inv_sinc 1\n"
     ]
    },
    {
     "name": "stderr",
     "output_type": "stream",
     "text": [
      "2024-11-16 21:58:31,182 - root - INFO - SNR: 26.840, CFO: 72.352, EVM: 0.054, BER: 0.0039930556\n"
     ]
    },
    {
     "name": "stdout",
     "output_type": "stream",
     "text": [
      "Warning: Packet Saturated for 0.04%\n"
     ]
    },
    {
     "data": {
      "application/vnd.jupyter.widget-view+json": {
       "model_id": "2607fa02ba1045079b4e9eb241e12759",
       "version_major": 2,
       "version_minor": 0
      },
      "text/plain": [
       "FigureWidget({\n",
       "    'data': [],\n",
       "    'layout': {'template': '...',\n",
       "               'title': {'text': 'Complex Sig…"
      ]
     },
     "metadata": {},
     "output_type": "display_data"
    },
    {
     "data": {
      "application/vnd.jupyter.widget-view+json": {
       "model_id": "0b1607e5b2834168b1df46b8aec0032c",
       "version_major": 2,
       "version_minor": 0
      },
      "text/plain": [
       "FigureWidget({\n",
       "    'data': [{'name': 'Magnitude', 'type': 'scattergl', 'uid': '68d2ff64-60ab-46e3-aaa9-44001da…"
      ]
     },
     "metadata": {},
     "output_type": "display_data"
    },
    {
     "name": "stderr",
     "output_type": "stream",
     "text": [
      "2024-11-16 21:58:32,030 - root - INFO - DAC tile 0 DAC block 0 is NOT enabled!\n",
      "2024-11-16 21:58:32,035 - root - INFO - DAC tile 0 DAC block 1 is NOT enabled!\n",
      "2024-11-16 21:58:32,038 - root - INFO - DAC tile 0 DAC block 2 is NOT enabled!\n",
      "2024-11-16 21:58:32,041 - root - INFO - DAC tile 0 DAC block 3 is NOT enabled!\n",
      "2024-11-16 21:58:32,082 - root - INFO - DAC tile 1 DAC block 0 is enabled!\n",
      "2024-11-16 21:58:32,085 - root - INFO - DAC tile 1 DAC block 1 is NOT enabled!\n",
      "2024-11-16 21:58:32,087 - root - INFO - DAC tile 1 DAC block 2 is NOT enabled!\n",
      "2024-11-16 21:58:32,090 - root - INFO - DAC tile 1 DAC block 3 is NOT enabled!\n",
      "2024-11-16 21:58:32,131 - root - INFO - DAC tile 2 DAC block 0 is enabled!\n",
      "2024-11-16 21:58:32,134 - root - INFO - DAC tile 2 DAC block 1 is NOT enabled!\n",
      "2024-11-16 21:58:32,136 - root - INFO - DAC tile 2 DAC block 2 is NOT enabled!\n",
      "2024-11-16 21:58:32,139 - root - INFO - DAC tile 2 DAC block 3 is NOT enabled!\n",
      "2024-11-16 21:58:32,141 - root - INFO - DAC tile 3 DAC block 0 is NOT enabled!\n",
      "2024-11-16 21:58:32,144 - root - INFO - DAC tile 3 DAC block 1 is NOT enabled!\n",
      "2024-11-16 21:58:32,147 - root - INFO - DAC tile 3 DAC block 2 is NOT enabled!\n",
      "2024-11-16 21:58:32,149 - root - INFO - DAC tile 3 DAC block 3 is NOT enabled!\n",
      "2024-11-16 21:58:32,152 - root - INFO - ADC tile 0 ADC block 0 is NOT enabled!\n",
      "2024-11-16 21:58:32,155 - root - INFO - ADC tile 0 ADC block 1 is NOT enabled!\n",
      "2024-11-16 21:58:32,157 - root - INFO - ADC tile 0 ADC block 2 is NOT enabled!\n",
      "2024-11-16 21:58:32,160 - root - INFO - ADC tile 0 ADC block 3 is NOT enabled!\n",
      "2024-11-16 21:58:32,203 - root - INFO - ADC tile 1 ADC block 0 is enabled!\n",
      "2024-11-16 21:58:32,206 - root - INFO - ADC tile 1 ADC block 1 is NOT enabled!\n",
      "2024-11-16 21:58:32,209 - root - INFO - ADC tile 1 ADC block 2 is NOT enabled!\n",
      "2024-11-16 21:58:32,212 - root - INFO - ADC tile 1 ADC block 3 is NOT enabled!\n",
      "2024-11-16 21:58:32,247 - root - INFO - ADC tile 2 ADC block 0 is enabled!\n",
      "2024-11-16 21:58:32,250 - root - INFO - ADC tile 2 ADC block 1 is NOT enabled!\n",
      "2024-11-16 21:58:32,253 - root - INFO - ADC tile 2 ADC block 2 is NOT enabled!\n",
      "2024-11-16 21:58:32,256 - root - INFO - ADC tile 2 ADC block 3 is NOT enabled!\n",
      "2024-11-16 21:58:32,258 - root - INFO - ADC tile 3 ADC block 0 is NOT enabled!\n",
      "2024-11-16 21:58:32,263 - root - INFO - ADC tile 3 ADC block 1 is NOT enabled!\n",
      "2024-11-16 21:58:32,266 - root - INFO - ADC tile 3 ADC block 2 is NOT enabled!\n",
      "2024-11-16 21:58:32,270 - root - INFO - ADC tile 3 ADC block 3 is NOT enabled!\n"
     ]
    },
    {
     "name": "stdout",
     "output_type": "stream",
     "text": [
      "qam_order 256QAM, nco 625.0, atten 3.0, inv_sinc 1\n"
     ]
    },
    {
     "name": "stderr",
     "output_type": "stream",
     "text": [
      "2024-11-16 21:58:36,382 - root - ERROR - Fail to detect Rx packet\n"
     ]
    },
    {
     "data": {
      "application/vnd.jupyter.widget-view+json": {
       "model_id": "60c0a21637e647afa81e912d0fb3d20d",
       "version_major": 2,
       "version_minor": 0
      },
      "text/plain": [
       "FigureWidget({\n",
       "    'data': [],\n",
       "    'layout': {'template': '...',\n",
       "               'title': {'text': 'Complex Sig…"
      ]
     },
     "metadata": {},
     "output_type": "display_data"
    },
    {
     "data": {
      "application/vnd.jupyter.widget-view+json": {
       "model_id": "676f6c336d264d568b33c6fe863b3d18",
       "version_major": 2,
       "version_minor": 0
      },
      "text/plain": [
       "FigureWidget({\n",
       "    'data': [{'name': 'Magnitude', 'type': 'scattergl', 'uid': '9f42e37d-56f9-44d2-8db8-1b2fb2a…"
      ]
     },
     "metadata": {},
     "output_type": "display_data"
    },
    {
     "name": "stderr",
     "output_type": "stream",
     "text": [
      "2024-11-16 21:58:37,297 - root - INFO - DAC tile 0 DAC block 0 is NOT enabled!\n",
      "2024-11-16 21:58:37,301 - root - INFO - DAC tile 0 DAC block 1 is NOT enabled!\n",
      "2024-11-16 21:58:37,304 - root - INFO - DAC tile 0 DAC block 2 is NOT enabled!\n",
      "2024-11-16 21:58:37,308 - root - INFO - DAC tile 0 DAC block 3 is NOT enabled!\n",
      "2024-11-16 21:58:37,350 - root - INFO - DAC tile 1 DAC block 0 is enabled!\n",
      "2024-11-16 21:58:37,353 - root - INFO - DAC tile 1 DAC block 1 is NOT enabled!\n",
      "2024-11-16 21:58:37,356 - root - INFO - DAC tile 1 DAC block 2 is NOT enabled!\n",
      "2024-11-16 21:58:37,358 - root - INFO - DAC tile 1 DAC block 3 is NOT enabled!\n",
      "2024-11-16 21:58:37,399 - root - INFO - DAC tile 2 DAC block 0 is enabled!\n",
      "2024-11-16 21:58:37,402 - root - INFO - DAC tile 2 DAC block 1 is NOT enabled!\n",
      "2024-11-16 21:58:37,405 - root - INFO - DAC tile 2 DAC block 2 is NOT enabled!\n",
      "2024-11-16 21:58:37,407 - root - INFO - DAC tile 2 DAC block 3 is NOT enabled!\n",
      "2024-11-16 21:58:37,410 - root - INFO - DAC tile 3 DAC block 0 is NOT enabled!\n",
      "2024-11-16 21:58:37,413 - root - INFO - DAC tile 3 DAC block 1 is NOT enabled!\n",
      "2024-11-16 21:58:37,416 - root - INFO - DAC tile 3 DAC block 2 is NOT enabled!\n",
      "2024-11-16 21:58:37,418 - root - INFO - DAC tile 3 DAC block 3 is NOT enabled!\n",
      "2024-11-16 21:58:37,425 - root - INFO - ADC tile 0 ADC block 0 is NOT enabled!\n",
      "2024-11-16 21:58:37,427 - root - INFO - ADC tile 0 ADC block 1 is NOT enabled!\n",
      "2024-11-16 21:58:37,430 - root - INFO - ADC tile 0 ADC block 2 is NOT enabled!\n",
      "2024-11-16 21:58:37,433 - root - INFO - ADC tile 0 ADC block 3 is NOT enabled!\n",
      "2024-11-16 21:58:37,471 - root - INFO - ADC tile 1 ADC block 0 is enabled!\n",
      "2024-11-16 21:58:37,474 - root - INFO - ADC tile 1 ADC block 1 is NOT enabled!\n",
      "2024-11-16 21:58:37,476 - root - INFO - ADC tile 1 ADC block 2 is NOT enabled!\n",
      "2024-11-16 21:58:37,479 - root - INFO - ADC tile 1 ADC block 3 is NOT enabled!\n",
      "2024-11-16 21:58:37,516 - root - INFO - ADC tile 2 ADC block 0 is enabled!\n",
      "2024-11-16 21:58:37,519 - root - INFO - ADC tile 2 ADC block 1 is NOT enabled!\n",
      "2024-11-16 21:58:37,521 - root - INFO - ADC tile 2 ADC block 2 is NOT enabled!\n",
      "2024-11-16 21:58:37,524 - root - INFO - ADC tile 2 ADC block 3 is NOT enabled!\n",
      "2024-11-16 21:58:37,526 - root - INFO - ADC tile 3 ADC block 0 is NOT enabled!\n",
      "2024-11-16 21:58:37,529 - root - INFO - ADC tile 3 ADC block 1 is NOT enabled!\n",
      "2024-11-16 21:58:37,532 - root - INFO - ADC tile 3 ADC block 2 is NOT enabled!\n",
      "2024-11-16 21:58:37,534 - root - INFO - ADC tile 3 ADC block 3 is NOT enabled!\n"
     ]
    },
    {
     "name": "stdout",
     "output_type": "stream",
     "text": [
      "qam_order 1024QAM, nco 625.0, atten 3.0, inv_sinc 1\n"
     ]
    },
    {
     "name": "stderr",
     "output_type": "stream",
     "text": [
      "2024-11-16 21:58:47,215 - root - INFO - SNR: 29.610, CFO: -108.458, EVM: 0.028, BER: 0.0229166667\n"
     ]
    },
    {
     "data": {
      "application/vnd.jupyter.widget-view+json": {
       "model_id": "a63263a255a64842be9643be572a9ce6",
       "version_major": 2,
       "version_minor": 0
      },
      "text/plain": [
       "FigureWidget({\n",
       "    'data': [],\n",
       "    'layout': {'template': '...',\n",
       "               'title': {'text': 'Complex Sig…"
      ]
     },
     "metadata": {},
     "output_type": "display_data"
    },
    {
     "data": {
      "application/vnd.jupyter.widget-view+json": {
       "model_id": "c4d4a878614d44d6b26aaf41590bcd96",
       "version_major": 2,
       "version_minor": 0
      },
      "text/plain": [
       "FigureWidget({\n",
       "    'data': [{'name': 'Magnitude', 'type': 'scattergl', 'uid': 'bbcabeeb-20ec-45d9-a4ee-e143c4f…"
      ]
     },
     "metadata": {},
     "output_type": "display_data"
    },
    {
     "name": "stderr",
     "output_type": "stream",
     "text": [
      "2024-11-16 21:58:47,958 - root - INFO - DAC tile 0 DAC block 0 is NOT enabled!\n",
      "2024-11-16 21:58:47,963 - root - INFO - DAC tile 0 DAC block 1 is NOT enabled!\n",
      "2024-11-16 21:58:47,967 - root - INFO - DAC tile 0 DAC block 2 is NOT enabled!\n",
      "2024-11-16 21:58:47,970 - root - INFO - DAC tile 0 DAC block 3 is NOT enabled!\n",
      "2024-11-16 21:58:48,010 - root - INFO - DAC tile 1 DAC block 0 is enabled!\n",
      "2024-11-16 21:58:48,013 - root - INFO - DAC tile 1 DAC block 1 is NOT enabled!\n",
      "2024-11-16 21:58:48,016 - root - INFO - DAC tile 1 DAC block 2 is NOT enabled!\n",
      "2024-11-16 21:58:48,019 - root - INFO - DAC tile 1 DAC block 3 is NOT enabled!\n",
      "2024-11-16 21:58:48,060 - root - INFO - DAC tile 2 DAC block 0 is enabled!\n",
      "2024-11-16 21:58:48,064 - root - INFO - DAC tile 2 DAC block 1 is NOT enabled!\n",
      "2024-11-16 21:58:48,067 - root - INFO - DAC tile 2 DAC block 2 is NOT enabled!\n",
      "2024-11-16 21:58:48,070 - root - INFO - DAC tile 2 DAC block 3 is NOT enabled!\n",
      "2024-11-16 21:58:48,072 - root - INFO - DAC tile 3 DAC block 0 is NOT enabled!\n",
      "2024-11-16 21:58:48,075 - root - INFO - DAC tile 3 DAC block 1 is NOT enabled!\n",
      "2024-11-16 21:58:48,078 - root - INFO - DAC tile 3 DAC block 2 is NOT enabled!\n",
      "2024-11-16 21:58:48,080 - root - INFO - DAC tile 3 DAC block 3 is NOT enabled!\n",
      "2024-11-16 21:58:48,083 - root - INFO - ADC tile 0 ADC block 0 is NOT enabled!\n",
      "2024-11-16 21:58:48,086 - root - INFO - ADC tile 0 ADC block 1 is NOT enabled!\n",
      "2024-11-16 21:58:48,088 - root - INFO - ADC tile 0 ADC block 2 is NOT enabled!\n",
      "2024-11-16 21:58:48,091 - root - INFO - ADC tile 0 ADC block 3 is NOT enabled!\n",
      "2024-11-16 21:58:48,133 - root - INFO - ADC tile 1 ADC block 0 is enabled!\n",
      "2024-11-16 21:58:48,136 - root - INFO - ADC tile 1 ADC block 1 is NOT enabled!\n",
      "2024-11-16 21:58:48,138 - root - INFO - ADC tile 1 ADC block 2 is NOT enabled!\n",
      "2024-11-16 21:58:48,141 - root - INFO - ADC tile 1 ADC block 3 is NOT enabled!\n",
      "2024-11-16 21:58:48,177 - root - INFO - ADC tile 2 ADC block 0 is enabled!\n",
      "2024-11-16 21:58:48,179 - root - INFO - ADC tile 2 ADC block 1 is NOT enabled!\n",
      "2024-11-16 21:58:48,182 - root - INFO - ADC tile 2 ADC block 2 is NOT enabled!\n",
      "2024-11-16 21:58:48,184 - root - INFO - ADC tile 2 ADC block 3 is NOT enabled!\n",
      "2024-11-16 21:58:48,187 - root - INFO - ADC tile 3 ADC block 0 is NOT enabled!\n",
      "2024-11-16 21:58:48,190 - root - INFO - ADC tile 3 ADC block 1 is NOT enabled!\n",
      "2024-11-16 21:58:48,192 - root - INFO - ADC tile 3 ADC block 2 is NOT enabled!\n",
      "2024-11-16 21:58:48,199 - root - INFO - ADC tile 3 ADC block 3 is NOT enabled!\n"
     ]
    },
    {
     "name": "stdout",
     "output_type": "stream",
     "text": [
      "qam_order 16QAM, nco 625.0, atten 6.0, inv_sinc 1\n"
     ]
    },
    {
     "name": "stderr",
     "output_type": "stream",
     "text": [
      "2024-11-16 21:59:09,150 - root - ERROR - Fail to detect Rx packet\n"
     ]
    },
    {
     "data": {
      "application/vnd.jupyter.widget-view+json": {
       "model_id": "e21f4c633999483e87796aa8c66f4ba4",
       "version_major": 2,
       "version_minor": 0
      },
      "text/plain": [
       "FigureWidget({\n",
       "    'data': [],\n",
       "    'layout': {'template': '...',\n",
       "               'title': {'text': 'Complex Sig…"
      ]
     },
     "metadata": {},
     "output_type": "display_data"
    },
    {
     "data": {
      "application/vnd.jupyter.widget-view+json": {
       "model_id": "0954c23dc52f411181f64739e85867c9",
       "version_major": 2,
       "version_minor": 0
      },
      "text/plain": [
       "FigureWidget({\n",
       "    'data': [{'name': 'Magnitude', 'type': 'scattergl', 'uid': 'bc899044-71fe-49aa-a419-dacfc9b…"
      ]
     },
     "metadata": {},
     "output_type": "display_data"
    },
    {
     "name": "stderr",
     "output_type": "stream",
     "text": [
      "2024-11-16 21:59:09,934 - root - INFO - DAC tile 0 DAC block 0 is NOT enabled!\n",
      "2024-11-16 21:59:09,939 - root - INFO - DAC tile 0 DAC block 1 is NOT enabled!\n",
      "2024-11-16 21:59:09,943 - root - INFO - DAC tile 0 DAC block 2 is NOT enabled!\n",
      "2024-11-16 21:59:09,945 - root - INFO - DAC tile 0 DAC block 3 is NOT enabled!\n",
      "2024-11-16 21:59:09,986 - root - INFO - DAC tile 1 DAC block 0 is enabled!\n",
      "2024-11-16 21:59:09,989 - root - INFO - DAC tile 1 DAC block 1 is NOT enabled!\n",
      "2024-11-16 21:59:09,991 - root - INFO - DAC tile 1 DAC block 2 is NOT enabled!\n",
      "2024-11-16 21:59:09,994 - root - INFO - DAC tile 1 DAC block 3 is NOT enabled!\n",
      "2024-11-16 21:59:10,035 - root - INFO - DAC tile 2 DAC block 0 is enabled!\n",
      "2024-11-16 21:59:10,038 - root - INFO - DAC tile 2 DAC block 1 is NOT enabled!\n",
      "2024-11-16 21:59:10,041 - root - INFO - DAC tile 2 DAC block 2 is NOT enabled!\n",
      "2024-11-16 21:59:10,043 - root - INFO - DAC tile 2 DAC block 3 is NOT enabled!\n",
      "2024-11-16 21:59:10,048 - root - INFO - DAC tile 3 DAC block 0 is NOT enabled!\n",
      "2024-11-16 21:59:10,051 - root - INFO - DAC tile 3 DAC block 1 is NOT enabled!\n",
      "2024-11-16 21:59:10,054 - root - INFO - DAC tile 3 DAC block 2 is NOT enabled!\n",
      "2024-11-16 21:59:10,056 - root - INFO - DAC tile 3 DAC block 3 is NOT enabled!\n",
      "2024-11-16 21:59:10,059 - root - INFO - ADC tile 0 ADC block 0 is NOT enabled!\n",
      "2024-11-16 21:59:10,062 - root - INFO - ADC tile 0 ADC block 1 is NOT enabled!\n",
      "2024-11-16 21:59:10,064 - root - INFO - ADC tile 0 ADC block 2 is NOT enabled!\n",
      "2024-11-16 21:59:10,067 - root - INFO - ADC tile 0 ADC block 3 is NOT enabled!\n",
      "2024-11-16 21:59:10,109 - root - INFO - ADC tile 1 ADC block 0 is enabled!\n",
      "2024-11-16 21:59:10,112 - root - INFO - ADC tile 1 ADC block 1 is NOT enabled!\n",
      "2024-11-16 21:59:10,114 - root - INFO - ADC tile 1 ADC block 2 is NOT enabled!\n",
      "2024-11-16 21:59:10,117 - root - INFO - ADC tile 1 ADC block 3 is NOT enabled!\n",
      "2024-11-16 21:59:10,153 - root - INFO - ADC tile 2 ADC block 0 is enabled!\n",
      "2024-11-16 21:59:10,156 - root - INFO - ADC tile 2 ADC block 1 is NOT enabled!\n",
      "2024-11-16 21:59:10,159 - root - INFO - ADC tile 2 ADC block 2 is NOT enabled!\n",
      "2024-11-16 21:59:10,162 - root - INFO - ADC tile 2 ADC block 3 is NOT enabled!\n",
      "2024-11-16 21:59:10,165 - root - INFO - ADC tile 3 ADC block 0 is NOT enabled!\n",
      "2024-11-16 21:59:10,168 - root - INFO - ADC tile 3 ADC block 1 is NOT enabled!\n",
      "2024-11-16 21:59:10,170 - root - INFO - ADC tile 3 ADC block 2 is NOT enabled!\n",
      "2024-11-16 21:59:10,176 - root - INFO - ADC tile 3 ADC block 3 is NOT enabled!\n"
     ]
    },
    {
     "name": "stdout",
     "output_type": "stream",
     "text": [
      "qam_order 64QAM, nco 625.0, atten 6.0, inv_sinc 1\n"
     ]
    },
    {
     "name": "stderr",
     "output_type": "stream",
     "text": [
      "2024-11-16 21:59:18,720 - root - INFO - SNR: 23.918, CFO: 61.992, EVM: 0.054, BER: 0.0044444444\n"
     ]
    },
    {
     "data": {
      "application/vnd.jupyter.widget-view+json": {
       "model_id": "083301904df040c68a5522daa5723e46",
       "version_major": 2,
       "version_minor": 0
      },
      "text/plain": [
       "FigureWidget({\n",
       "    'data': [],\n",
       "    'layout': {'template': '...',\n",
       "               'title': {'text': 'Complex Sig…"
      ]
     },
     "metadata": {},
     "output_type": "display_data"
    },
    {
     "data": {
      "application/vnd.jupyter.widget-view+json": {
       "model_id": "dbefb7f812e644febf2047b38bf3a606",
       "version_major": 2,
       "version_minor": 0
      },
      "text/plain": [
       "FigureWidget({\n",
       "    'data': [{'name': 'Magnitude', 'type': 'scattergl', 'uid': '2164321d-bfeb-4d38-9605-c654e92…"
      ]
     },
     "metadata": {},
     "output_type": "display_data"
    },
    {
     "name": "stderr",
     "output_type": "stream",
     "text": [
      "2024-11-16 21:59:19,567 - root - INFO - DAC tile 0 DAC block 0 is NOT enabled!\n",
      "2024-11-16 21:59:19,572 - root - INFO - DAC tile 0 DAC block 1 is NOT enabled!\n",
      "2024-11-16 21:59:19,575 - root - INFO - DAC tile 0 DAC block 2 is NOT enabled!\n",
      "2024-11-16 21:59:19,579 - root - INFO - DAC tile 0 DAC block 3 is NOT enabled!\n",
      "2024-11-16 21:59:19,619 - root - INFO - DAC tile 1 DAC block 0 is enabled!\n",
      "2024-11-16 21:59:19,622 - root - INFO - DAC tile 1 DAC block 1 is NOT enabled!\n",
      "2024-11-16 21:59:19,625 - root - INFO - DAC tile 1 DAC block 2 is NOT enabled!\n",
      "2024-11-16 21:59:19,633 - root - INFO - DAC tile 1 DAC block 3 is NOT enabled!\n",
      "2024-11-16 21:59:19,692 - root - INFO - DAC tile 2 DAC block 0 is enabled!\n",
      "2024-11-16 21:59:19,695 - root - INFO - DAC tile 2 DAC block 1 is NOT enabled!\n",
      "2024-11-16 21:59:19,698 - root - INFO - DAC tile 2 DAC block 2 is NOT enabled!\n",
      "2024-11-16 21:59:19,701 - root - INFO - DAC tile 2 DAC block 3 is NOT enabled!\n",
      "2024-11-16 21:59:19,704 - root - INFO - DAC tile 3 DAC block 0 is NOT enabled!\n",
      "2024-11-16 21:59:19,707 - root - INFO - DAC tile 3 DAC block 1 is NOT enabled!\n",
      "2024-11-16 21:59:19,710 - root - INFO - DAC tile 3 DAC block 2 is NOT enabled!\n",
      "2024-11-16 21:59:19,713 - root - INFO - DAC tile 3 DAC block 3 is NOT enabled!\n",
      "2024-11-16 21:59:19,719 - root - INFO - ADC tile 0 ADC block 0 is NOT enabled!\n",
      "2024-11-16 21:59:19,722 - root - INFO - ADC tile 0 ADC block 1 is NOT enabled!\n",
      "2024-11-16 21:59:19,725 - root - INFO - ADC tile 0 ADC block 2 is NOT enabled!\n",
      "2024-11-16 21:59:19,727 - root - INFO - ADC tile 0 ADC block 3 is NOT enabled!\n",
      "2024-11-16 21:59:19,765 - root - INFO - ADC tile 1 ADC block 0 is enabled!\n",
      "2024-11-16 21:59:19,768 - root - INFO - ADC tile 1 ADC block 1 is NOT enabled!\n",
      "2024-11-16 21:59:19,771 - root - INFO - ADC tile 1 ADC block 2 is NOT enabled!\n",
      "2024-11-16 21:59:19,774 - root - INFO - ADC tile 1 ADC block 3 is NOT enabled!\n",
      "2024-11-16 21:59:19,809 - root - INFO - ADC tile 2 ADC block 0 is enabled!\n",
      "2024-11-16 21:59:19,812 - root - INFO - ADC tile 2 ADC block 1 is NOT enabled!\n",
      "2024-11-16 21:59:19,815 - root - INFO - ADC tile 2 ADC block 2 is NOT enabled!\n",
      "2024-11-16 21:59:19,818 - root - INFO - ADC tile 2 ADC block 3 is NOT enabled!\n",
      "2024-11-16 21:59:19,820 - root - INFO - ADC tile 3 ADC block 0 is NOT enabled!\n",
      "2024-11-16 21:59:19,823 - root - INFO - ADC tile 3 ADC block 1 is NOT enabled!\n",
      "2024-11-16 21:59:19,826 - root - INFO - ADC tile 3 ADC block 2 is NOT enabled!\n",
      "2024-11-16 21:59:19,829 - root - INFO - ADC tile 3 ADC block 3 is NOT enabled!\n"
     ]
    },
    {
     "name": "stdout",
     "output_type": "stream",
     "text": [
      "qam_order 256QAM, nco 625.0, atten 6.0, inv_sinc 1\n"
     ]
    },
    {
     "name": "stderr",
     "output_type": "stream",
     "text": [
      "2024-11-16 21:59:28,682 - root - INFO - SNR: 26.976, CFO: -19.779, EVM: 0.043, BER: 0.0122395833\n"
     ]
    },
    {
     "data": {
      "application/vnd.jupyter.widget-view+json": {
       "model_id": "30511b9ae73045de8e63ba8caf031a00",
       "version_major": 2,
       "version_minor": 0
      },
      "text/plain": [
       "FigureWidget({\n",
       "    'data': [],\n",
       "    'layout': {'template': '...',\n",
       "               'title': {'text': 'Complex Sig…"
      ]
     },
     "metadata": {},
     "output_type": "display_data"
    },
    {
     "data": {
      "application/vnd.jupyter.widget-view+json": {
       "model_id": "abdc0d1aa8df42c4bbf85e37a8094c86",
       "version_major": 2,
       "version_minor": 0
      },
      "text/plain": [
       "FigureWidget({\n",
       "    'data': [{'name': 'Magnitude', 'type': 'scattergl', 'uid': 'b8c50419-9798-4ef6-9e3c-5a7d539…"
      ]
     },
     "metadata": {},
     "output_type": "display_data"
    },
    {
     "name": "stderr",
     "output_type": "stream",
     "text": [
      "2024-11-16 21:59:29,586 - root - INFO - DAC tile 0 DAC block 0 is NOT enabled!\n",
      "2024-11-16 21:59:29,590 - root - INFO - DAC tile 0 DAC block 1 is NOT enabled!\n",
      "2024-11-16 21:59:29,594 - root - INFO - DAC tile 0 DAC block 2 is NOT enabled!\n",
      "2024-11-16 21:59:29,597 - root - INFO - DAC tile 0 DAC block 3 is NOT enabled!\n",
      "2024-11-16 21:59:29,638 - root - INFO - DAC tile 1 DAC block 0 is enabled!\n",
      "2024-11-16 21:59:29,641 - root - INFO - DAC tile 1 DAC block 1 is NOT enabled!\n",
      "2024-11-16 21:59:29,644 - root - INFO - DAC tile 1 DAC block 2 is NOT enabled!\n",
      "2024-11-16 21:59:29,647 - root - INFO - DAC tile 1 DAC block 3 is NOT enabled!\n",
      "2024-11-16 21:59:29,687 - root - INFO - DAC tile 2 DAC block 0 is enabled!\n",
      "2024-11-16 21:59:29,690 - root - INFO - DAC tile 2 DAC block 1 is NOT enabled!\n",
      "2024-11-16 21:59:29,692 - root - INFO - DAC tile 2 DAC block 2 is NOT enabled!\n",
      "2024-11-16 21:59:29,695 - root - INFO - DAC tile 2 DAC block 3 is NOT enabled!\n",
      "2024-11-16 21:59:29,698 - root - INFO - DAC tile 3 DAC block 0 is NOT enabled!\n",
      "2024-11-16 21:59:29,701 - root - INFO - DAC tile 3 DAC block 1 is NOT enabled!\n",
      "2024-11-16 21:59:29,704 - root - INFO - DAC tile 3 DAC block 2 is NOT enabled!\n",
      "2024-11-16 21:59:29,707 - root - INFO - DAC tile 3 DAC block 3 is NOT enabled!\n",
      "2024-11-16 21:59:29,710 - root - INFO - ADC tile 0 ADC block 0 is NOT enabled!\n",
      "2024-11-16 21:59:29,717 - root - INFO - ADC tile 0 ADC block 1 is NOT enabled!\n",
      "2024-11-16 21:59:29,720 - root - INFO - ADC tile 0 ADC block 2 is NOT enabled!\n",
      "2024-11-16 21:59:29,723 - root - INFO - ADC tile 0 ADC block 3 is NOT enabled!\n",
      "2024-11-16 21:59:29,762 - root - INFO - ADC tile 1 ADC block 0 is enabled!\n",
      "2024-11-16 21:59:29,765 - root - INFO - ADC tile 1 ADC block 1 is NOT enabled!\n",
      "2024-11-16 21:59:29,768 - root - INFO - ADC tile 1 ADC block 2 is NOT enabled!\n",
      "2024-11-16 21:59:29,771 - root - INFO - ADC tile 1 ADC block 3 is NOT enabled!\n",
      "2024-11-16 21:59:29,806 - root - INFO - ADC tile 2 ADC block 0 is enabled!\n",
      "2024-11-16 21:59:29,809 - root - INFO - ADC tile 2 ADC block 1 is NOT enabled!\n",
      "2024-11-16 21:59:29,812 - root - INFO - ADC tile 2 ADC block 2 is NOT enabled!\n",
      "2024-11-16 21:59:29,815 - root - INFO - ADC tile 2 ADC block 3 is NOT enabled!\n",
      "2024-11-16 21:59:29,818 - root - INFO - ADC tile 3 ADC block 0 is NOT enabled!\n",
      "2024-11-16 21:59:29,820 - root - INFO - ADC tile 3 ADC block 1 is NOT enabled!\n",
      "2024-11-16 21:59:29,823 - root - INFO - ADC tile 3 ADC block 2 is NOT enabled!\n",
      "2024-11-16 21:59:29,826 - root - INFO - ADC tile 3 ADC block 3 is NOT enabled!\n"
     ]
    },
    {
     "name": "stdout",
     "output_type": "stream",
     "text": [
      "qam_order 1024QAM, nco 625.0, atten 6.0, inv_sinc 1\n"
     ]
    },
    {
     "name": "stderr",
     "output_type": "stream",
     "text": [
      "2024-11-16 21:59:39,911 - root - INFO - SNR: 26.197, CFO: 187.769, EVM: 0.030, BER: 0.0385625000\n"
     ]
    },
    {
     "data": {
      "application/vnd.jupyter.widget-view+json": {
       "model_id": "64bfa6cda2e4485493e1bc67bd5d177e",
       "version_major": 2,
       "version_minor": 0
      },
      "text/plain": [
       "FigureWidget({\n",
       "    'data': [],\n",
       "    'layout': {'template': '...',\n",
       "               'title': {'text': 'Complex Sig…"
      ]
     },
     "metadata": {},
     "output_type": "display_data"
    },
    {
     "data": {
      "application/vnd.jupyter.widget-view+json": {
       "model_id": "51e9f19fc334408ca8c579a985b6740e",
       "version_major": 2,
       "version_minor": 0
      },
      "text/plain": [
       "FigureWidget({\n",
       "    'data': [{'name': 'Magnitude', 'type': 'scattergl', 'uid': 'ea168cca-283b-447b-96ee-84c826e…"
      ]
     },
     "metadata": {},
     "output_type": "display_data"
    },
    {
     "name": "stderr",
     "output_type": "stream",
     "text": [
      "2024-11-16 21:59:40,669 - root - INFO - DAC tile 0 DAC block 0 is NOT enabled!\n",
      "2024-11-16 21:59:40,674 - root - INFO - DAC tile 0 DAC block 1 is NOT enabled!\n",
      "2024-11-16 21:59:40,678 - root - INFO - DAC tile 0 DAC block 2 is NOT enabled!\n",
      "2024-11-16 21:59:40,681 - root - INFO - DAC tile 0 DAC block 3 is NOT enabled!\n",
      "2024-11-16 21:59:40,721 - root - INFO - DAC tile 1 DAC block 0 is enabled!\n",
      "2024-11-16 21:59:40,724 - root - INFO - DAC tile 1 DAC block 1 is NOT enabled!\n",
      "2024-11-16 21:59:40,727 - root - INFO - DAC tile 1 DAC block 2 is NOT enabled!\n",
      "2024-11-16 21:59:40,730 - root - INFO - DAC tile 1 DAC block 3 is NOT enabled!\n",
      "2024-11-16 21:59:40,771 - root - INFO - DAC tile 2 DAC block 0 is enabled!\n",
      "2024-11-16 21:59:40,774 - root - INFO - DAC tile 2 DAC block 1 is NOT enabled!\n",
      "2024-11-16 21:59:40,776 - root - INFO - DAC tile 2 DAC block 2 is NOT enabled!\n",
      "2024-11-16 21:59:40,779 - root - INFO - DAC tile 2 DAC block 3 is NOT enabled!\n",
      "2024-11-16 21:59:40,782 - root - INFO - DAC tile 3 DAC block 0 is NOT enabled!\n",
      "2024-11-16 21:59:40,785 - root - INFO - DAC tile 3 DAC block 1 is NOT enabled!\n",
      "2024-11-16 21:59:40,788 - root - INFO - DAC tile 3 DAC block 2 is NOT enabled!\n",
      "2024-11-16 21:59:40,791 - root - INFO - DAC tile 3 DAC block 3 is NOT enabled!\n",
      "2024-11-16 21:59:40,794 - root - INFO - ADC tile 0 ADC block 0 is NOT enabled!\n",
      "2024-11-16 21:59:40,797 - root - INFO - ADC tile 0 ADC block 1 is NOT enabled!\n",
      "2024-11-16 21:59:40,800 - root - INFO - ADC tile 0 ADC block 2 is NOT enabled!\n",
      "2024-11-16 21:59:40,802 - root - INFO - ADC tile 0 ADC block 3 is NOT enabled!\n",
      "2024-11-16 21:59:40,845 - root - INFO - ADC tile 1 ADC block 0 is enabled!\n",
      "2024-11-16 21:59:40,848 - root - INFO - ADC tile 1 ADC block 1 is NOT enabled!\n",
      "2024-11-16 21:59:40,851 - root - INFO - ADC tile 1 ADC block 2 is NOT enabled!\n",
      "2024-11-16 21:59:40,854 - root - INFO - ADC tile 1 ADC block 3 is NOT enabled!\n",
      "2024-11-16 21:59:40,890 - root - INFO - ADC tile 2 ADC block 0 is enabled!\n",
      "2024-11-16 21:59:40,893 - root - INFO - ADC tile 2 ADC block 1 is NOT enabled!\n",
      "2024-11-16 21:59:40,896 - root - INFO - ADC tile 2 ADC block 2 is NOT enabled!\n",
      "2024-11-16 21:59:40,899 - root - INFO - ADC tile 2 ADC block 3 is NOT enabled!\n",
      "2024-11-16 21:59:40,904 - root - INFO - ADC tile 3 ADC block 0 is NOT enabled!\n",
      "2024-11-16 21:59:40,906 - root - INFO - ADC tile 3 ADC block 1 is NOT enabled!\n",
      "2024-11-16 21:59:40,909 - root - INFO - ADC tile 3 ADC block 2 is NOT enabled!\n",
      "2024-11-16 21:59:40,912 - root - INFO - ADC tile 3 ADC block 3 is NOT enabled!\n"
     ]
    },
    {
     "name": "stdout",
     "output_type": "stream",
     "text": [
      "qam_order 16QAM, nco 625.0, atten 9.0, inv_sinc 1\n"
     ]
    },
    {
     "name": "stderr",
     "output_type": "stream",
     "text": [
      "2024-11-16 21:59:49,241 - root - INFO - SNR: 25.936, CFO: -14.827, EVM: 0.051, BER: 0.0003645833\n"
     ]
    },
    {
     "data": {
      "application/vnd.jupyter.widget-view+json": {
       "model_id": "f945ab8f404949558548ee88af228123",
       "version_major": 2,
       "version_minor": 0
      },
      "text/plain": [
       "FigureWidget({\n",
       "    'data': [],\n",
       "    'layout': {'template': '...',\n",
       "               'title': {'text': 'Complex Sig…"
      ]
     },
     "metadata": {},
     "output_type": "display_data"
    },
    {
     "data": {
      "application/vnd.jupyter.widget-view+json": {
       "model_id": "78d9b1ec36e64ca8a8e560e78b98871d",
       "version_major": 2,
       "version_minor": 0
      },
      "text/plain": [
       "FigureWidget({\n",
       "    'data': [{'name': 'Magnitude', 'type': 'scattergl', 'uid': 'f2ffbaf9-87e2-414e-8420-93a4703…"
      ]
     },
     "metadata": {},
     "output_type": "display_data"
    },
    {
     "name": "stderr",
     "output_type": "stream",
     "text": [
      "2024-11-16 21:59:50,034 - root - INFO - DAC tile 0 DAC block 0 is NOT enabled!\n",
      "2024-11-16 21:59:50,039 - root - INFO - DAC tile 0 DAC block 1 is NOT enabled!\n",
      "2024-11-16 21:59:50,043 - root - INFO - DAC tile 0 DAC block 2 is NOT enabled!\n",
      "2024-11-16 21:59:50,046 - root - INFO - DAC tile 0 DAC block 3 is NOT enabled!\n",
      "2024-11-16 21:59:50,091 - root - INFO - DAC tile 1 DAC block 0 is enabled!\n",
      "2024-11-16 21:59:50,094 - root - INFO - DAC tile 1 DAC block 1 is NOT enabled!\n",
      "2024-11-16 21:59:50,097 - root - INFO - DAC tile 1 DAC block 2 is NOT enabled!\n",
      "2024-11-16 21:59:50,100 - root - INFO - DAC tile 1 DAC block 3 is NOT enabled!\n",
      "2024-11-16 21:59:50,141 - root - INFO - DAC tile 2 DAC block 0 is enabled!\n",
      "2024-11-16 21:59:50,145 - root - INFO - DAC tile 2 DAC block 1 is NOT enabled!\n",
      "2024-11-16 21:59:50,148 - root - INFO - DAC tile 2 DAC block 2 is NOT enabled!\n",
      "2024-11-16 21:59:50,152 - root - INFO - DAC tile 2 DAC block 3 is NOT enabled!\n",
      "2024-11-16 21:59:50,155 - root - INFO - DAC tile 3 DAC block 0 is NOT enabled!\n",
      "2024-11-16 21:59:50,158 - root - INFO - DAC tile 3 DAC block 1 is NOT enabled!\n",
      "2024-11-16 21:59:50,160 - root - INFO - DAC tile 3 DAC block 2 is NOT enabled!\n",
      "2024-11-16 21:59:50,163 - root - INFO - DAC tile 3 DAC block 3 is NOT enabled!\n",
      "2024-11-16 21:59:50,166 - root - INFO - ADC tile 0 ADC block 0 is NOT enabled!\n",
      "2024-11-16 21:59:50,169 - root - INFO - ADC tile 0 ADC block 1 is NOT enabled!\n",
      "2024-11-16 21:59:50,172 - root - INFO - ADC tile 0 ADC block 2 is NOT enabled!\n",
      "2024-11-16 21:59:50,175 - root - INFO - ADC tile 0 ADC block 3 is NOT enabled!\n",
      "2024-11-16 21:59:50,216 - root - INFO - ADC tile 1 ADC block 0 is enabled!\n",
      "2024-11-16 21:59:50,219 - root - INFO - ADC tile 1 ADC block 1 is NOT enabled!\n",
      "2024-11-16 21:59:50,222 - root - INFO - ADC tile 1 ADC block 2 is NOT enabled!\n",
      "2024-11-16 21:59:50,224 - root - INFO - ADC tile 1 ADC block 3 is NOT enabled!\n",
      "2024-11-16 21:59:50,261 - root - INFO - ADC tile 2 ADC block 0 is enabled!\n",
      "2024-11-16 21:59:50,264 - root - INFO - ADC tile 2 ADC block 1 is NOT enabled!\n",
      "2024-11-16 21:59:50,267 - root - INFO - ADC tile 2 ADC block 2 is NOT enabled!\n",
      "2024-11-16 21:59:50,270 - root - INFO - ADC tile 2 ADC block 3 is NOT enabled!\n",
      "2024-11-16 21:59:50,279 - root - INFO - ADC tile 3 ADC block 0 is NOT enabled!\n",
      "2024-11-16 21:59:50,289 - root - INFO - ADC tile 3 ADC block 1 is NOT enabled!\n",
      "2024-11-16 21:59:50,292 - root - INFO - ADC tile 3 ADC block 2 is NOT enabled!\n",
      "2024-11-16 21:59:50,295 - root - INFO - ADC tile 3 ADC block 3 is NOT enabled!\n"
     ]
    },
    {
     "name": "stdout",
     "output_type": "stream",
     "text": [
      "qam_order 64QAM, nco 625.0, atten 9.0, inv_sinc 1\n"
     ]
    },
    {
     "name": "stderr",
     "output_type": "stream",
     "text": [
      "2024-11-16 21:59:58,877 - root - INFO - SNR: 25.774, CFO: 284.047, EVM: 0.061, BER: 0.0035763889\n"
     ]
    },
    {
     "data": {
      "application/vnd.jupyter.widget-view+json": {
       "model_id": "86ea8ff0d06f459caa3aa83e674e33e7",
       "version_major": 2,
       "version_minor": 0
      },
      "text/plain": [
       "FigureWidget({\n",
       "    'data': [],\n",
       "    'layout': {'template': '...',\n",
       "               'title': {'text': 'Complex Sig…"
      ]
     },
     "metadata": {},
     "output_type": "display_data"
    },
    {
     "data": {
      "application/vnd.jupyter.widget-view+json": {
       "model_id": "88fa23d0db484de7a53ec53c3981e6b7",
       "version_major": 2,
       "version_minor": 0
      },
      "text/plain": [
       "FigureWidget({\n",
       "    'data': [{'name': 'Magnitude', 'type': 'scattergl', 'uid': 'a0e5123c-6367-4fb7-9bdc-1d3c0ae…"
      ]
     },
     "metadata": {},
     "output_type": "display_data"
    },
    {
     "name": "stderr",
     "output_type": "stream",
     "text": [
      "2024-11-16 21:59:59,730 - root - INFO - DAC tile 0 DAC block 0 is NOT enabled!\n",
      "2024-11-16 21:59:59,734 - root - INFO - DAC tile 0 DAC block 1 is NOT enabled!\n",
      "2024-11-16 21:59:59,737 - root - INFO - DAC tile 0 DAC block 2 is NOT enabled!\n",
      "2024-11-16 21:59:59,739 - root - INFO - DAC tile 0 DAC block 3 is NOT enabled!\n",
      "2024-11-16 21:59:59,785 - root - INFO - DAC tile 1 DAC block 0 is enabled!\n",
      "2024-11-16 21:59:59,788 - root - INFO - DAC tile 1 DAC block 1 is NOT enabled!\n",
      "2024-11-16 21:59:59,791 - root - INFO - DAC tile 1 DAC block 2 is NOT enabled!\n",
      "2024-11-16 21:59:59,794 - root - INFO - DAC tile 1 DAC block 3 is NOT enabled!\n",
      "2024-11-16 21:59:59,836 - root - INFO - DAC tile 2 DAC block 0 is enabled!\n",
      "2024-11-16 21:59:59,838 - root - INFO - DAC tile 2 DAC block 1 is NOT enabled!\n",
      "2024-11-16 21:59:59,843 - root - INFO - DAC tile 2 DAC block 2 is NOT enabled!\n",
      "2024-11-16 21:59:59,846 - root - INFO - DAC tile 2 DAC block 3 is NOT enabled!\n",
      "2024-11-16 21:59:59,849 - root - INFO - DAC tile 3 DAC block 0 is NOT enabled!\n",
      "2024-11-16 21:59:59,851 - root - INFO - DAC tile 3 DAC block 1 is NOT enabled!\n",
      "2024-11-16 21:59:59,854 - root - INFO - DAC tile 3 DAC block 2 is NOT enabled!\n",
      "2024-11-16 21:59:59,861 - root - INFO - DAC tile 3 DAC block 3 is NOT enabled!\n",
      "2024-11-16 21:59:59,864 - root - INFO - ADC tile 0 ADC block 0 is NOT enabled!\n",
      "2024-11-16 21:59:59,867 - root - INFO - ADC tile 0 ADC block 1 is NOT enabled!\n",
      "2024-11-16 21:59:59,869 - root - INFO - ADC tile 0 ADC block 2 is NOT enabled!\n",
      "2024-11-16 21:59:59,872 - root - INFO - ADC tile 0 ADC block 3 is NOT enabled!\n",
      "2024-11-16 21:59:59,910 - root - INFO - ADC tile 1 ADC block 0 is enabled!\n",
      "2024-11-16 21:59:59,913 - root - INFO - ADC tile 1 ADC block 1 is NOT enabled!\n",
      "2024-11-16 21:59:59,916 - root - INFO - ADC tile 1 ADC block 2 is NOT enabled!\n",
      "2024-11-16 21:59:59,919 - root - INFO - ADC tile 1 ADC block 3 is NOT enabled!\n",
      "2024-11-16 21:59:59,954 - root - INFO - ADC tile 2 ADC block 0 is enabled!\n",
      "2024-11-16 21:59:59,957 - root - INFO - ADC tile 2 ADC block 1 is NOT enabled!\n",
      "2024-11-16 21:59:59,960 - root - INFO - ADC tile 2 ADC block 2 is NOT enabled!\n",
      "2024-11-16 21:59:59,963 - root - INFO - ADC tile 2 ADC block 3 is NOT enabled!\n",
      "2024-11-16 21:59:59,966 - root - INFO - ADC tile 3 ADC block 0 is NOT enabled!\n",
      "2024-11-16 21:59:59,968 - root - INFO - ADC tile 3 ADC block 1 is NOT enabled!\n",
      "2024-11-16 21:59:59,971 - root - INFO - ADC tile 3 ADC block 2 is NOT enabled!\n",
      "2024-11-16 21:59:59,974 - root - INFO - ADC tile 3 ADC block 3 is NOT enabled!\n"
     ]
    },
    {
     "name": "stdout",
     "output_type": "stream",
     "text": [
      "qam_order 256QAM, nco 625.0, atten 9.0, inv_sinc 1\n"
     ]
    },
    {
     "name": "stderr",
     "output_type": "stream",
     "text": [
      "2024-11-16 22:00:08,801 - root - INFO - SNR: 22.765, CFO: -183.523, EVM: 0.050, BER: 0.0257812500\n"
     ]
    },
    {
     "data": {
      "application/vnd.jupyter.widget-view+json": {
       "model_id": "8f86639c99064c1cae6e0525a7d241f7",
       "version_major": 2,
       "version_minor": 0
      },
      "text/plain": [
       "FigureWidget({\n",
       "    'data': [],\n",
       "    'layout': {'template': '...',\n",
       "               'title': {'text': 'Complex Sig…"
      ]
     },
     "metadata": {},
     "output_type": "display_data"
    },
    {
     "data": {
      "application/vnd.jupyter.widget-view+json": {
       "model_id": "1322d460039040dea3acac6ff5b868c1",
       "version_major": 2,
       "version_minor": 0
      },
      "text/plain": [
       "FigureWidget({\n",
       "    'data': [{'name': 'Magnitude', 'type': 'scattergl', 'uid': '25e7fe35-2ad5-4cb9-b3f4-62fbda7…"
      ]
     },
     "metadata": {},
     "output_type": "display_data"
    },
    {
     "name": "stderr",
     "output_type": "stream",
     "text": [
      "2024-11-16 22:00:09,752 - root - INFO - DAC tile 0 DAC block 0 is NOT enabled!\n",
      "2024-11-16 22:00:09,756 - root - INFO - DAC tile 0 DAC block 1 is NOT enabled!\n",
      "2024-11-16 22:00:09,759 - root - INFO - DAC tile 0 DAC block 2 is NOT enabled!\n",
      "2024-11-16 22:00:09,762 - root - INFO - DAC tile 0 DAC block 3 is NOT enabled!\n",
      "2024-11-16 22:00:09,807 - root - INFO - DAC tile 1 DAC block 0 is enabled!\n",
      "2024-11-16 22:00:09,810 - root - INFO - DAC tile 1 DAC block 1 is NOT enabled!\n",
      "2024-11-16 22:00:09,813 - root - INFO - DAC tile 1 DAC block 2 is NOT enabled!\n",
      "2024-11-16 22:00:09,815 - root - INFO - DAC tile 1 DAC block 3 is NOT enabled!\n",
      "2024-11-16 22:00:09,856 - root - INFO - DAC tile 2 DAC block 0 is enabled!\n",
      "2024-11-16 22:00:09,859 - root - INFO - DAC tile 2 DAC block 1 is NOT enabled!\n",
      "2024-11-16 22:00:09,862 - root - INFO - DAC tile 2 DAC block 2 is NOT enabled!\n",
      "2024-11-16 22:00:09,865 - root - INFO - DAC tile 2 DAC block 3 is NOT enabled!\n",
      "2024-11-16 22:00:09,868 - root - INFO - DAC tile 3 DAC block 0 is NOT enabled!\n",
      "2024-11-16 22:00:09,871 - root - INFO - DAC tile 3 DAC block 1 is NOT enabled!\n",
      "2024-11-16 22:00:09,873 - root - INFO - DAC tile 3 DAC block 2 is NOT enabled!\n",
      "2024-11-16 22:00:09,876 - root - INFO - DAC tile 3 DAC block 3 is NOT enabled!\n",
      "2024-11-16 22:00:09,879 - root - INFO - ADC tile 0 ADC block 0 is NOT enabled!\n",
      "2024-11-16 22:00:09,882 - root - INFO - ADC tile 0 ADC block 1 is NOT enabled!\n",
      "2024-11-16 22:00:09,885 - root - INFO - ADC tile 0 ADC block 2 is NOT enabled!\n",
      "2024-11-16 22:00:09,888 - root - INFO - ADC tile 0 ADC block 3 is NOT enabled!\n",
      "2024-11-16 22:00:09,931 - root - INFO - ADC tile 1 ADC block 0 is enabled!\n",
      "2024-11-16 22:00:09,934 - root - INFO - ADC tile 1 ADC block 1 is NOT enabled!\n",
      "2024-11-16 22:00:09,938 - root - INFO - ADC tile 1 ADC block 2 is NOT enabled!\n",
      "2024-11-16 22:00:09,941 - root - INFO - ADC tile 1 ADC block 3 is NOT enabled!\n",
      "2024-11-16 22:00:09,976 - root - INFO - ADC tile 2 ADC block 0 is enabled!\n",
      "2024-11-16 22:00:09,980 - root - INFO - ADC tile 2 ADC block 1 is NOT enabled!\n",
      "2024-11-16 22:00:09,982 - root - INFO - ADC tile 2 ADC block 2 is NOT enabled!\n",
      "2024-11-16 22:00:09,985 - root - INFO - ADC tile 2 ADC block 3 is NOT enabled!\n",
      "2024-11-16 22:00:09,988 - root - INFO - ADC tile 3 ADC block 0 is NOT enabled!\n",
      "2024-11-16 22:00:09,991 - root - INFO - ADC tile 3 ADC block 1 is NOT enabled!\n",
      "2024-11-16 22:00:09,994 - root - INFO - ADC tile 3 ADC block 2 is NOT enabled!\n",
      "2024-11-16 22:00:09,997 - root - INFO - ADC tile 3 ADC block 3 is NOT enabled!\n"
     ]
    },
    {
     "name": "stdout",
     "output_type": "stream",
     "text": [
      "qam_order 1024QAM, nco 625.0, atten 9.0, inv_sinc 1\n"
     ]
    },
    {
     "name": "stderr",
     "output_type": "stream",
     "text": [
      "2024-11-16 22:00:19,685 - root - INFO - SNR: 24.912, CFO: 69.784, EVM: 0.034, BER: 0.0502708333\n"
     ]
    },
    {
     "data": {
      "application/vnd.jupyter.widget-view+json": {
       "model_id": "6dd3954621164765a93e7bd622941253",
       "version_major": 2,
       "version_minor": 0
      },
      "text/plain": [
       "FigureWidget({\n",
       "    'data': [],\n",
       "    'layout': {'template': '...',\n",
       "               'title': {'text': 'Complex Sig…"
      ]
     },
     "metadata": {},
     "output_type": "display_data"
    },
    {
     "data": {
      "application/vnd.jupyter.widget-view+json": {
       "model_id": "78c2ab0183464b25a989f805930c551e",
       "version_major": 2,
       "version_minor": 0
      },
      "text/plain": [
       "FigureWidget({\n",
       "    'data': [{'name': 'Magnitude', 'type': 'scattergl', 'uid': 'b8775a11-7fe0-4831-8c9f-dba8185…"
      ]
     },
     "metadata": {},
     "output_type": "display_data"
    },
    {
     "name": "stderr",
     "output_type": "stream",
     "text": [
      "2024-11-16 22:00:20,421 - root - INFO - DAC tile 0 DAC block 0 is NOT enabled!\n",
      "2024-11-16 22:00:20,425 - root - INFO - DAC tile 0 DAC block 1 is NOT enabled!\n",
      "2024-11-16 22:00:20,428 - root - INFO - DAC tile 0 DAC block 2 is NOT enabled!\n",
      "2024-11-16 22:00:20,431 - root - INFO - DAC tile 0 DAC block 3 is NOT enabled!\n",
      "2024-11-16 22:00:20,478 - root - INFO - DAC tile 1 DAC block 0 is enabled!\n",
      "2024-11-16 22:00:20,481 - root - INFO - DAC tile 1 DAC block 1 is NOT enabled!\n",
      "2024-11-16 22:00:20,483 - root - INFO - DAC tile 1 DAC block 2 is NOT enabled!\n",
      "2024-11-16 22:00:20,486 - root - INFO - DAC tile 1 DAC block 3 is NOT enabled!\n",
      "2024-11-16 22:00:20,527 - root - INFO - DAC tile 2 DAC block 0 is enabled!\n",
      "2024-11-16 22:00:20,529 - root - INFO - DAC tile 2 DAC block 1 is NOT enabled!\n",
      "2024-11-16 22:00:20,532 - root - INFO - DAC tile 2 DAC block 2 is NOT enabled!\n",
      "2024-11-16 22:00:20,534 - root - INFO - DAC tile 2 DAC block 3 is NOT enabled!\n",
      "2024-11-16 22:00:20,537 - root - INFO - DAC tile 3 DAC block 0 is NOT enabled!\n",
      "2024-11-16 22:00:20,539 - root - INFO - DAC tile 3 DAC block 1 is NOT enabled!\n",
      "2024-11-16 22:00:20,542 - root - INFO - DAC tile 3 DAC block 2 is NOT enabled!\n",
      "2024-11-16 22:00:20,545 - root - INFO - DAC tile 3 DAC block 3 is NOT enabled!\n",
      "2024-11-16 22:00:20,548 - root - INFO - ADC tile 0 ADC block 0 is NOT enabled!\n",
      "2024-11-16 22:00:20,550 - root - INFO - ADC tile 0 ADC block 1 is NOT enabled!\n",
      "2024-11-16 22:00:20,553 - root - INFO - ADC tile 0 ADC block 2 is NOT enabled!\n",
      "2024-11-16 22:00:20,556 - root - INFO - ADC tile 0 ADC block 3 is NOT enabled!\n",
      "2024-11-16 22:00:20,599 - root - INFO - ADC tile 1 ADC block 0 is enabled!\n",
      "2024-11-16 22:00:20,603 - root - INFO - ADC tile 1 ADC block 1 is NOT enabled!\n",
      "2024-11-16 22:00:20,606 - root - INFO - ADC tile 1 ADC block 2 is NOT enabled!\n",
      "2024-11-16 22:00:20,609 - root - INFO - ADC tile 1 ADC block 3 is NOT enabled!\n",
      "2024-11-16 22:00:20,644 - root - INFO - ADC tile 2 ADC block 0 is enabled!\n",
      "2024-11-16 22:00:20,647 - root - INFO - ADC tile 2 ADC block 1 is NOT enabled!\n",
      "2024-11-16 22:00:20,650 - root - INFO - ADC tile 2 ADC block 2 is NOT enabled!\n",
      "2024-11-16 22:00:20,653 - root - INFO - ADC tile 2 ADC block 3 is NOT enabled!\n",
      "2024-11-16 22:00:20,656 - root - INFO - ADC tile 3 ADC block 0 is NOT enabled!\n",
      "2024-11-16 22:00:20,659 - root - INFO - ADC tile 3 ADC block 1 is NOT enabled!\n",
      "2024-11-16 22:00:20,661 - root - INFO - ADC tile 3 ADC block 2 is NOT enabled!\n",
      "2024-11-16 22:00:20,664 - root - INFO - ADC tile 3 ADC block 3 is NOT enabled!\n"
     ]
    },
    {
     "name": "stdout",
     "output_type": "stream",
     "text": [
      "qam_order 16QAM, nco 625.0, atten 12.0, inv_sinc 1\n"
     ]
    },
    {
     "name": "stderr",
     "output_type": "stream",
     "text": [
      "2024-11-16 22:00:41,696 - root - ERROR - Fail to detect Rx packet\n"
     ]
    },
    {
     "data": {
      "application/vnd.jupyter.widget-view+json": {
       "model_id": "005120ab652044c295e7e3e8e678e3e0",
       "version_major": 2,
       "version_minor": 0
      },
      "text/plain": [
       "FigureWidget({\n",
       "    'data': [],\n",
       "    'layout': {'template': '...',\n",
       "               'title': {'text': 'Complex Sig…"
      ]
     },
     "metadata": {},
     "output_type": "display_data"
    },
    {
     "data": {
      "application/vnd.jupyter.widget-view+json": {
       "model_id": "b74a684c7f7a4ffb83bb53a53097f36d",
       "version_major": 2,
       "version_minor": 0
      },
      "text/plain": [
       "FigureWidget({\n",
       "    'data': [{'name': 'Magnitude', 'type': 'scattergl', 'uid': 'bc480c8b-a61d-4798-9bf1-882167e…"
      ]
     },
     "metadata": {},
     "output_type": "display_data"
    },
    {
     "name": "stderr",
     "output_type": "stream",
     "text": [
      "2024-11-16 22:00:42,473 - root - INFO - DAC tile 0 DAC block 0 is NOT enabled!\n",
      "2024-11-16 22:00:42,477 - root - INFO - DAC tile 0 DAC block 1 is NOT enabled!\n",
      "2024-11-16 22:00:42,480 - root - INFO - DAC tile 0 DAC block 2 is NOT enabled!\n",
      "2024-11-16 22:00:42,482 - root - INFO - DAC tile 0 DAC block 3 is NOT enabled!\n",
      "2024-11-16 22:00:42,530 - root - INFO - DAC tile 1 DAC block 0 is enabled!\n",
      "2024-11-16 22:00:42,533 - root - INFO - DAC tile 1 DAC block 1 is NOT enabled!\n",
      "2024-11-16 22:00:42,536 - root - INFO - DAC tile 1 DAC block 2 is NOT enabled!\n",
      "2024-11-16 22:00:42,538 - root - INFO - DAC tile 1 DAC block 3 is NOT enabled!\n",
      "2024-11-16 22:00:42,582 - root - INFO - DAC tile 2 DAC block 0 is enabled!\n",
      "2024-11-16 22:00:42,585 - root - INFO - DAC tile 2 DAC block 1 is NOT enabled!\n",
      "2024-11-16 22:00:42,592 - root - INFO - DAC tile 2 DAC block 2 is NOT enabled!\n",
      "2024-11-16 22:00:42,595 - root - INFO - DAC tile 2 DAC block 3 is NOT enabled!\n",
      "2024-11-16 22:00:42,598 - root - INFO - DAC tile 3 DAC block 0 is NOT enabled!\n",
      "2024-11-16 22:00:42,601 - root - INFO - DAC tile 3 DAC block 1 is NOT enabled!\n",
      "2024-11-16 22:00:42,604 - root - INFO - DAC tile 3 DAC block 2 is NOT enabled!\n",
      "2024-11-16 22:00:42,606 - root - INFO - DAC tile 3 DAC block 3 is NOT enabled!\n",
      "2024-11-16 22:00:42,608 - root - INFO - ADC tile 0 ADC block 0 is NOT enabled!\n",
      "2024-11-16 22:00:42,611 - root - INFO - ADC tile 0 ADC block 1 is NOT enabled!\n",
      "2024-11-16 22:00:42,613 - root - INFO - ADC tile 0 ADC block 2 is NOT enabled!\n",
      "2024-11-16 22:00:42,616 - root - INFO - ADC tile 0 ADC block 3 is NOT enabled!\n",
      "2024-11-16 22:00:42,659 - root - INFO - ADC tile 1 ADC block 0 is enabled!\n",
      "2024-11-16 22:00:42,662 - root - INFO - ADC tile 1 ADC block 1 is NOT enabled!\n",
      "2024-11-16 22:00:42,665 - root - INFO - ADC tile 1 ADC block 2 is NOT enabled!\n",
      "2024-11-16 22:00:42,667 - root - INFO - ADC tile 1 ADC block 3 is NOT enabled!\n",
      "2024-11-16 22:00:42,702 - root - INFO - ADC tile 2 ADC block 0 is enabled!\n",
      "2024-11-16 22:00:42,705 - root - INFO - ADC tile 2 ADC block 1 is NOT enabled!\n",
      "2024-11-16 22:00:42,708 - root - INFO - ADC tile 2 ADC block 2 is NOT enabled!\n",
      "2024-11-16 22:00:42,712 - root - INFO - ADC tile 2 ADC block 3 is NOT enabled!\n",
      "2024-11-16 22:00:42,715 - root - INFO - ADC tile 3 ADC block 0 is NOT enabled!\n",
      "2024-11-16 22:00:42,718 - root - INFO - ADC tile 3 ADC block 1 is NOT enabled!\n",
      "2024-11-16 22:00:42,721 - root - INFO - ADC tile 3 ADC block 2 is NOT enabled!\n",
      "2024-11-16 22:00:42,724 - root - INFO - ADC tile 3 ADC block 3 is NOT enabled!\n"
     ]
    },
    {
     "name": "stdout",
     "output_type": "stream",
     "text": [
      "qam_order 64QAM, nco 625.0, atten 12.0, inv_sinc 1\n"
     ]
    },
    {
     "name": "stderr",
     "output_type": "stream",
     "text": [
      "2024-11-16 22:00:51,282 - root - INFO - SNR: 22.419, CFO: -60.448, EVM: 0.081, BER: 0.0074305556\n"
     ]
    },
    {
     "data": {
      "application/vnd.jupyter.widget-view+json": {
       "model_id": "1448a86a12db49e597171df95b126903",
       "version_major": 2,
       "version_minor": 0
      },
      "text/plain": [
       "FigureWidget({\n",
       "    'data': [],\n",
       "    'layout': {'template': '...',\n",
       "               'title': {'text': 'Complex Sig…"
      ]
     },
     "metadata": {},
     "output_type": "display_data"
    },
    {
     "data": {
      "application/vnd.jupyter.widget-view+json": {
       "model_id": "53c89c7651e541e0b4d4635a9eb3bfc9",
       "version_major": 2,
       "version_minor": 0
      },
      "text/plain": [
       "FigureWidget({\n",
       "    'data': [{'name': 'Magnitude', 'type': 'scattergl', 'uid': '4abf25fd-ad3a-48a1-aa9f-bedc7b4…"
      ]
     },
     "metadata": {},
     "output_type": "display_data"
    },
    {
     "name": "stderr",
     "output_type": "stream",
     "text": [
      "2024-11-16 22:00:52,141 - root - INFO - DAC tile 0 DAC block 0 is NOT enabled!\n",
      "2024-11-16 22:00:52,145 - root - INFO - DAC tile 0 DAC block 1 is NOT enabled!\n",
      "2024-11-16 22:00:52,149 - root - INFO - DAC tile 0 DAC block 2 is NOT enabled!\n",
      "2024-11-16 22:00:52,152 - root - INFO - DAC tile 0 DAC block 3 is NOT enabled!\n",
      "2024-11-16 22:00:52,193 - root - INFO - DAC tile 1 DAC block 0 is enabled!\n",
      "2024-11-16 22:00:52,196 - root - INFO - DAC tile 1 DAC block 1 is NOT enabled!\n",
      "2024-11-16 22:00:52,198 - root - INFO - DAC tile 1 DAC block 2 is NOT enabled!\n",
      "2024-11-16 22:00:52,201 - root - INFO - DAC tile 1 DAC block 3 is NOT enabled!\n",
      "2024-11-16 22:00:52,242 - root - INFO - DAC tile 2 DAC block 0 is enabled!\n",
      "2024-11-16 22:00:52,245 - root - INFO - DAC tile 2 DAC block 1 is NOT enabled!\n",
      "2024-11-16 22:00:52,247 - root - INFO - DAC tile 2 DAC block 2 is NOT enabled!\n",
      "2024-11-16 22:00:52,249 - root - INFO - DAC tile 2 DAC block 3 is NOT enabled!\n",
      "2024-11-16 22:00:52,252 - root - INFO - DAC tile 3 DAC block 0 is NOT enabled!\n",
      "2024-11-16 22:00:52,255 - root - INFO - DAC tile 3 DAC block 1 is NOT enabled!\n",
      "2024-11-16 22:00:52,257 - root - INFO - DAC tile 3 DAC block 2 is NOT enabled!\n",
      "2024-11-16 22:00:52,260 - root - INFO - DAC tile 3 DAC block 3 is NOT enabled!\n",
      "2024-11-16 22:00:52,263 - root - INFO - ADC tile 0 ADC block 0 is NOT enabled!\n",
      "2024-11-16 22:00:52,265 - root - INFO - ADC tile 0 ADC block 1 is NOT enabled!\n",
      "2024-11-16 22:00:52,273 - root - INFO - ADC tile 0 ADC block 2 is NOT enabled!\n",
      "2024-11-16 22:00:52,276 - root - INFO - ADC tile 0 ADC block 3 is NOT enabled!\n",
      "2024-11-16 22:00:52,314 - root - INFO - ADC tile 1 ADC block 0 is enabled!\n",
      "2024-11-16 22:00:52,317 - root - INFO - ADC tile 1 ADC block 1 is NOT enabled!\n",
      "2024-11-16 22:00:52,320 - root - INFO - ADC tile 1 ADC block 2 is NOT enabled!\n",
      "2024-11-16 22:00:52,322 - root - INFO - ADC tile 1 ADC block 3 is NOT enabled!\n",
      "2024-11-16 22:00:52,359 - root - INFO - ADC tile 2 ADC block 0 is enabled!\n",
      "2024-11-16 22:00:52,361 - root - INFO - ADC tile 2 ADC block 1 is NOT enabled!\n",
      "2024-11-16 22:00:52,364 - root - INFO - ADC tile 2 ADC block 2 is NOT enabled!\n",
      "2024-11-16 22:00:52,366 - root - INFO - ADC tile 2 ADC block 3 is NOT enabled!\n",
      "2024-11-16 22:00:52,369 - root - INFO - ADC tile 3 ADC block 0 is NOT enabled!\n",
      "2024-11-16 22:00:52,371 - root - INFO - ADC tile 3 ADC block 1 is NOT enabled!\n",
      "2024-11-16 22:00:52,374 - root - INFO - ADC tile 3 ADC block 2 is NOT enabled!\n",
      "2024-11-16 22:00:52,377 - root - INFO - ADC tile 3 ADC block 3 is NOT enabled!\n"
     ]
    },
    {
     "name": "stdout",
     "output_type": "stream",
     "text": [
      "qam_order 256QAM, nco 625.0, atten 12.0, inv_sinc 1\n"
     ]
    },
    {
     "name": "stderr",
     "output_type": "stream",
     "text": [
      "2024-11-16 22:01:01,615 - root - INFO - SNR: 22.321, CFO: -140.276, EVM: 0.055, BER: 0.0215625000\n"
     ]
    },
    {
     "data": {
      "application/vnd.jupyter.widget-view+json": {
       "model_id": "4db3f8a73c6846f28198d8d891e2f5a2",
       "version_major": 2,
       "version_minor": 0
      },
      "text/plain": [
       "FigureWidget({\n",
       "    'data': [],\n",
       "    'layout': {'template': '...',\n",
       "               'title': {'text': 'Complex Sig…"
      ]
     },
     "metadata": {},
     "output_type": "display_data"
    },
    {
     "data": {
      "application/vnd.jupyter.widget-view+json": {
       "model_id": "9128ba65027d4d3f935a2939deb33283",
       "version_major": 2,
       "version_minor": 0
      },
      "text/plain": [
       "FigureWidget({\n",
       "    'data': [{'name': 'Magnitude', 'type': 'scattergl', 'uid': 'c0313d00-f606-426c-96df-823add6…"
      ]
     },
     "metadata": {},
     "output_type": "display_data"
    },
    {
     "name": "stderr",
     "output_type": "stream",
     "text": [
      "2024-11-16 22:01:02,544 - root - INFO - DAC tile 0 DAC block 0 is NOT enabled!\n",
      "2024-11-16 22:01:02,549 - root - INFO - DAC tile 0 DAC block 1 is NOT enabled!\n",
      "2024-11-16 22:01:02,552 - root - INFO - DAC tile 0 DAC block 2 is NOT enabled!\n",
      "2024-11-16 22:01:02,555 - root - INFO - DAC tile 0 DAC block 3 is NOT enabled!\n",
      "2024-11-16 22:01:02,598 - root - INFO - DAC tile 1 DAC block 0 is enabled!\n",
      "2024-11-16 22:01:02,601 - root - INFO - DAC tile 1 DAC block 1 is NOT enabled!\n",
      "2024-11-16 22:01:02,603 - root - INFO - DAC tile 1 DAC block 2 is NOT enabled!\n",
      "2024-11-16 22:01:02,606 - root - INFO - DAC tile 1 DAC block 3 is NOT enabled!\n",
      "2024-11-16 22:01:02,647 - root - INFO - DAC tile 2 DAC block 0 is enabled!\n",
      "2024-11-16 22:01:02,650 - root - INFO - DAC tile 2 DAC block 1 is NOT enabled!\n",
      "2024-11-16 22:01:02,652 - root - INFO - DAC tile 2 DAC block 2 is NOT enabled!\n",
      "2024-11-16 22:01:02,655 - root - INFO - DAC tile 2 DAC block 3 is NOT enabled!\n",
      "2024-11-16 22:01:02,658 - root - INFO - DAC tile 3 DAC block 0 is NOT enabled!\n",
      "2024-11-16 22:01:02,660 - root - INFO - DAC tile 3 DAC block 1 is NOT enabled!\n",
      "2024-11-16 22:01:02,663 - root - INFO - DAC tile 3 DAC block 2 is NOT enabled!\n",
      "2024-11-16 22:01:02,666 - root - INFO - DAC tile 3 DAC block 3 is NOT enabled!\n",
      "2024-11-16 22:01:02,668 - root - INFO - ADC tile 0 ADC block 0 is NOT enabled!\n",
      "2024-11-16 22:01:02,671 - root - INFO - ADC tile 0 ADC block 1 is NOT enabled!\n",
      "2024-11-16 22:01:02,673 - root - INFO - ADC tile 0 ADC block 2 is NOT enabled!\n",
      "2024-11-16 22:01:02,676 - root - INFO - ADC tile 0 ADC block 3 is NOT enabled!\n",
      "2024-11-16 22:01:02,719 - root - INFO - ADC tile 1 ADC block 0 is enabled!\n",
      "2024-11-16 22:01:02,723 - root - INFO - ADC tile 1 ADC block 1 is NOT enabled!\n",
      "2024-11-16 22:01:02,725 - root - INFO - ADC tile 1 ADC block 2 is NOT enabled!\n",
      "2024-11-16 22:01:02,729 - root - INFO - ADC tile 1 ADC block 3 is NOT enabled!\n",
      "2024-11-16 22:01:02,764 - root - INFO - ADC tile 2 ADC block 0 is enabled!\n",
      "2024-11-16 22:01:02,767 - root - INFO - ADC tile 2 ADC block 1 is NOT enabled!\n",
      "2024-11-16 22:01:02,770 - root - INFO - ADC tile 2 ADC block 2 is NOT enabled!\n",
      "2024-11-16 22:01:02,773 - root - INFO - ADC tile 2 ADC block 3 is NOT enabled!\n",
      "2024-11-16 22:01:02,776 - root - INFO - ADC tile 3 ADC block 0 is NOT enabled!\n",
      "2024-11-16 22:01:02,779 - root - INFO - ADC tile 3 ADC block 1 is NOT enabled!\n",
      "2024-11-16 22:01:02,782 - root - INFO - ADC tile 3 ADC block 2 is NOT enabled!\n",
      "2024-11-16 22:01:02,785 - root - INFO - ADC tile 3 ADC block 3 is NOT enabled!\n"
     ]
    },
    {
     "name": "stdout",
     "output_type": "stream",
     "text": [
      "qam_order 1024QAM, nco 625.0, atten 12.0, inv_sinc 1\n"
     ]
    },
    {
     "name": "stderr",
     "output_type": "stream",
     "text": [
      "2024-11-16 22:01:12,407 - root - INFO - SNR: 22.864, CFO: 157.413, EVM: 0.037, BER: 0.0784791667\n"
     ]
    },
    {
     "data": {
      "application/vnd.jupyter.widget-view+json": {
       "model_id": "77d4aa793a8e47299fa840502691daf8",
       "version_major": 2,
       "version_minor": 0
      },
      "text/plain": [
       "FigureWidget({\n",
       "    'data': [],\n",
       "    'layout': {'template': '...',\n",
       "               'title': {'text': 'Complex Sig…"
      ]
     },
     "metadata": {},
     "output_type": "display_data"
    },
    {
     "data": {
      "application/vnd.jupyter.widget-view+json": {
       "model_id": "a050db57681745c49d60638ce7894fee",
       "version_major": 2,
       "version_minor": 0
      },
      "text/plain": [
       "FigureWidget({\n",
       "    'data': [{'name': 'Magnitude', 'type': 'scattergl', 'uid': 'fab44f44-3036-4dc9-97e3-10db60d…"
      ]
     },
     "metadata": {},
     "output_type": "display_data"
    },
    {
     "name": "stderr",
     "output_type": "stream",
     "text": [
      "2024-11-16 22:01:13,174 - root - INFO - DAC tile 0 DAC block 0 is NOT enabled!\n",
      "2024-11-16 22:01:13,178 - root - INFO - DAC tile 0 DAC block 1 is NOT enabled!\n",
      "2024-11-16 22:01:13,181 - root - INFO - DAC tile 0 DAC block 2 is NOT enabled!\n",
      "2024-11-16 22:01:13,184 - root - INFO - DAC tile 0 DAC block 3 is NOT enabled!\n",
      "2024-11-16 22:01:13,227 - root - INFO - DAC tile 1 DAC block 0 is enabled!\n",
      "2024-11-16 22:01:13,230 - root - INFO - DAC tile 1 DAC block 1 is NOT enabled!\n",
      "2024-11-16 22:01:13,233 - root - INFO - DAC tile 1 DAC block 2 is NOT enabled!\n",
      "2024-11-16 22:01:13,236 - root - INFO - DAC tile 1 DAC block 3 is NOT enabled!\n",
      "2024-11-16 22:01:13,277 - root - INFO - DAC tile 2 DAC block 0 is enabled!\n",
      "2024-11-16 22:01:13,279 - root - INFO - DAC tile 2 DAC block 1 is NOT enabled!\n",
      "2024-11-16 22:01:13,282 - root - INFO - DAC tile 2 DAC block 2 is NOT enabled!\n",
      "2024-11-16 22:01:13,285 - root - INFO - DAC tile 2 DAC block 3 is NOT enabled!\n",
      "2024-11-16 22:01:13,288 - root - INFO - DAC tile 3 DAC block 0 is NOT enabled!\n",
      "2024-11-16 22:01:13,291 - root - INFO - DAC tile 3 DAC block 1 is NOT enabled!\n",
      "2024-11-16 22:01:13,294 - root - INFO - DAC tile 3 DAC block 2 is NOT enabled!\n",
      "2024-11-16 22:01:13,297 - root - INFO - DAC tile 3 DAC block 3 is NOT enabled!\n",
      "2024-11-16 22:01:13,300 - root - INFO - ADC tile 0 ADC block 0 is NOT enabled!\n",
      "2024-11-16 22:01:13,303 - root - INFO - ADC tile 0 ADC block 1 is NOT enabled!\n",
      "2024-11-16 22:01:13,306 - root - INFO - ADC tile 0 ADC block 2 is NOT enabled!\n",
      "2024-11-16 22:01:13,309 - root - INFO - ADC tile 0 ADC block 3 is NOT enabled!\n",
      "2024-11-16 22:01:13,352 - root - INFO - ADC tile 1 ADC block 0 is enabled!\n",
      "2024-11-16 22:01:13,356 - root - INFO - ADC tile 1 ADC block 1 is NOT enabled!\n",
      "2024-11-16 22:01:13,359 - root - INFO - ADC tile 1 ADC block 2 is NOT enabled!\n",
      "2024-11-16 22:01:13,362 - root - INFO - ADC tile 1 ADC block 3 is NOT enabled!\n",
      "2024-11-16 22:01:13,398 - root - INFO - ADC tile 2 ADC block 0 is enabled!\n",
      "2024-11-16 22:01:13,401 - root - INFO - ADC tile 2 ADC block 1 is NOT enabled!\n",
      "2024-11-16 22:01:13,403 - root - INFO - ADC tile 2 ADC block 2 is NOT enabled!\n",
      "2024-11-16 22:01:13,406 - root - INFO - ADC tile 2 ADC block 3 is NOT enabled!\n",
      "2024-11-16 22:01:13,409 - root - INFO - ADC tile 3 ADC block 0 is NOT enabled!\n",
      "2024-11-16 22:01:13,412 - root - INFO - ADC tile 3 ADC block 1 is NOT enabled!\n",
      "2024-11-16 22:01:13,416 - root - INFO - ADC tile 3 ADC block 2 is NOT enabled!\n",
      "2024-11-16 22:01:13,419 - root - INFO - ADC tile 3 ADC block 3 is NOT enabled!\n"
     ]
    },
    {
     "name": "stdout",
     "output_type": "stream",
     "text": [
      "qam_order 16QAM, nco 625.0, atten 15.0, inv_sinc 1\n"
     ]
    },
    {
     "name": "stderr",
     "output_type": "stream",
     "text": [
      "2024-11-16 22:01:21,839 - root - INFO - SNR: 19.432, CFO: -206.447, EVM: 0.087, BER: 0.0013541667\n"
     ]
    },
    {
     "data": {
      "application/vnd.jupyter.widget-view+json": {
       "model_id": "adef480eb64c488087c3d8a2b00263f7",
       "version_major": 2,
       "version_minor": 0
      },
      "text/plain": [
       "FigureWidget({\n",
       "    'data': [],\n",
       "    'layout': {'template': '...',\n",
       "               'title': {'text': 'Complex Sig…"
      ]
     },
     "metadata": {},
     "output_type": "display_data"
    },
    {
     "data": {
      "application/vnd.jupyter.widget-view+json": {
       "model_id": "54fe7aa057e24edea6693a6db0d4a4b7",
       "version_major": 2,
       "version_minor": 0
      },
      "text/plain": [
       "FigureWidget({\n",
       "    'data': [{'name': 'Magnitude', 'type': 'scattergl', 'uid': 'c128367a-71f6-4121-b8ba-310fc68…"
      ]
     },
     "metadata": {},
     "output_type": "display_data"
    },
    {
     "name": "stderr",
     "output_type": "stream",
     "text": [
      "2024-11-16 22:01:22,643 - root - INFO - DAC tile 0 DAC block 0 is NOT enabled!\n",
      "2024-11-16 22:01:22,648 - root - INFO - DAC tile 0 DAC block 1 is NOT enabled!\n",
      "2024-11-16 22:01:22,651 - root - INFO - DAC tile 0 DAC block 2 is NOT enabled!\n",
      "2024-11-16 22:01:22,655 - root - INFO - DAC tile 0 DAC block 3 is NOT enabled!\n",
      "2024-11-16 22:01:22,695 - root - INFO - DAC tile 1 DAC block 0 is enabled!\n",
      "2024-11-16 22:01:22,698 - root - INFO - DAC tile 1 DAC block 1 is NOT enabled!\n",
      "2024-11-16 22:01:22,701 - root - INFO - DAC tile 1 DAC block 2 is NOT enabled!\n",
      "2024-11-16 22:01:22,704 - root - INFO - DAC tile 1 DAC block 3 is NOT enabled!\n",
      "2024-11-16 22:01:22,744 - root - INFO - DAC tile 2 DAC block 0 is enabled!\n",
      "2024-11-16 22:01:22,747 - root - INFO - DAC tile 2 DAC block 1 is NOT enabled!\n",
      "2024-11-16 22:01:22,750 - root - INFO - DAC tile 2 DAC block 2 is NOT enabled!\n",
      "2024-11-16 22:01:22,753 - root - INFO - DAC tile 2 DAC block 3 is NOT enabled!\n",
      "2024-11-16 22:01:22,756 - root - INFO - DAC tile 3 DAC block 0 is NOT enabled!\n",
      "2024-11-16 22:01:22,758 - root - INFO - DAC tile 3 DAC block 1 is NOT enabled!\n",
      "2024-11-16 22:01:22,761 - root - INFO - DAC tile 3 DAC block 2 is NOT enabled!\n",
      "2024-11-16 22:01:22,764 - root - INFO - DAC tile 3 DAC block 3 is NOT enabled!\n",
      "2024-11-16 22:01:22,767 - root - INFO - ADC tile 0 ADC block 0 is NOT enabled!\n",
      "2024-11-16 22:01:22,770 - root - INFO - ADC tile 0 ADC block 1 is NOT enabled!\n",
      "2024-11-16 22:01:22,778 - root - INFO - ADC tile 0 ADC block 2 is NOT enabled!\n",
      "2024-11-16 22:01:22,780 - root - INFO - ADC tile 0 ADC block 3 is NOT enabled!\n",
      "2024-11-16 22:01:22,819 - root - INFO - ADC tile 1 ADC block 0 is enabled!\n",
      "2024-11-16 22:01:22,822 - root - INFO - ADC tile 1 ADC block 1 is NOT enabled!\n",
      "2024-11-16 22:01:22,824 - root - INFO - ADC tile 1 ADC block 2 is NOT enabled!\n",
      "2024-11-16 22:01:22,827 - root - INFO - ADC tile 1 ADC block 3 is NOT enabled!\n",
      "2024-11-16 22:01:22,862 - root - INFO - ADC tile 2 ADC block 0 is enabled!\n",
      "2024-11-16 22:01:22,865 - root - INFO - ADC tile 2 ADC block 1 is NOT enabled!\n",
      "2024-11-16 22:01:22,868 - root - INFO - ADC tile 2 ADC block 2 is NOT enabled!\n",
      "2024-11-16 22:01:22,870 - root - INFO - ADC tile 2 ADC block 3 is NOT enabled!\n",
      "2024-11-16 22:01:22,873 - root - INFO - ADC tile 3 ADC block 0 is NOT enabled!\n",
      "2024-11-16 22:01:22,876 - root - INFO - ADC tile 3 ADC block 1 is NOT enabled!\n",
      "2024-11-16 22:01:22,879 - root - INFO - ADC tile 3 ADC block 2 is NOT enabled!\n",
      "2024-11-16 22:01:22,882 - root - INFO - ADC tile 3 ADC block 3 is NOT enabled!\n"
     ]
    },
    {
     "name": "stdout",
     "output_type": "stream",
     "text": [
      "qam_order 64QAM, nco 625.0, atten 15.0, inv_sinc 1\n"
     ]
    },
    {
     "name": "stderr",
     "output_type": "stream",
     "text": [
      "2024-11-16 22:01:27,024 - root - ERROR - Fail to detect Rx packet\n"
     ]
    },
    {
     "data": {
      "application/vnd.jupyter.widget-view+json": {
       "model_id": "c496e7ab45cc4f279e5a84dccb2b554b",
       "version_major": 2,
       "version_minor": 0
      },
      "text/plain": [
       "FigureWidget({\n",
       "    'data': [],\n",
       "    'layout': {'template': '...',\n",
       "               'title': {'text': 'Complex Sig…"
      ]
     },
     "metadata": {},
     "output_type": "display_data"
    },
    {
     "data": {
      "application/vnd.jupyter.widget-view+json": {
       "model_id": "16f1a09823b44fa1a5fa133877768f5e",
       "version_major": 2,
       "version_minor": 0
      },
      "text/plain": [
       "FigureWidget({\n",
       "    'data': [{'name': 'Magnitude', 'type': 'scattergl', 'uid': '0389d4b1-c459-44c3-ab46-72d9ea3…"
      ]
     },
     "metadata": {},
     "output_type": "display_data"
    },
    {
     "name": "stderr",
     "output_type": "stream",
     "text": [
      "2024-11-16 22:01:27,870 - root - INFO - DAC tile 0 DAC block 0 is NOT enabled!\n",
      "2024-11-16 22:01:27,875 - root - INFO - DAC tile 0 DAC block 1 is NOT enabled!\n",
      "2024-11-16 22:01:27,878 - root - INFO - DAC tile 0 DAC block 2 is NOT enabled!\n",
      "2024-11-16 22:01:27,882 - root - INFO - DAC tile 0 DAC block 3 is NOT enabled!\n",
      "2024-11-16 22:01:27,922 - root - INFO - DAC tile 1 DAC block 0 is enabled!\n",
      "2024-11-16 22:01:27,925 - root - INFO - DAC tile 1 DAC block 1 is NOT enabled!\n",
      "2024-11-16 22:01:27,927 - root - INFO - DAC tile 1 DAC block 2 is NOT enabled!\n",
      "2024-11-16 22:01:27,930 - root - INFO - DAC tile 1 DAC block 3 is NOT enabled!\n",
      "2024-11-16 22:01:27,971 - root - INFO - DAC tile 2 DAC block 0 is enabled!\n",
      "2024-11-16 22:01:27,974 - root - INFO - DAC tile 2 DAC block 1 is NOT enabled!\n",
      "2024-11-16 22:01:27,977 - root - INFO - DAC tile 2 DAC block 2 is NOT enabled!\n",
      "2024-11-16 22:01:27,979 - root - INFO - DAC tile 2 DAC block 3 is NOT enabled!\n",
      "2024-11-16 22:01:27,982 - root - INFO - DAC tile 3 DAC block 0 is NOT enabled!\n",
      "2024-11-16 22:01:27,985 - root - INFO - DAC tile 3 DAC block 1 is NOT enabled!\n",
      "2024-11-16 22:01:27,988 - root - INFO - DAC tile 3 DAC block 2 is NOT enabled!\n",
      "2024-11-16 22:01:27,990 - root - INFO - DAC tile 3 DAC block 3 is NOT enabled!\n",
      "2024-11-16 22:01:27,997 - root - INFO - ADC tile 0 ADC block 0 is NOT enabled!\n",
      "2024-11-16 22:01:28,001 - root - INFO - ADC tile 0 ADC block 1 is NOT enabled!\n",
      "2024-11-16 22:01:28,003 - root - INFO - ADC tile 0 ADC block 2 is NOT enabled!\n",
      "2024-11-16 22:01:28,006 - root - INFO - ADC tile 0 ADC block 3 is NOT enabled!\n",
      "2024-11-16 22:01:28,045 - root - INFO - ADC tile 1 ADC block 0 is enabled!\n",
      "2024-11-16 22:01:28,048 - root - INFO - ADC tile 1 ADC block 1 is NOT enabled!\n",
      "2024-11-16 22:01:28,051 - root - INFO - ADC tile 1 ADC block 2 is NOT enabled!\n",
      "2024-11-16 22:01:28,054 - root - INFO - ADC tile 1 ADC block 3 is NOT enabled!\n",
      "2024-11-16 22:01:28,090 - root - INFO - ADC tile 2 ADC block 0 is enabled!\n",
      "2024-11-16 22:01:28,093 - root - INFO - ADC tile 2 ADC block 1 is NOT enabled!\n",
      "2024-11-16 22:01:28,095 - root - INFO - ADC tile 2 ADC block 2 is NOT enabled!\n",
      "2024-11-16 22:01:28,098 - root - INFO - ADC tile 2 ADC block 3 is NOT enabled!\n",
      "2024-11-16 22:01:28,101 - root - INFO - ADC tile 3 ADC block 0 is NOT enabled!\n",
      "2024-11-16 22:01:28,104 - root - INFO - ADC tile 3 ADC block 1 is NOT enabled!\n",
      "2024-11-16 22:01:28,107 - root - INFO - ADC tile 3 ADC block 2 is NOT enabled!\n",
      "2024-11-16 22:01:28,110 - root - INFO - ADC tile 3 ADC block 3 is NOT enabled!\n"
     ]
    },
    {
     "name": "stdout",
     "output_type": "stream",
     "text": [
      "qam_order 256QAM, nco 625.0, atten 15.0, inv_sinc 1\n"
     ]
    },
    {
     "name": "stderr",
     "output_type": "stream",
     "text": [
      "2024-11-16 22:01:32,256 - root - ERROR - Fail to detect Rx packet\n"
     ]
    },
    {
     "data": {
      "application/vnd.jupyter.widget-view+json": {
       "model_id": "acaa335564104360b46b9d18ffc4b246",
       "version_major": 2,
       "version_minor": 0
      },
      "text/plain": [
       "FigureWidget({\n",
       "    'data': [],\n",
       "    'layout': {'template': '...',\n",
       "               'title': {'text': 'Complex Sig…"
      ]
     },
     "metadata": {},
     "output_type": "display_data"
    },
    {
     "data": {
      "application/vnd.jupyter.widget-view+json": {
       "model_id": "010f16fb329943e4bd26c5b3be03e10e",
       "version_major": 2,
       "version_minor": 0
      },
      "text/plain": [
       "FigureWidget({\n",
       "    'data': [{'name': 'Magnitude', 'type': 'scattergl', 'uid': 'afc97e0e-ca00-41eb-b5cc-624b6ea…"
      ]
     },
     "metadata": {},
     "output_type": "display_data"
    },
    {
     "name": "stderr",
     "output_type": "stream",
     "text": [
      "2024-11-16 22:01:33,178 - root - INFO - DAC tile 0 DAC block 0 is NOT enabled!\n",
      "2024-11-16 22:01:33,183 - root - INFO - DAC tile 0 DAC block 1 is NOT enabled!\n",
      "2024-11-16 22:01:33,185 - root - INFO - DAC tile 0 DAC block 2 is NOT enabled!\n",
      "2024-11-16 22:01:33,189 - root - INFO - DAC tile 0 DAC block 3 is NOT enabled!\n",
      "2024-11-16 22:01:33,236 - root - INFO - DAC tile 1 DAC block 0 is enabled!\n",
      "2024-11-16 22:01:33,239 - root - INFO - DAC tile 1 DAC block 1 is NOT enabled!\n",
      "2024-11-16 22:01:33,243 - root - INFO - DAC tile 1 DAC block 2 is NOT enabled!\n",
      "2024-11-16 22:01:33,245 - root - INFO - DAC tile 1 DAC block 3 is NOT enabled!\n",
      "2024-11-16 22:01:33,286 - root - INFO - DAC tile 2 DAC block 0 is enabled!\n",
      "2024-11-16 22:01:33,289 - root - INFO - DAC tile 2 DAC block 1 is NOT enabled!\n",
      "2024-11-16 22:01:33,293 - root - INFO - DAC tile 2 DAC block 2 is NOT enabled!\n",
      "2024-11-16 22:01:33,296 - root - INFO - DAC tile 2 DAC block 3 is NOT enabled!\n",
      "2024-11-16 22:01:33,300 - root - INFO - DAC tile 3 DAC block 0 is NOT enabled!\n",
      "2024-11-16 22:01:33,303 - root - INFO - DAC tile 3 DAC block 1 is NOT enabled!\n",
      "2024-11-16 22:01:33,306 - root - INFO - DAC tile 3 DAC block 2 is NOT enabled!\n",
      "2024-11-16 22:01:33,309 - root - INFO - DAC tile 3 DAC block 3 is NOT enabled!\n",
      "2024-11-16 22:01:33,312 - root - INFO - ADC tile 0 ADC block 0 is NOT enabled!\n",
      "2024-11-16 22:01:33,315 - root - INFO - ADC tile 0 ADC block 1 is NOT enabled!\n",
      "2024-11-16 22:01:33,318 - root - INFO - ADC tile 0 ADC block 2 is NOT enabled!\n",
      "2024-11-16 22:01:33,321 - root - INFO - ADC tile 0 ADC block 3 is NOT enabled!\n",
      "2024-11-16 22:01:33,363 - root - INFO - ADC tile 1 ADC block 0 is enabled!\n",
      "2024-11-16 22:01:33,367 - root - INFO - ADC tile 1 ADC block 1 is NOT enabled!\n",
      "2024-11-16 22:01:33,370 - root - INFO - ADC tile 1 ADC block 2 is NOT enabled!\n",
      "2024-11-16 22:01:33,373 - root - INFO - ADC tile 1 ADC block 3 is NOT enabled!\n",
      "2024-11-16 22:01:33,409 - root - INFO - ADC tile 2 ADC block 0 is enabled!\n",
      "2024-11-16 22:01:33,412 - root - INFO - ADC tile 2 ADC block 1 is NOT enabled!\n",
      "2024-11-16 22:01:33,416 - root - INFO - ADC tile 2 ADC block 2 is NOT enabled!\n",
      "2024-11-16 22:01:33,419 - root - INFO - ADC tile 2 ADC block 3 is NOT enabled!\n",
      "2024-11-16 22:01:33,422 - root - INFO - ADC tile 3 ADC block 0 is NOT enabled!\n",
      "2024-11-16 22:01:33,425 - root - INFO - ADC tile 3 ADC block 1 is NOT enabled!\n",
      "2024-11-16 22:01:33,428 - root - INFO - ADC tile 3 ADC block 2 is NOT enabled!\n",
      "2024-11-16 22:01:33,431 - root - INFO - ADC tile 3 ADC block 3 is NOT enabled!\n"
     ]
    },
    {
     "name": "stdout",
     "output_type": "stream",
     "text": [
      "qam_order 1024QAM, nco 625.0, atten 15.0, inv_sinc 1\n"
     ]
    },
    {
     "name": "stderr",
     "output_type": "stream",
     "text": [
      "2024-11-16 22:01:43,130 - root - INFO - SNR: 19.491, CFO: -173.231, EVM: 0.040, BER: 0.1104166667\n"
     ]
    },
    {
     "data": {
      "application/vnd.jupyter.widget-view+json": {
       "model_id": "3eb41d5dfcae40d2a9db520efe8beeb0",
       "version_major": 2,
       "version_minor": 0
      },
      "text/plain": [
       "FigureWidget({\n",
       "    'data': [],\n",
       "    'layout': {'template': '...',\n",
       "               'title': {'text': 'Complex Sig…"
      ]
     },
     "metadata": {},
     "output_type": "display_data"
    },
    {
     "data": {
      "application/vnd.jupyter.widget-view+json": {
       "model_id": "a8a27d9b53b84a56b82cfe3182e02b5e",
       "version_major": 2,
       "version_minor": 0
      },
      "text/plain": [
       "FigureWidget({\n",
       "    'data': [{'name': 'Magnitude', 'type': 'scattergl', 'uid': '6006cabe-87e0-4a5d-8d4f-59d7cb7…"
      ]
     },
     "metadata": {},
     "output_type": "display_data"
    },
    {
     "name": "stderr",
     "output_type": "stream",
     "text": [
      "2024-11-16 22:01:43,884 - root - INFO - DAC tile 0 DAC block 0 is NOT enabled!\n",
      "2024-11-16 22:01:43,889 - root - INFO - DAC tile 0 DAC block 1 is NOT enabled!\n",
      "2024-11-16 22:01:43,893 - root - INFO - DAC tile 0 DAC block 2 is NOT enabled!\n",
      "2024-11-16 22:01:43,896 - root - INFO - DAC tile 0 DAC block 3 is NOT enabled!\n",
      "2024-11-16 22:01:43,939 - root - INFO - DAC tile 1 DAC block 0 is enabled!\n",
      "2024-11-16 22:01:43,942 - root - INFO - DAC tile 1 DAC block 1 is NOT enabled!\n",
      "2024-11-16 22:01:43,945 - root - INFO - DAC tile 1 DAC block 2 is NOT enabled!\n",
      "2024-11-16 22:01:43,948 - root - INFO - DAC tile 1 DAC block 3 is NOT enabled!\n",
      "2024-11-16 22:01:43,987 - root - INFO - DAC tile 2 DAC block 0 is enabled!\n",
      "2024-11-16 22:01:43,990 - root - INFO - DAC tile 2 DAC block 1 is NOT enabled!\n",
      "2024-11-16 22:01:43,993 - root - INFO - DAC tile 2 DAC block 2 is NOT enabled!\n",
      "2024-11-16 22:01:43,995 - root - INFO - DAC tile 2 DAC block 3 is NOT enabled!\n",
      "2024-11-16 22:01:43,998 - root - INFO - DAC tile 3 DAC block 0 is NOT enabled!\n",
      "2024-11-16 22:01:44,001 - root - INFO - DAC tile 3 DAC block 1 is NOT enabled!\n",
      "2024-11-16 22:01:44,004 - root - INFO - DAC tile 3 DAC block 2 is NOT enabled!\n",
      "2024-11-16 22:01:44,006 - root - INFO - DAC tile 3 DAC block 3 is NOT enabled!\n",
      "2024-11-16 22:01:44,009 - root - INFO - ADC tile 0 ADC block 0 is NOT enabled!\n",
      "2024-11-16 22:01:44,012 - root - INFO - ADC tile 0 ADC block 1 is NOT enabled!\n",
      "2024-11-16 22:01:44,014 - root - INFO - ADC tile 0 ADC block 2 is NOT enabled!\n",
      "2024-11-16 22:01:44,017 - root - INFO - ADC tile 0 ADC block 3 is NOT enabled!\n",
      "2024-11-16 22:01:44,058 - root - INFO - ADC tile 1 ADC block 0 is enabled!\n",
      "2024-11-16 22:01:44,061 - root - INFO - ADC tile 1 ADC block 1 is NOT enabled!\n",
      "2024-11-16 22:01:44,064 - root - INFO - ADC tile 1 ADC block 2 is NOT enabled!\n",
      "2024-11-16 22:01:44,067 - root - INFO - ADC tile 1 ADC block 3 is NOT enabled!\n",
      "2024-11-16 22:01:44,102 - root - INFO - ADC tile 2 ADC block 0 is enabled!\n",
      "2024-11-16 22:01:44,105 - root - INFO - ADC tile 2 ADC block 1 is NOT enabled!\n",
      "2024-11-16 22:01:44,109 - root - INFO - ADC tile 2 ADC block 2 is NOT enabled!\n",
      "2024-11-16 22:01:44,112 - root - INFO - ADC tile 2 ADC block 3 is NOT enabled!\n",
      "2024-11-16 22:01:44,114 - root - INFO - ADC tile 3 ADC block 0 is NOT enabled!\n",
      "2024-11-16 22:01:44,117 - root - INFO - ADC tile 3 ADC block 1 is NOT enabled!\n",
      "2024-11-16 22:01:44,120 - root - INFO - ADC tile 3 ADC block 2 is NOT enabled!\n",
      "2024-11-16 22:01:44,122 - root - INFO - ADC tile 3 ADC block 3 is NOT enabled!\n"
     ]
    },
    {
     "name": "stdout",
     "output_type": "stream",
     "text": [
      "qam_order 16QAM, nco 625.0, atten 18.0, inv_sinc 1\n"
     ]
    },
    {
     "name": "stderr",
     "output_type": "stream",
     "text": [
      "2024-11-16 22:01:52,611 - root - INFO - SNR: 16.961, CFO: -116.678, EVM: 0.121, BER: 0.0030208333\n"
     ]
    },
    {
     "data": {
      "application/vnd.jupyter.widget-view+json": {
       "model_id": "0b189d6a9a7e4b019883c7951c0a284d",
       "version_major": 2,
       "version_minor": 0
      },
      "text/plain": [
       "FigureWidget({\n",
       "    'data': [],\n",
       "    'layout': {'template': '...',\n",
       "               'title': {'text': 'Complex Sig…"
      ]
     },
     "metadata": {},
     "output_type": "display_data"
    },
    {
     "data": {
      "application/vnd.jupyter.widget-view+json": {
       "model_id": "20058277f40a4f79bbd8d972ad081885",
       "version_major": 2,
       "version_minor": 0
      },
      "text/plain": [
       "FigureWidget({\n",
       "    'data': [{'name': 'Magnitude', 'type': 'scattergl', 'uid': '95bac1ad-ea63-4dd2-8105-cfdabbc…"
      ]
     },
     "metadata": {},
     "output_type": "display_data"
    },
    {
     "name": "stderr",
     "output_type": "stream",
     "text": [
      "2024-11-16 22:01:53,409 - root - INFO - DAC tile 0 DAC block 0 is NOT enabled!\n",
      "2024-11-16 22:01:53,414 - root - INFO - DAC tile 0 DAC block 1 is NOT enabled!\n",
      "2024-11-16 22:01:53,417 - root - INFO - DAC tile 0 DAC block 2 is NOT enabled!\n",
      "2024-11-16 22:01:53,420 - root - INFO - DAC tile 0 DAC block 3 is NOT enabled!\n",
      "2024-11-16 22:01:53,459 - root - INFO - DAC tile 1 DAC block 0 is enabled!\n",
      "2024-11-16 22:01:53,462 - root - INFO - DAC tile 1 DAC block 1 is NOT enabled!\n",
      "2024-11-16 22:01:53,465 - root - INFO - DAC tile 1 DAC block 2 is NOT enabled!\n",
      "2024-11-16 22:01:53,468 - root - INFO - DAC tile 1 DAC block 3 is NOT enabled!\n",
      "2024-11-16 22:01:53,508 - root - INFO - DAC tile 2 DAC block 0 is enabled!\n",
      "2024-11-16 22:01:53,510 - root - INFO - DAC tile 2 DAC block 1 is NOT enabled!\n",
      "2024-11-16 22:01:53,513 - root - INFO - DAC tile 2 DAC block 2 is NOT enabled!\n",
      "2024-11-16 22:01:53,516 - root - INFO - DAC tile 2 DAC block 3 is NOT enabled!\n",
      "2024-11-16 22:01:53,519 - root - INFO - DAC tile 3 DAC block 0 is NOT enabled!\n",
      "2024-11-16 22:01:53,522 - root - INFO - DAC tile 3 DAC block 1 is NOT enabled!\n",
      "2024-11-16 22:01:53,525 - root - INFO - DAC tile 3 DAC block 2 is NOT enabled!\n",
      "2024-11-16 22:01:53,528 - root - INFO - DAC tile 3 DAC block 3 is NOT enabled!\n",
      "2024-11-16 22:01:53,531 - root - INFO - ADC tile 0 ADC block 0 is NOT enabled!\n",
      "2024-11-16 22:01:53,534 - root - INFO - ADC tile 0 ADC block 1 is NOT enabled!\n",
      "2024-11-16 22:01:53,537 - root - INFO - ADC tile 0 ADC block 2 is NOT enabled!\n",
      "2024-11-16 22:01:53,540 - root - INFO - ADC tile 0 ADC block 3 is NOT enabled!\n",
      "2024-11-16 22:01:53,582 - root - INFO - ADC tile 1 ADC block 0 is enabled!\n",
      "2024-11-16 22:01:53,585 - root - INFO - ADC tile 1 ADC block 1 is NOT enabled!\n",
      "2024-11-16 22:01:53,588 - root - INFO - ADC tile 1 ADC block 2 is NOT enabled!\n",
      "2024-11-16 22:01:53,591 - root - INFO - ADC tile 1 ADC block 3 is NOT enabled!\n",
      "2024-11-16 22:01:53,627 - root - INFO - ADC tile 2 ADC block 0 is enabled!\n",
      "2024-11-16 22:01:53,630 - root - INFO - ADC tile 2 ADC block 1 is NOT enabled!\n",
      "2024-11-16 22:01:53,633 - root - INFO - ADC tile 2 ADC block 2 is NOT enabled!\n",
      "2024-11-16 22:01:53,636 - root - INFO - ADC tile 2 ADC block 3 is NOT enabled!\n",
      "2024-11-16 22:01:53,639 - root - INFO - ADC tile 3 ADC block 0 is NOT enabled!\n",
      "2024-11-16 22:01:53,642 - root - INFO - ADC tile 3 ADC block 1 is NOT enabled!\n",
      "2024-11-16 22:01:53,645 - root - INFO - ADC tile 3 ADC block 2 is NOT enabled!\n",
      "2024-11-16 22:01:53,648 - root - INFO - ADC tile 3 ADC block 3 is NOT enabled!\n"
     ]
    },
    {
     "name": "stdout",
     "output_type": "stream",
     "text": [
      "qam_order 64QAM, nco 625.0, atten 18.0, inv_sinc 1\n"
     ]
    },
    {
     "name": "stderr",
     "output_type": "stream",
     "text": [
      "2024-11-16 22:02:02,182 - root - INFO - SNR: 17.096, CFO: -84.427, EVM: 0.108, BER: 0.0188541667\n"
     ]
    },
    {
     "data": {
      "application/vnd.jupyter.widget-view+json": {
       "model_id": "9f26cd04210541d3b0a158e1590968da",
       "version_major": 2,
       "version_minor": 0
      },
      "text/plain": [
       "FigureWidget({\n",
       "    'data': [],\n",
       "    'layout': {'template': '...',\n",
       "               'title': {'text': 'Complex Sig…"
      ]
     },
     "metadata": {},
     "output_type": "display_data"
    },
    {
     "data": {
      "application/vnd.jupyter.widget-view+json": {
       "model_id": "7d46ba80475b45b2ad1a27381092aeec",
       "version_major": 2,
       "version_minor": 0
      },
      "text/plain": [
       "FigureWidget({\n",
       "    'data': [{'name': 'Magnitude', 'type': 'scattergl', 'uid': '1f17a0fe-2c8b-482e-9277-597bb4b…"
      ]
     },
     "metadata": {},
     "output_type": "display_data"
    },
    {
     "name": "stderr",
     "output_type": "stream",
     "text": [
      "2024-11-16 22:02:03,030 - root - INFO - DAC tile 0 DAC block 0 is NOT enabled!\n",
      "2024-11-16 22:02:03,039 - root - INFO - DAC tile 0 DAC block 1 is NOT enabled!\n",
      "2024-11-16 22:02:03,042 - root - INFO - DAC tile 0 DAC block 2 is NOT enabled!\n",
      "2024-11-16 22:02:03,052 - root - INFO - DAC tile 0 DAC block 3 is NOT enabled!\n",
      "2024-11-16 22:02:03,105 - root - INFO - DAC tile 1 DAC block 0 is enabled!\n",
      "2024-11-16 22:02:03,108 - root - INFO - DAC tile 1 DAC block 1 is NOT enabled!\n",
      "2024-11-16 22:02:03,111 - root - INFO - DAC tile 1 DAC block 2 is NOT enabled!\n",
      "2024-11-16 22:02:03,114 - root - INFO - DAC tile 1 DAC block 3 is NOT enabled!\n",
      "2024-11-16 22:02:03,154 - root - INFO - DAC tile 2 DAC block 0 is enabled!\n",
      "2024-11-16 22:02:03,157 - root - INFO - DAC tile 2 DAC block 1 is NOT enabled!\n",
      "2024-11-16 22:02:03,159 - root - INFO - DAC tile 2 DAC block 2 is NOT enabled!\n",
      "2024-11-16 22:02:03,162 - root - INFO - DAC tile 2 DAC block 3 is NOT enabled!\n",
      "2024-11-16 22:02:03,164 - root - INFO - DAC tile 3 DAC block 0 is NOT enabled!\n",
      "2024-11-16 22:02:03,167 - root - INFO - DAC tile 3 DAC block 1 is NOT enabled!\n",
      "2024-11-16 22:02:03,170 - root - INFO - DAC tile 3 DAC block 2 is NOT enabled!\n",
      "2024-11-16 22:02:03,172 - root - INFO - DAC tile 3 DAC block 3 is NOT enabled!\n",
      "2024-11-16 22:02:03,175 - root - INFO - ADC tile 0 ADC block 0 is NOT enabled!\n",
      "2024-11-16 22:02:03,178 - root - INFO - ADC tile 0 ADC block 1 is NOT enabled!\n",
      "2024-11-16 22:02:03,186 - root - INFO - ADC tile 0 ADC block 2 is NOT enabled!\n",
      "2024-11-16 22:02:03,188 - root - INFO - ADC tile 0 ADC block 3 is NOT enabled!\n",
      "2024-11-16 22:02:03,226 - root - INFO - ADC tile 1 ADC block 0 is enabled!\n",
      "2024-11-16 22:02:03,229 - root - INFO - ADC tile 1 ADC block 1 is NOT enabled!\n",
      "2024-11-16 22:02:03,232 - root - INFO - ADC tile 1 ADC block 2 is NOT enabled!\n",
      "2024-11-16 22:02:03,235 - root - INFO - ADC tile 1 ADC block 3 is NOT enabled!\n",
      "2024-11-16 22:02:03,270 - root - INFO - ADC tile 2 ADC block 0 is enabled!\n",
      "2024-11-16 22:02:03,273 - root - INFO - ADC tile 2 ADC block 1 is NOT enabled!\n",
      "2024-11-16 22:02:03,276 - root - INFO - ADC tile 2 ADC block 2 is NOT enabled!\n",
      "2024-11-16 22:02:03,279 - root - INFO - ADC tile 2 ADC block 3 is NOT enabled!\n",
      "2024-11-16 22:02:03,282 - root - INFO - ADC tile 3 ADC block 0 is NOT enabled!\n",
      "2024-11-16 22:02:03,284 - root - INFO - ADC tile 3 ADC block 1 is NOT enabled!\n",
      "2024-11-16 22:02:03,287 - root - INFO - ADC tile 3 ADC block 2 is NOT enabled!\n",
      "2024-11-16 22:02:03,290 - root - INFO - ADC tile 3 ADC block 3 is NOT enabled!\n"
     ]
    },
    {
     "name": "stdout",
     "output_type": "stream",
     "text": [
      "qam_order 256QAM, nco 625.0, atten 18.0, inv_sinc 1\n"
     ]
    },
    {
     "name": "stderr",
     "output_type": "stream",
     "text": [
      "2024-11-16 22:02:12,548 - root - INFO - SNR: 16.092, CFO: -290.439, EVM: 0.091, BER: 0.0879427083\n"
     ]
    },
    {
     "data": {
      "application/vnd.jupyter.widget-view+json": {
       "model_id": "f0a90e9c61f142eab64731c432c1a7a2",
       "version_major": 2,
       "version_minor": 0
      },
      "text/plain": [
       "FigureWidget({\n",
       "    'data': [],\n",
       "    'layout': {'template': '...',\n",
       "               'title': {'text': 'Complex Sig…"
      ]
     },
     "metadata": {},
     "output_type": "display_data"
    },
    {
     "data": {
      "application/vnd.jupyter.widget-view+json": {
       "model_id": "1efddba083804967b82ec223e7475ad7",
       "version_major": 2,
       "version_minor": 0
      },
      "text/plain": [
       "FigureWidget({\n",
       "    'data': [{'name': 'Magnitude', 'type': 'scattergl', 'uid': 'b6696842-8f28-4065-80e9-5166bbd…"
      ]
     },
     "metadata": {},
     "output_type": "display_data"
    },
    {
     "name": "stderr",
     "output_type": "stream",
     "text": [
      "2024-11-16 22:02:13,469 - root - INFO - DAC tile 0 DAC block 0 is NOT enabled!\n",
      "2024-11-16 22:02:13,473 - root - INFO - DAC tile 0 DAC block 1 is NOT enabled!\n",
      "2024-11-16 22:02:13,477 - root - INFO - DAC tile 0 DAC block 2 is NOT enabled!\n",
      "2024-11-16 22:02:13,480 - root - INFO - DAC tile 0 DAC block 3 is NOT enabled!\n",
      "2024-11-16 22:02:13,524 - root - INFO - DAC tile 1 DAC block 0 is enabled!\n",
      "2024-11-16 22:02:13,527 - root - INFO - DAC tile 1 DAC block 1 is NOT enabled!\n",
      "2024-11-16 22:02:13,530 - root - INFO - DAC tile 1 DAC block 2 is NOT enabled!\n",
      "2024-11-16 22:02:13,533 - root - INFO - DAC tile 1 DAC block 3 is NOT enabled!\n",
      "2024-11-16 22:02:13,574 - root - INFO - DAC tile 2 DAC block 0 is enabled!\n",
      "2024-11-16 22:02:13,577 - root - INFO - DAC tile 2 DAC block 1 is NOT enabled!\n",
      "2024-11-16 22:02:13,579 - root - INFO - DAC tile 2 DAC block 2 is NOT enabled!\n",
      "2024-11-16 22:02:13,582 - root - INFO - DAC tile 2 DAC block 3 is NOT enabled!\n",
      "2024-11-16 22:02:13,585 - root - INFO - DAC tile 3 DAC block 0 is NOT enabled!\n",
      "2024-11-16 22:02:13,588 - root - INFO - DAC tile 3 DAC block 1 is NOT enabled!\n",
      "2024-11-16 22:02:13,591 - root - INFO - DAC tile 3 DAC block 2 is NOT enabled!\n",
      "2024-11-16 22:02:13,594 - root - INFO - DAC tile 3 DAC block 3 is NOT enabled!\n",
      "2024-11-16 22:02:13,601 - root - INFO - ADC tile 0 ADC block 0 is NOT enabled!\n",
      "2024-11-16 22:02:13,605 - root - INFO - ADC tile 0 ADC block 1 is NOT enabled!\n",
      "2024-11-16 22:02:13,607 - root - INFO - ADC tile 0 ADC block 2 is NOT enabled!\n",
      "2024-11-16 22:02:13,610 - root - INFO - ADC tile 0 ADC block 3 is NOT enabled!\n",
      "2024-11-16 22:02:13,649 - root - INFO - ADC tile 1 ADC block 0 is enabled!\n",
      "2024-11-16 22:02:13,652 - root - INFO - ADC tile 1 ADC block 1 is NOT enabled!\n",
      "2024-11-16 22:02:13,655 - root - INFO - ADC tile 1 ADC block 2 is NOT enabled!\n",
      "2024-11-16 22:02:13,657 - root - INFO - ADC tile 1 ADC block 3 is NOT enabled!\n",
      "2024-11-16 22:02:13,695 - root - INFO - ADC tile 2 ADC block 0 is enabled!\n",
      "2024-11-16 22:02:13,698 - root - INFO - ADC tile 2 ADC block 1 is NOT enabled!\n",
      "2024-11-16 22:02:13,700 - root - INFO - ADC tile 2 ADC block 2 is NOT enabled!\n",
      "2024-11-16 22:02:13,703 - root - INFO - ADC tile 2 ADC block 3 is NOT enabled!\n",
      "2024-11-16 22:02:13,706 - root - INFO - ADC tile 3 ADC block 0 is NOT enabled!\n",
      "2024-11-16 22:02:13,709 - root - INFO - ADC tile 3 ADC block 1 is NOT enabled!\n",
      "2024-11-16 22:02:13,712 - root - INFO - ADC tile 3 ADC block 2 is NOT enabled!\n",
      "2024-11-16 22:02:13,715 - root - INFO - ADC tile 3 ADC block 3 is NOT enabled!\n"
     ]
    },
    {
     "name": "stdout",
     "output_type": "stream",
     "text": [
      "qam_order 1024QAM, nco 625.0, atten 18.0, inv_sinc 1\n"
     ]
    },
    {
     "name": "stderr",
     "output_type": "stream",
     "text": [
      "2024-11-16 22:02:23,387 - root - INFO - SNR: 15.201, CFO: 28.919, EVM: 0.090, BER: 0.1678750000\n"
     ]
    },
    {
     "data": {
      "application/vnd.jupyter.widget-view+json": {
       "model_id": "1fd40c7bc6944056b07bb1751777f932",
       "version_major": 2,
       "version_minor": 0
      },
      "text/plain": [
       "FigureWidget({\n",
       "    'data': [],\n",
       "    'layout': {'template': '...',\n",
       "               'title': {'text': 'Complex Sig…"
      ]
     },
     "metadata": {},
     "output_type": "display_data"
    },
    {
     "data": {
      "application/vnd.jupyter.widget-view+json": {
       "model_id": "a987571006c146b09c545c28589e99af",
       "version_major": 2,
       "version_minor": 0
      },
      "text/plain": [
       "FigureWidget({\n",
       "    'data': [{'name': 'Magnitude', 'type': 'scattergl', 'uid': '372078e9-e110-4717-ae64-426ab90…"
      ]
     },
     "metadata": {},
     "output_type": "display_data"
    },
    {
     "name": "stderr",
     "output_type": "stream",
     "text": [
      "2024-11-16 22:02:24,154 - root - INFO - DAC tile 0 DAC block 0 is NOT enabled!\n",
      "2024-11-16 22:02:24,159 - root - INFO - DAC tile 0 DAC block 1 is NOT enabled!\n",
      "2024-11-16 22:02:24,162 - root - INFO - DAC tile 0 DAC block 2 is NOT enabled!\n",
      "2024-11-16 22:02:24,165 - root - INFO - DAC tile 0 DAC block 3 is NOT enabled!\n",
      "2024-11-16 22:02:24,208 - root - INFO - DAC tile 1 DAC block 0 is enabled!\n",
      "2024-11-16 22:02:24,211 - root - INFO - DAC tile 1 DAC block 1 is NOT enabled!\n",
      "2024-11-16 22:02:24,214 - root - INFO - DAC tile 1 DAC block 2 is NOT enabled!\n",
      "2024-11-16 22:02:24,217 - root - INFO - DAC tile 1 DAC block 3 is NOT enabled!\n",
      "2024-11-16 22:02:24,258 - root - INFO - DAC tile 2 DAC block 0 is enabled!\n",
      "2024-11-16 22:02:24,261 - root - INFO - DAC tile 2 DAC block 1 is NOT enabled!\n",
      "2024-11-16 22:02:24,264 - root - INFO - DAC tile 2 DAC block 2 is NOT enabled!\n",
      "2024-11-16 22:02:24,267 - root - INFO - DAC tile 2 DAC block 3 is NOT enabled!\n",
      "2024-11-16 22:02:24,270 - root - INFO - DAC tile 3 DAC block 0 is NOT enabled!\n",
      "2024-11-16 22:02:24,272 - root - INFO - DAC tile 3 DAC block 1 is NOT enabled!\n",
      "2024-11-16 22:02:24,275 - root - INFO - DAC tile 3 DAC block 2 is NOT enabled!\n",
      "2024-11-16 22:02:24,278 - root - INFO - DAC tile 3 DAC block 3 is NOT enabled!\n",
      "2024-11-16 22:02:24,280 - root - INFO - ADC tile 0 ADC block 0 is NOT enabled!\n",
      "2024-11-16 22:02:24,283 - root - INFO - ADC tile 0 ADC block 1 is NOT enabled!\n",
      "2024-11-16 22:02:24,286 - root - INFO - ADC tile 0 ADC block 2 is NOT enabled!\n",
      "2024-11-16 22:02:24,288 - root - INFO - ADC tile 0 ADC block 3 is NOT enabled!\n",
      "2024-11-16 22:02:24,331 - root - INFO - ADC tile 1 ADC block 0 is enabled!\n",
      "2024-11-16 22:02:24,334 - root - INFO - ADC tile 1 ADC block 1 is NOT enabled!\n",
      "2024-11-16 22:02:24,337 - root - INFO - ADC tile 1 ADC block 2 is NOT enabled!\n",
      "2024-11-16 22:02:24,339 - root - INFO - ADC tile 1 ADC block 3 is NOT enabled!\n",
      "2024-11-16 22:02:24,376 - root - INFO - ADC tile 2 ADC block 0 is enabled!\n",
      "2024-11-16 22:02:24,378 - root - INFO - ADC tile 2 ADC block 1 is NOT enabled!\n",
      "2024-11-16 22:02:24,381 - root - INFO - ADC tile 2 ADC block 2 is NOT enabled!\n",
      "2024-11-16 22:02:24,383 - root - INFO - ADC tile 2 ADC block 3 is NOT enabled!\n",
      "2024-11-16 22:02:24,386 - root - INFO - ADC tile 3 ADC block 0 is NOT enabled!\n",
      "2024-11-16 22:02:24,389 - root - INFO - ADC tile 3 ADC block 1 is NOT enabled!\n",
      "2024-11-16 22:02:24,391 - root - INFO - ADC tile 3 ADC block 2 is NOT enabled!\n",
      "2024-11-16 22:02:24,394 - root - INFO - ADC tile 3 ADC block 3 is NOT enabled!\n"
     ]
    },
    {
     "name": "stdout",
     "output_type": "stream",
     "text": [
      "qam_order 16QAM, nco 625.0, atten 21.0, inv_sinc 1\n"
     ]
    },
    {
     "name": "stderr",
     "output_type": "stream",
     "text": [
      "2024-11-16 22:02:32,851 - root - INFO - SNR: 10.728, CFO: -168.043, EVM: 0.324, BER: 0.0156250000\n"
     ]
    },
    {
     "data": {
      "application/vnd.jupyter.widget-view+json": {
       "model_id": "4c49f99c313d462fa9e1f9896603471c",
       "version_major": 2,
       "version_minor": 0
      },
      "text/plain": [
       "FigureWidget({\n",
       "    'data': [],\n",
       "    'layout': {'template': '...',\n",
       "               'title': {'text': 'Complex Sig…"
      ]
     },
     "metadata": {},
     "output_type": "display_data"
    },
    {
     "data": {
      "application/vnd.jupyter.widget-view+json": {
       "model_id": "f10a6360b7e14a2ba0409d908fb8631b",
       "version_major": 2,
       "version_minor": 0
      },
      "text/plain": [
       "FigureWidget({\n",
       "    'data': [{'name': 'Magnitude', 'type': 'scattergl', 'uid': 'd0049071-e274-411f-8a99-56c89ab…"
      ]
     },
     "metadata": {},
     "output_type": "display_data"
    },
    {
     "name": "stderr",
     "output_type": "stream",
     "text": [
      "2024-11-16 22:02:33,651 - root - INFO - DAC tile 0 DAC block 0 is NOT enabled!\n",
      "2024-11-16 22:02:33,657 - root - INFO - DAC tile 0 DAC block 1 is NOT enabled!\n",
      "2024-11-16 22:02:33,660 - root - INFO - DAC tile 0 DAC block 2 is NOT enabled!\n",
      "2024-11-16 22:02:33,663 - root - INFO - DAC tile 0 DAC block 3 is NOT enabled!\n",
      "2024-11-16 22:02:33,723 - root - INFO - DAC tile 1 DAC block 0 is enabled!\n",
      "2024-11-16 22:02:33,726 - root - INFO - DAC tile 1 DAC block 1 is NOT enabled!\n",
      "2024-11-16 22:02:33,729 - root - INFO - DAC tile 1 DAC block 2 is NOT enabled!\n",
      "2024-11-16 22:02:33,731 - root - INFO - DAC tile 1 DAC block 3 is NOT enabled!\n",
      "2024-11-16 22:02:33,772 - root - INFO - DAC tile 2 DAC block 0 is enabled!\n",
      "2024-11-16 22:02:33,775 - root - INFO - DAC tile 2 DAC block 1 is NOT enabled!\n",
      "2024-11-16 22:02:33,778 - root - INFO - DAC tile 2 DAC block 2 is NOT enabled!\n",
      "2024-11-16 22:02:33,780 - root - INFO - DAC tile 2 DAC block 3 is NOT enabled!\n",
      "2024-11-16 22:02:33,783 - root - INFO - DAC tile 3 DAC block 0 is NOT enabled!\n",
      "2024-11-16 22:02:33,786 - root - INFO - DAC tile 3 DAC block 1 is NOT enabled!\n",
      "2024-11-16 22:02:33,788 - root - INFO - DAC tile 3 DAC block 2 is NOT enabled!\n",
      "2024-11-16 22:02:33,791 - root - INFO - DAC tile 3 DAC block 3 is NOT enabled!\n",
      "2024-11-16 22:02:33,794 - root - INFO - ADC tile 0 ADC block 0 is NOT enabled!\n",
      "2024-11-16 22:02:33,801 - root - INFO - ADC tile 0 ADC block 1 is NOT enabled!\n",
      "2024-11-16 22:02:33,804 - root - INFO - ADC tile 0 ADC block 2 is NOT enabled!\n",
      "2024-11-16 22:02:33,806 - root - INFO - ADC tile 0 ADC block 3 is NOT enabled!\n",
      "2024-11-16 22:02:33,845 - root - INFO - ADC tile 1 ADC block 0 is enabled!\n",
      "2024-11-16 22:02:33,848 - root - INFO - ADC tile 1 ADC block 1 is NOT enabled!\n",
      "2024-11-16 22:02:33,852 - root - INFO - ADC tile 1 ADC block 2 is NOT enabled!\n",
      "2024-11-16 22:02:33,855 - root - INFO - ADC tile 1 ADC block 3 is NOT enabled!\n",
      "2024-11-16 22:02:33,890 - root - INFO - ADC tile 2 ADC block 0 is enabled!\n",
      "2024-11-16 22:02:33,893 - root - INFO - ADC tile 2 ADC block 1 is NOT enabled!\n",
      "2024-11-16 22:02:33,895 - root - INFO - ADC tile 2 ADC block 2 is NOT enabled!\n",
      "2024-11-16 22:02:33,898 - root - INFO - ADC tile 2 ADC block 3 is NOT enabled!\n",
      "2024-11-16 22:02:33,901 - root - INFO - ADC tile 3 ADC block 0 is NOT enabled!\n",
      "2024-11-16 22:02:33,904 - root - INFO - ADC tile 3 ADC block 1 is NOT enabled!\n",
      "2024-11-16 22:02:33,906 - root - INFO - ADC tile 3 ADC block 2 is NOT enabled!\n",
      "2024-11-16 22:02:33,909 - root - INFO - ADC tile 3 ADC block 3 is NOT enabled!\n"
     ]
    },
    {
     "name": "stdout",
     "output_type": "stream",
     "text": [
      "qam_order 64QAM, nco 625.0, atten 21.0, inv_sinc 1\n"
     ]
    },
    {
     "name": "stderr",
     "output_type": "stream",
     "text": [
      "2024-11-16 22:02:42,451 - root - INFO - SNR: 12.438, CFO: -323.726, EVM: 0.137, BER: 0.0457291667\n"
     ]
    },
    {
     "data": {
      "application/vnd.jupyter.widget-view+json": {
       "model_id": "876ea0ba2a0a4e16ace5be764618b1e2",
       "version_major": 2,
       "version_minor": 0
      },
      "text/plain": [
       "FigureWidget({\n",
       "    'data': [],\n",
       "    'layout': {'template': '...',\n",
       "               'title': {'text': 'Complex Sig…"
      ]
     },
     "metadata": {},
     "output_type": "display_data"
    },
    {
     "data": {
      "application/vnd.jupyter.widget-view+json": {
       "model_id": "f2a13688601044e09bec819c038458dd",
       "version_major": 2,
       "version_minor": 0
      },
      "text/plain": [
       "FigureWidget({\n",
       "    'data': [{'name': 'Magnitude', 'type': 'scattergl', 'uid': '8a616801-b677-4662-aa23-295c426…"
      ]
     },
     "metadata": {},
     "output_type": "display_data"
    },
    {
     "name": "stderr",
     "output_type": "stream",
     "text": [
      "2024-11-16 22:02:43,299 - root - INFO - DAC tile 0 DAC block 0 is NOT enabled!\n",
      "2024-11-16 22:02:43,304 - root - INFO - DAC tile 0 DAC block 1 is NOT enabled!\n",
      "2024-11-16 22:02:43,308 - root - INFO - DAC tile 0 DAC block 2 is NOT enabled!\n",
      "2024-11-16 22:02:43,312 - root - INFO - DAC tile 0 DAC block 3 is NOT enabled!\n",
      "2024-11-16 22:02:43,355 - root - INFO - DAC tile 1 DAC block 0 is enabled!\n",
      "2024-11-16 22:02:43,357 - root - INFO - DAC tile 1 DAC block 1 is NOT enabled!\n",
      "2024-11-16 22:02:43,360 - root - INFO - DAC tile 1 DAC block 2 is NOT enabled!\n",
      "2024-11-16 22:02:43,363 - root - INFO - DAC tile 1 DAC block 3 is NOT enabled!\n",
      "2024-11-16 22:02:43,405 - root - INFO - DAC tile 2 DAC block 0 is enabled!\n",
      "2024-11-16 22:02:43,408 - root - INFO - DAC tile 2 DAC block 1 is NOT enabled!\n",
      "2024-11-16 22:02:43,412 - root - INFO - DAC tile 2 DAC block 2 is NOT enabled!\n",
      "2024-11-16 22:02:43,415 - root - INFO - DAC tile 2 DAC block 3 is NOT enabled!\n",
      "2024-11-16 22:02:43,418 - root - INFO - DAC tile 3 DAC block 0 is NOT enabled!\n",
      "2024-11-16 22:02:43,421 - root - INFO - DAC tile 3 DAC block 1 is NOT enabled!\n",
      "2024-11-16 22:02:43,424 - root - INFO - DAC tile 3 DAC block 2 is NOT enabled!\n",
      "2024-11-16 22:02:43,427 - root - INFO - DAC tile 3 DAC block 3 is NOT enabled!\n",
      "2024-11-16 22:02:43,430 - root - INFO - ADC tile 0 ADC block 0 is NOT enabled!\n",
      "2024-11-16 22:02:43,433 - root - INFO - ADC tile 0 ADC block 1 is NOT enabled!\n",
      "2024-11-16 22:02:43,436 - root - INFO - ADC tile 0 ADC block 2 is NOT enabled!\n",
      "2024-11-16 22:02:43,439 - root - INFO - ADC tile 0 ADC block 3 is NOT enabled!\n",
      "2024-11-16 22:02:43,481 - root - INFO - ADC tile 1 ADC block 0 is enabled!\n",
      "2024-11-16 22:02:43,484 - root - INFO - ADC tile 1 ADC block 1 is NOT enabled!\n",
      "2024-11-16 22:02:43,486 - root - INFO - ADC tile 1 ADC block 2 is NOT enabled!\n",
      "2024-11-16 22:02:43,489 - root - INFO - ADC tile 1 ADC block 3 is NOT enabled!\n",
      "2024-11-16 22:02:43,526 - root - INFO - ADC tile 2 ADC block 0 is enabled!\n",
      "2024-11-16 22:02:43,529 - root - INFO - ADC tile 2 ADC block 1 is NOT enabled!\n",
      "2024-11-16 22:02:43,532 - root - INFO - ADC tile 2 ADC block 2 is NOT enabled!\n",
      "2024-11-16 22:02:43,535 - root - INFO - ADC tile 2 ADC block 3 is NOT enabled!\n",
      "2024-11-16 22:02:43,538 - root - INFO - ADC tile 3 ADC block 0 is NOT enabled!\n",
      "2024-11-16 22:02:43,541 - root - INFO - ADC tile 3 ADC block 1 is NOT enabled!\n",
      "2024-11-16 22:02:43,544 - root - INFO - ADC tile 3 ADC block 2 is NOT enabled!\n",
      "2024-11-16 22:02:43,547 - root - INFO - ADC tile 3 ADC block 3 is NOT enabled!\n"
     ]
    },
    {
     "name": "stdout",
     "output_type": "stream",
     "text": [
      "qam_order 256QAM, nco 625.0, atten 21.0, inv_sinc 1\n"
     ]
    },
    {
     "name": "stderr",
     "output_type": "stream",
     "text": [
      "2024-11-16 22:02:52,400 - root - INFO - SNR: 12.959, CFO: -137.308, EVM: 0.092, BER: 0.1278125000\n"
     ]
    },
    {
     "data": {
      "application/vnd.jupyter.widget-view+json": {
       "model_id": "6f825ddd5555483f9b8363d2945c1c3e",
       "version_major": 2,
       "version_minor": 0
      },
      "text/plain": [
       "FigureWidget({\n",
       "    'data': [],\n",
       "    'layout': {'template': '...',\n",
       "               'title': {'text': 'Complex Sig…"
      ]
     },
     "metadata": {},
     "output_type": "display_data"
    },
    {
     "data": {
      "application/vnd.jupyter.widget-view+json": {
       "model_id": "6af8334d7ccc48f29cbca863310391a6",
       "version_major": 2,
       "version_minor": 0
      },
      "text/plain": [
       "FigureWidget({\n",
       "    'data': [{'name': 'Magnitude', 'type': 'scattergl', 'uid': '22213fe2-b313-421e-bd5d-86ca448…"
      ]
     },
     "metadata": {},
     "output_type": "display_data"
    },
    {
     "name": "stderr",
     "output_type": "stream",
     "text": [
      "2024-11-16 22:02:53,306 - root - INFO - DAC tile 0 DAC block 0 is NOT enabled!\n",
      "2024-11-16 22:02:53,311 - root - INFO - DAC tile 0 DAC block 1 is NOT enabled!\n",
      "2024-11-16 22:02:53,314 - root - INFO - DAC tile 0 DAC block 2 is NOT enabled!\n",
      "2024-11-16 22:02:53,318 - root - INFO - DAC tile 0 DAC block 3 is NOT enabled!\n",
      "2024-11-16 22:02:53,359 - root - INFO - DAC tile 1 DAC block 0 is enabled!\n",
      "2024-11-16 22:02:53,362 - root - INFO - DAC tile 1 DAC block 1 is NOT enabled!\n",
      "2024-11-16 22:02:53,365 - root - INFO - DAC tile 1 DAC block 2 is NOT enabled!\n",
      "2024-11-16 22:02:53,369 - root - INFO - DAC tile 1 DAC block 3 is NOT enabled!\n",
      "2024-11-16 22:02:53,409 - root - INFO - DAC tile 2 DAC block 0 is enabled!\n",
      "2024-11-16 22:02:53,412 - root - INFO - DAC tile 2 DAC block 1 is NOT enabled!\n",
      "2024-11-16 22:02:53,415 - root - INFO - DAC tile 2 DAC block 2 is NOT enabled!\n",
      "2024-11-16 22:02:53,417 - root - INFO - DAC tile 2 DAC block 3 is NOT enabled!\n",
      "2024-11-16 22:02:53,420 - root - INFO - DAC tile 3 DAC block 0 is NOT enabled!\n",
      "2024-11-16 22:02:53,423 - root - INFO - DAC tile 3 DAC block 1 is NOT enabled!\n",
      "2024-11-16 22:02:53,426 - root - INFO - DAC tile 3 DAC block 2 is NOT enabled!\n",
      "2024-11-16 22:02:53,429 - root - INFO - DAC tile 3 DAC block 3 is NOT enabled!\n",
      "2024-11-16 22:02:53,431 - root - INFO - ADC tile 0 ADC block 0 is NOT enabled!\n",
      "2024-11-16 22:02:53,434 - root - INFO - ADC tile 0 ADC block 1 is NOT enabled!\n",
      "2024-11-16 22:02:53,437 - root - INFO - ADC tile 0 ADC block 2 is NOT enabled!\n",
      "2024-11-16 22:02:53,440 - root - INFO - ADC tile 0 ADC block 3 is NOT enabled!\n",
      "2024-11-16 22:02:53,482 - root - INFO - ADC tile 1 ADC block 0 is enabled!\n",
      "2024-11-16 22:02:53,485 - root - INFO - ADC tile 1 ADC block 1 is NOT enabled!\n",
      "2024-11-16 22:02:53,488 - root - INFO - ADC tile 1 ADC block 2 is NOT enabled!\n",
      "2024-11-16 22:02:53,491 - root - INFO - ADC tile 1 ADC block 3 is NOT enabled!\n",
      "2024-11-16 22:02:53,527 - root - INFO - ADC tile 2 ADC block 0 is enabled!\n",
      "2024-11-16 22:02:53,530 - root - INFO - ADC tile 2 ADC block 1 is NOT enabled!\n",
      "2024-11-16 22:02:53,532 - root - INFO - ADC tile 2 ADC block 2 is NOT enabled!\n",
      "2024-11-16 22:02:53,535 - root - INFO - ADC tile 2 ADC block 3 is NOT enabled!\n",
      "2024-11-16 22:02:53,538 - root - INFO - ADC tile 3 ADC block 0 is NOT enabled!\n",
      "2024-11-16 22:02:53,541 - root - INFO - ADC tile 3 ADC block 1 is NOT enabled!\n",
      "2024-11-16 22:02:53,544 - root - INFO - ADC tile 3 ADC block 2 is NOT enabled!\n",
      "2024-11-16 22:02:53,547 - root - INFO - ADC tile 3 ADC block 3 is NOT enabled!\n"
     ]
    },
    {
     "name": "stdout",
     "output_type": "stream",
     "text": [
      "qam_order 1024QAM, nco 625.0, atten 21.0, inv_sinc 1\n"
     ]
    },
    {
     "name": "stderr",
     "output_type": "stream",
     "text": [
      "2024-11-16 22:03:03,234 - root - INFO - SNR: 13.839, CFO: -116.117, EVM: 0.081, BER: 0.1915416667\n"
     ]
    },
    {
     "data": {
      "application/vnd.jupyter.widget-view+json": {
       "model_id": "a52748f9df9c4c2a8cc6920e87b054c5",
       "version_major": 2,
       "version_minor": 0
      },
      "text/plain": [
       "FigureWidget({\n",
       "    'data': [],\n",
       "    'layout': {'template': '...',\n",
       "               'title': {'text': 'Complex Sig…"
      ]
     },
     "metadata": {},
     "output_type": "display_data"
    },
    {
     "data": {
      "application/vnd.jupyter.widget-view+json": {
       "model_id": "06a4f8fbf60640e88c93f682feda5ec6",
       "version_major": 2,
       "version_minor": 0
      },
      "text/plain": [
       "FigureWidget({\n",
       "    'data': [{'name': 'Magnitude', 'type': 'scattergl', 'uid': '3db6ddbe-0ce3-4c2d-9b19-952b9bd…"
      ]
     },
     "metadata": {},
     "output_type": "display_data"
    },
    {
     "name": "stderr",
     "output_type": "stream",
     "text": [
      "2024-11-16 22:03:03,981 - root - INFO - DAC tile 0 DAC block 0 is NOT enabled!\n",
      "2024-11-16 22:03:03,986 - root - INFO - DAC tile 0 DAC block 1 is NOT enabled!\n",
      "2024-11-16 22:03:03,988 - root - INFO - DAC tile 0 DAC block 2 is NOT enabled!\n",
      "2024-11-16 22:03:03,991 - root - INFO - DAC tile 0 DAC block 3 is NOT enabled!\n",
      "2024-11-16 22:03:04,033 - root - INFO - DAC tile 1 DAC block 0 is enabled!\n",
      "2024-11-16 22:03:04,036 - root - INFO - DAC tile 1 DAC block 1 is NOT enabled!\n",
      "2024-11-16 22:03:04,039 - root - INFO - DAC tile 1 DAC block 2 is NOT enabled!\n",
      "2024-11-16 22:03:04,041 - root - INFO - DAC tile 1 DAC block 3 is NOT enabled!\n",
      "2024-11-16 22:03:04,082 - root - INFO - DAC tile 2 DAC block 0 is enabled!\n",
      "2024-11-16 22:03:04,085 - root - INFO - DAC tile 2 DAC block 1 is NOT enabled!\n",
      "2024-11-16 22:03:04,087 - root - INFO - DAC tile 2 DAC block 2 is NOT enabled!\n",
      "2024-11-16 22:03:04,090 - root - INFO - DAC tile 2 DAC block 3 is NOT enabled!\n",
      "2024-11-16 22:03:04,093 - root - INFO - DAC tile 3 DAC block 0 is NOT enabled!\n",
      "2024-11-16 22:03:04,095 - root - INFO - DAC tile 3 DAC block 1 is NOT enabled!\n",
      "2024-11-16 22:03:04,098 - root - INFO - DAC tile 3 DAC block 2 is NOT enabled!\n",
      "2024-11-16 22:03:04,101 - root - INFO - DAC tile 3 DAC block 3 is NOT enabled!\n",
      "2024-11-16 22:03:04,103 - root - INFO - ADC tile 0 ADC block 0 is NOT enabled!\n",
      "2024-11-16 22:03:04,106 - root - INFO - ADC tile 0 ADC block 1 is NOT enabled!\n",
      "2024-11-16 22:03:04,109 - root - INFO - ADC tile 0 ADC block 2 is NOT enabled!\n",
      "2024-11-16 22:03:04,117 - root - INFO - ADC tile 0 ADC block 3 is NOT enabled!\n",
      "2024-11-16 22:03:04,155 - root - INFO - ADC tile 1 ADC block 0 is enabled!\n",
      "2024-11-16 22:03:04,157 - root - INFO - ADC tile 1 ADC block 1 is NOT enabled!\n",
      "2024-11-16 22:03:04,160 - root - INFO - ADC tile 1 ADC block 2 is NOT enabled!\n",
      "2024-11-16 22:03:04,163 - root - INFO - ADC tile 1 ADC block 3 is NOT enabled!\n",
      "2024-11-16 22:03:04,199 - root - INFO - ADC tile 2 ADC block 0 is enabled!\n",
      "2024-11-16 22:03:04,202 - root - INFO - ADC tile 2 ADC block 1 is NOT enabled!\n",
      "2024-11-16 22:03:04,204 - root - INFO - ADC tile 2 ADC block 2 is NOT enabled!\n",
      "2024-11-16 22:03:04,207 - root - INFO - ADC tile 2 ADC block 3 is NOT enabled!\n",
      "2024-11-16 22:03:04,209 - root - INFO - ADC tile 3 ADC block 0 is NOT enabled!\n",
      "2024-11-16 22:03:04,212 - root - INFO - ADC tile 3 ADC block 1 is NOT enabled!\n",
      "2024-11-16 22:03:04,215 - root - INFO - ADC tile 3 ADC block 2 is NOT enabled!\n",
      "2024-11-16 22:03:04,217 - root - INFO - ADC tile 3 ADC block 3 is NOT enabled!\n"
     ]
    },
    {
     "name": "stdout",
     "output_type": "stream",
     "text": [
      "qam_order 16QAM, nco 625.0, atten 24.0, inv_sinc 1\n"
     ]
    },
    {
     "name": "stderr",
     "output_type": "stream",
     "text": [
      "2024-11-16 22:03:12,731 - root - INFO - SNR: 10.559, CFO: -225.385, EVM: 0.248, BER: 0.0238020833\n"
     ]
    },
    {
     "data": {
      "application/vnd.jupyter.widget-view+json": {
       "model_id": "d7e4593e2a844dfb957e33cdd0d12b0a",
       "version_major": 2,
       "version_minor": 0
      },
      "text/plain": [
       "FigureWidget({\n",
       "    'data': [],\n",
       "    'layout': {'template': '...',\n",
       "               'title': {'text': 'Complex Sig…"
      ]
     },
     "metadata": {},
     "output_type": "display_data"
    },
    {
     "data": {
      "application/vnd.jupyter.widget-view+json": {
       "model_id": "2b4a60061d3d4cb5b735a4db5b94d9f9",
       "version_major": 2,
       "version_minor": 0
      },
      "text/plain": [
       "FigureWidget({\n",
       "    'data': [{'name': 'Magnitude', 'type': 'scattergl', 'uid': 'cc5f35e8-a203-4b1c-b5e3-622ee11…"
      ]
     },
     "metadata": {},
     "output_type": "display_data"
    },
    {
     "name": "stderr",
     "output_type": "stream",
     "text": [
      "2024-11-16 22:03:13,518 - root - INFO - DAC tile 0 DAC block 0 is NOT enabled!\n",
      "2024-11-16 22:03:13,523 - root - INFO - DAC tile 0 DAC block 1 is NOT enabled!\n",
      "2024-11-16 22:03:13,526 - root - INFO - DAC tile 0 DAC block 2 is NOT enabled!\n",
      "2024-11-16 22:03:13,530 - root - INFO - DAC tile 0 DAC block 3 is NOT enabled!\n",
      "2024-11-16 22:03:13,571 - root - INFO - DAC tile 1 DAC block 0 is enabled!\n",
      "2024-11-16 22:03:13,574 - root - INFO - DAC tile 1 DAC block 1 is NOT enabled!\n",
      "2024-11-16 22:03:13,577 - root - INFO - DAC tile 1 DAC block 2 is NOT enabled!\n",
      "2024-11-16 22:03:13,580 - root - INFO - DAC tile 1 DAC block 3 is NOT enabled!\n",
      "2024-11-16 22:03:13,621 - root - INFO - DAC tile 2 DAC block 0 is enabled!\n",
      "2024-11-16 22:03:13,623 - root - INFO - DAC tile 2 DAC block 1 is NOT enabled!\n",
      "2024-11-16 22:03:13,626 - root - INFO - DAC tile 2 DAC block 2 is NOT enabled!\n",
      "2024-11-16 22:03:13,629 - root - INFO - DAC tile 2 DAC block 3 is NOT enabled!\n",
      "2024-11-16 22:03:13,632 - root - INFO - DAC tile 3 DAC block 0 is NOT enabled!\n",
      "2024-11-16 22:03:13,635 - root - INFO - DAC tile 3 DAC block 1 is NOT enabled!\n",
      "2024-11-16 22:03:13,638 - root - INFO - DAC tile 3 DAC block 2 is NOT enabled!\n",
      "2024-11-16 22:03:13,641 - root - INFO - DAC tile 3 DAC block 3 is NOT enabled!\n",
      "2024-11-16 22:03:13,643 - root - INFO - ADC tile 0 ADC block 0 is NOT enabled!\n",
      "2024-11-16 22:03:13,646 - root - INFO - ADC tile 0 ADC block 1 is NOT enabled!\n",
      "2024-11-16 22:03:13,649 - root - INFO - ADC tile 0 ADC block 2 is NOT enabled!\n",
      "2024-11-16 22:03:13,652 - root - INFO - ADC tile 0 ADC block 3 is NOT enabled!\n",
      "2024-11-16 22:03:13,695 - root - INFO - ADC tile 1 ADC block 0 is enabled!\n",
      "2024-11-16 22:03:13,698 - root - INFO - ADC tile 1 ADC block 1 is NOT enabled!\n",
      "2024-11-16 22:03:13,701 - root - INFO - ADC tile 1 ADC block 2 is NOT enabled!\n",
      "2024-11-16 22:03:13,703 - root - INFO - ADC tile 1 ADC block 3 is NOT enabled!\n",
      "2024-11-16 22:03:13,739 - root - INFO - ADC tile 2 ADC block 0 is enabled!\n",
      "2024-11-16 22:03:13,742 - root - INFO - ADC tile 2 ADC block 1 is NOT enabled!\n",
      "2024-11-16 22:03:13,744 - root - INFO - ADC tile 2 ADC block 2 is NOT enabled!\n",
      "2024-11-16 22:03:13,747 - root - INFO - ADC tile 2 ADC block 3 is NOT enabled!\n",
      "2024-11-16 22:03:13,750 - root - INFO - ADC tile 3 ADC block 0 is NOT enabled!\n",
      "2024-11-16 22:03:13,753 - root - INFO - ADC tile 3 ADC block 1 is NOT enabled!\n",
      "2024-11-16 22:03:13,756 - root - INFO - ADC tile 3 ADC block 2 is NOT enabled!\n",
      "2024-11-16 22:03:13,759 - root - INFO - ADC tile 3 ADC block 3 is NOT enabled!\n"
     ]
    },
    {
     "name": "stdout",
     "output_type": "stream",
     "text": [
      "qam_order 64QAM, nco 625.0, atten 24.0, inv_sinc 1\n"
     ]
    },
    {
     "name": "stderr",
     "output_type": "stream",
     "text": [
      "2024-11-16 22:03:22,769 - root - INFO - SNR: 10.182, CFO: -212.435, EVM: 0.184, BER: 0.1068402778\n"
     ]
    },
    {
     "data": {
      "application/vnd.jupyter.widget-view+json": {
       "model_id": "45359aeb09804740b2c69350b45db467",
       "version_major": 2,
       "version_minor": 0
      },
      "text/plain": [
       "FigureWidget({\n",
       "    'data': [],\n",
       "    'layout': {'template': '...',\n",
       "               'title': {'text': 'Complex Sig…"
      ]
     },
     "metadata": {},
     "output_type": "display_data"
    },
    {
     "data": {
      "application/vnd.jupyter.widget-view+json": {
       "model_id": "df3d442e9d1f428281b525e387492c37",
       "version_major": 2,
       "version_minor": 0
      },
      "text/plain": [
       "FigureWidget({\n",
       "    'data': [{'name': 'Magnitude', 'type': 'scattergl', 'uid': 'd1762891-bd0d-4293-84b6-940e674…"
      ]
     },
     "metadata": {},
     "output_type": "display_data"
    },
    {
     "name": "stderr",
     "output_type": "stream",
     "text": [
      "2024-11-16 22:03:23,621 - root - INFO - DAC tile 0 DAC block 0 is NOT enabled!\n",
      "2024-11-16 22:03:23,626 - root - INFO - DAC tile 0 DAC block 1 is NOT enabled!\n",
      "2024-11-16 22:03:23,629 - root - INFO - DAC tile 0 DAC block 2 is NOT enabled!\n",
      "2024-11-16 22:03:23,633 - root - INFO - DAC tile 0 DAC block 3 is NOT enabled!\n",
      "2024-11-16 22:03:23,672 - root - INFO - DAC tile 1 DAC block 0 is enabled!\n",
      "2024-11-16 22:03:23,674 - root - INFO - DAC tile 1 DAC block 1 is NOT enabled!\n",
      "2024-11-16 22:03:23,677 - root - INFO - DAC tile 1 DAC block 2 is NOT enabled!\n",
      "2024-11-16 22:03:23,680 - root - INFO - DAC tile 1 DAC block 3 is NOT enabled!\n",
      "2024-11-16 22:03:23,721 - root - INFO - DAC tile 2 DAC block 0 is enabled!\n",
      "2024-11-16 22:03:23,724 - root - INFO - DAC tile 2 DAC block 1 is NOT enabled!\n",
      "2024-11-16 22:03:23,727 - root - INFO - DAC tile 2 DAC block 2 is NOT enabled!\n",
      "2024-11-16 22:03:23,729 - root - INFO - DAC tile 2 DAC block 3 is NOT enabled!\n",
      "2024-11-16 22:03:23,732 - root - INFO - DAC tile 3 DAC block 0 is NOT enabled!\n",
      "2024-11-16 22:03:23,735 - root - INFO - DAC tile 3 DAC block 1 is NOT enabled!\n",
      "2024-11-16 22:03:23,738 - root - INFO - DAC tile 3 DAC block 2 is NOT enabled!\n",
      "2024-11-16 22:03:23,741 - root - INFO - DAC tile 3 DAC block 3 is NOT enabled!\n",
      "2024-11-16 22:03:23,744 - root - INFO - ADC tile 0 ADC block 0 is NOT enabled!\n",
      "2024-11-16 22:03:23,747 - root - INFO - ADC tile 0 ADC block 1 is NOT enabled!\n",
      "2024-11-16 22:03:23,750 - root - INFO - ADC tile 0 ADC block 2 is NOT enabled!\n",
      "2024-11-16 22:03:23,752 - root - INFO - ADC tile 0 ADC block 3 is NOT enabled!\n",
      "2024-11-16 22:03:23,795 - root - INFO - ADC tile 1 ADC block 0 is enabled!\n",
      "2024-11-16 22:03:23,798 - root - INFO - ADC tile 1 ADC block 1 is NOT enabled!\n",
      "2024-11-16 22:03:23,800 - root - INFO - ADC tile 1 ADC block 2 is NOT enabled!\n",
      "2024-11-16 22:03:23,803 - root - INFO - ADC tile 1 ADC block 3 is NOT enabled!\n",
      "2024-11-16 22:03:23,841 - root - INFO - ADC tile 2 ADC block 0 is enabled!\n",
      "2024-11-16 22:03:23,844 - root - INFO - ADC tile 2 ADC block 1 is NOT enabled!\n",
      "2024-11-16 22:03:23,846 - root - INFO - ADC tile 2 ADC block 2 is NOT enabled!\n",
      "2024-11-16 22:03:23,849 - root - INFO - ADC tile 2 ADC block 3 is NOT enabled!\n",
      "2024-11-16 22:03:23,852 - root - INFO - ADC tile 3 ADC block 0 is NOT enabled!\n",
      "2024-11-16 22:03:23,855 - root - INFO - ADC tile 3 ADC block 1 is NOT enabled!\n",
      "2024-11-16 22:03:23,858 - root - INFO - ADC tile 3 ADC block 2 is NOT enabled!\n",
      "2024-11-16 22:03:23,861 - root - INFO - ADC tile 3 ADC block 3 is NOT enabled!\n"
     ]
    },
    {
     "name": "stdout",
     "output_type": "stream",
     "text": [
      "qam_order 256QAM, nco 625.0, atten 24.0, inv_sinc 1\n"
     ]
    },
    {
     "name": "stderr",
     "output_type": "stream",
     "text": [
      "2024-11-16 22:03:32,708 - root - INFO - SNR: 9.226, CFO: 2.779, EVM: 0.105, BER: 0.1947916667\n"
     ]
    },
    {
     "data": {
      "application/vnd.jupyter.widget-view+json": {
       "model_id": "6cfc594494634b7dab5ec382e579a110",
       "version_major": 2,
       "version_minor": 0
      },
      "text/plain": [
       "FigureWidget({\n",
       "    'data': [],\n",
       "    'layout': {'template': '...',\n",
       "               'title': {'text': 'Complex Sig…"
      ]
     },
     "metadata": {},
     "output_type": "display_data"
    },
    {
     "data": {
      "application/vnd.jupyter.widget-view+json": {
       "model_id": "dd77c56da4234be7a63482722cd762bc",
       "version_major": 2,
       "version_minor": 0
      },
      "text/plain": [
       "FigureWidget({\n",
       "    'data': [{'name': 'Magnitude', 'type': 'scattergl', 'uid': 'a4cd6366-ff7b-43ca-a2de-ac939f6…"
      ]
     },
     "metadata": {},
     "output_type": "display_data"
    },
    {
     "name": "stderr",
     "output_type": "stream",
     "text": [
      "2024-11-16 22:03:33,632 - root - INFO - DAC tile 0 DAC block 0 is NOT enabled!\n",
      "2024-11-16 22:03:33,636 - root - INFO - DAC tile 0 DAC block 1 is NOT enabled!\n",
      "2024-11-16 22:03:33,640 - root - INFO - DAC tile 0 DAC block 2 is NOT enabled!\n",
      "2024-11-16 22:03:33,643 - root - INFO - DAC tile 0 DAC block 3 is NOT enabled!\n",
      "2024-11-16 22:03:33,686 - root - INFO - DAC tile 1 DAC block 0 is enabled!\n",
      "2024-11-16 22:03:33,689 - root - INFO - DAC tile 1 DAC block 1 is NOT enabled!\n",
      "2024-11-16 22:03:33,691 - root - INFO - DAC tile 1 DAC block 2 is NOT enabled!\n",
      "2024-11-16 22:03:33,694 - root - INFO - DAC tile 1 DAC block 3 is NOT enabled!\n",
      "2024-11-16 22:03:33,736 - root - INFO - DAC tile 2 DAC block 0 is enabled!\n",
      "2024-11-16 22:03:33,739 - root - INFO - DAC tile 2 DAC block 1 is NOT enabled!\n",
      "2024-11-16 22:03:33,741 - root - INFO - DAC tile 2 DAC block 2 is NOT enabled!\n",
      "2024-11-16 22:03:33,744 - root - INFO - DAC tile 2 DAC block 3 is NOT enabled!\n",
      "2024-11-16 22:03:33,746 - root - INFO - DAC tile 3 DAC block 0 is NOT enabled!\n",
      "2024-11-16 22:03:33,749 - root - INFO - DAC tile 3 DAC block 1 is NOT enabled!\n",
      "2024-11-16 22:03:33,752 - root - INFO - DAC tile 3 DAC block 2 is NOT enabled!\n",
      "2024-11-16 22:03:33,754 - root - INFO - DAC tile 3 DAC block 3 is NOT enabled!\n",
      "2024-11-16 22:03:33,757 - root - INFO - ADC tile 0 ADC block 0 is NOT enabled!\n",
      "2024-11-16 22:03:33,760 - root - INFO - ADC tile 0 ADC block 1 is NOT enabled!\n",
      "2024-11-16 22:03:33,762 - root - INFO - ADC tile 0 ADC block 2 is NOT enabled!\n",
      "2024-11-16 22:03:33,765 - root - INFO - ADC tile 0 ADC block 3 is NOT enabled!\n",
      "2024-11-16 22:03:33,808 - root - INFO - ADC tile 1 ADC block 0 is enabled!\n",
      "2024-11-16 22:03:33,811 - root - INFO - ADC tile 1 ADC block 1 is NOT enabled!\n",
      "2024-11-16 22:03:33,815 - root - INFO - ADC tile 1 ADC block 2 is NOT enabled!\n",
      "2024-11-16 22:03:33,818 - root - INFO - ADC tile 1 ADC block 3 is NOT enabled!\n",
      "2024-11-16 22:03:33,853 - root - INFO - ADC tile 2 ADC block 0 is enabled!\n",
      "2024-11-16 22:03:33,855 - root - INFO - ADC tile 2 ADC block 1 is NOT enabled!\n",
      "2024-11-16 22:03:33,858 - root - INFO - ADC tile 2 ADC block 2 is NOT enabled!\n",
      "2024-11-16 22:03:33,861 - root - INFO - ADC tile 2 ADC block 3 is NOT enabled!\n",
      "2024-11-16 22:03:33,864 - root - INFO - ADC tile 3 ADC block 0 is NOT enabled!\n",
      "2024-11-16 22:03:33,866 - root - INFO - ADC tile 3 ADC block 1 is NOT enabled!\n",
      "2024-11-16 22:03:33,869 - root - INFO - ADC tile 3 ADC block 2 is NOT enabled!\n",
      "2024-11-16 22:03:33,872 - root - INFO - ADC tile 3 ADC block 3 is NOT enabled!\n"
     ]
    },
    {
     "name": "stdout",
     "output_type": "stream",
     "text": [
      "qam_order 1024QAM, nco 625.0, atten 24.0, inv_sinc 1\n"
     ]
    },
    {
     "name": "stderr",
     "output_type": "stream",
     "text": [
      "2024-11-16 22:03:43,489 - root - INFO - SNR: 10.810, CFO: 95.917, EVM: 0.241, BER: 0.2460208333\n"
     ]
    },
    {
     "data": {
      "application/vnd.jupyter.widget-view+json": {
       "model_id": "698a493fca3a4899bb418ce0435486b5",
       "version_major": 2,
       "version_minor": 0
      },
      "text/plain": [
       "FigureWidget({\n",
       "    'data': [],\n",
       "    'layout': {'template': '...',\n",
       "               'title': {'text': 'Complex Sig…"
      ]
     },
     "metadata": {},
     "output_type": "display_data"
    },
    {
     "data": {
      "application/vnd.jupyter.widget-view+json": {
       "model_id": "1abcd7c50cb1454a8bf104262b78e8a2",
       "version_major": 2,
       "version_minor": 0
      },
      "text/plain": [
       "FigureWidget({\n",
       "    'data': [{'name': 'Magnitude', 'type': 'scattergl', 'uid': '45b8634f-714e-4e9b-98c4-4cc4c89…"
      ]
     },
     "metadata": {},
     "output_type": "display_data"
    },
    {
     "name": "stderr",
     "output_type": "stream",
     "text": [
      "2024-11-16 22:03:44,250 - root - INFO - DAC tile 0 DAC block 0 is NOT enabled!\n",
      "2024-11-16 22:03:44,254 - root - INFO - DAC tile 0 DAC block 1 is NOT enabled!\n",
      "2024-11-16 22:03:44,258 - root - INFO - DAC tile 0 DAC block 2 is NOT enabled!\n",
      "2024-11-16 22:03:44,261 - root - INFO - DAC tile 0 DAC block 3 is NOT enabled!\n",
      "2024-11-16 22:03:44,303 - root - INFO - DAC tile 1 DAC block 0 is enabled!\n",
      "2024-11-16 22:03:44,306 - root - INFO - DAC tile 1 DAC block 1 is NOT enabled!\n",
      "2024-11-16 22:03:44,309 - root - INFO - DAC tile 1 DAC block 2 is NOT enabled!\n",
      "2024-11-16 22:03:44,312 - root - INFO - DAC tile 1 DAC block 3 is NOT enabled!\n",
      "2024-11-16 22:03:44,353 - root - INFO - DAC tile 2 DAC block 0 is enabled!\n",
      "2024-11-16 22:03:44,355 - root - INFO - DAC tile 2 DAC block 1 is NOT enabled!\n",
      "2024-11-16 22:03:44,358 - root - INFO - DAC tile 2 DAC block 2 is NOT enabled!\n",
      "2024-11-16 22:03:44,360 - root - INFO - DAC tile 2 DAC block 3 is NOT enabled!\n",
      "2024-11-16 22:03:44,363 - root - INFO - DAC tile 3 DAC block 0 is NOT enabled!\n",
      "2024-11-16 22:03:44,366 - root - INFO - DAC tile 3 DAC block 1 is NOT enabled!\n",
      "2024-11-16 22:03:44,371 - root - INFO - DAC tile 3 DAC block 2 is NOT enabled!\n",
      "2024-11-16 22:03:44,374 - root - INFO - DAC tile 3 DAC block 3 is NOT enabled!\n",
      "2024-11-16 22:03:44,377 - root - INFO - ADC tile 0 ADC block 0 is NOT enabled!\n",
      "2024-11-16 22:03:44,379 - root - INFO - ADC tile 0 ADC block 1 is NOT enabled!\n",
      "2024-11-16 22:03:44,382 - root - INFO - ADC tile 0 ADC block 2 is NOT enabled!\n",
      "2024-11-16 22:03:44,385 - root - INFO - ADC tile 0 ADC block 3 is NOT enabled!\n",
      "2024-11-16 22:03:44,425 - root - INFO - ADC tile 1 ADC block 0 is enabled!\n",
      "2024-11-16 22:03:44,429 - root - INFO - ADC tile 1 ADC block 1 is NOT enabled!\n",
      "2024-11-16 22:03:44,431 - root - INFO - ADC tile 1 ADC block 2 is NOT enabled!\n",
      "2024-11-16 22:03:44,434 - root - INFO - ADC tile 1 ADC block 3 is NOT enabled!\n",
      "2024-11-16 22:03:44,470 - root - INFO - ADC tile 2 ADC block 0 is enabled!\n",
      "2024-11-16 22:03:44,472 - root - INFO - ADC tile 2 ADC block 1 is NOT enabled!\n",
      "2024-11-16 22:03:44,475 - root - INFO - ADC tile 2 ADC block 2 is NOT enabled!\n",
      "2024-11-16 22:03:44,477 - root - INFO - ADC tile 2 ADC block 3 is NOT enabled!\n",
      "2024-11-16 22:03:44,480 - root - INFO - ADC tile 3 ADC block 0 is NOT enabled!\n",
      "2024-11-16 22:03:44,483 - root - INFO - ADC tile 3 ADC block 1 is NOT enabled!\n",
      "2024-11-16 22:03:44,485 - root - INFO - ADC tile 3 ADC block 2 is NOT enabled!\n",
      "2024-11-16 22:03:44,488 - root - INFO - ADC tile 3 ADC block 3 is NOT enabled!\n"
     ]
    },
    {
     "name": "stdout",
     "output_type": "stream",
     "text": [
      "qam_order 16QAM, nco 625.0, atten 27.0, inv_sinc 1\n"
     ]
    },
    {
     "name": "stderr",
     "output_type": "stream",
     "text": [
      "2024-11-16 22:03:53,001 - root - INFO - SNR: 4.330, CFO: -221.119, EVM: 0.318, BER: 0.0790625000\n"
     ]
    },
    {
     "data": {
      "application/vnd.jupyter.widget-view+json": {
       "model_id": "4bcedb6a9be64a998d4bec578f26fbe6",
       "version_major": 2,
       "version_minor": 0
      },
      "text/plain": [
       "FigureWidget({\n",
       "    'data': [],\n",
       "    'layout': {'template': '...',\n",
       "               'title': {'text': 'Complex Sig…"
      ]
     },
     "metadata": {},
     "output_type": "display_data"
    },
    {
     "data": {
      "application/vnd.jupyter.widget-view+json": {
       "model_id": "e1f3d6e17490444caad209838ea6edc1",
       "version_major": 2,
       "version_minor": 0
      },
      "text/plain": [
       "FigureWidget({\n",
       "    'data': [{'name': 'Magnitude', 'type': 'scattergl', 'uid': '4bbaeb9d-54be-4b74-bdde-a3ac251…"
      ]
     },
     "metadata": {},
     "output_type": "display_data"
    },
    {
     "name": "stderr",
     "output_type": "stream",
     "text": [
      "2024-11-16 22:03:53,808 - root - INFO - DAC tile 0 DAC block 0 is NOT enabled!\n",
      "2024-11-16 22:03:53,813 - root - INFO - DAC tile 0 DAC block 1 is NOT enabled!\n",
      "2024-11-16 22:03:53,817 - root - INFO - DAC tile 0 DAC block 2 is NOT enabled!\n",
      "2024-11-16 22:03:53,819 - root - INFO - DAC tile 0 DAC block 3 is NOT enabled!\n",
      "2024-11-16 22:03:53,861 - root - INFO - DAC tile 1 DAC block 0 is enabled!\n",
      "2024-11-16 22:03:53,865 - root - INFO - DAC tile 1 DAC block 1 is NOT enabled!\n",
      "2024-11-16 22:03:53,868 - root - INFO - DAC tile 1 DAC block 2 is NOT enabled!\n",
      "2024-11-16 22:03:53,871 - root - INFO - DAC tile 1 DAC block 3 is NOT enabled!\n",
      "2024-11-16 22:03:53,912 - root - INFO - DAC tile 2 DAC block 0 is enabled!\n",
      "2024-11-16 22:03:53,915 - root - INFO - DAC tile 2 DAC block 1 is NOT enabled!\n",
      "2024-11-16 22:03:53,917 - root - INFO - DAC tile 2 DAC block 2 is NOT enabled!\n",
      "2024-11-16 22:03:53,920 - root - INFO - DAC tile 2 DAC block 3 is NOT enabled!\n",
      "2024-11-16 22:03:53,923 - root - INFO - DAC tile 3 DAC block 0 is NOT enabled!\n",
      "2024-11-16 22:03:53,926 - root - INFO - DAC tile 3 DAC block 1 is NOT enabled!\n",
      "2024-11-16 22:03:53,929 - root - INFO - DAC tile 3 DAC block 2 is NOT enabled!\n",
      "2024-11-16 22:03:53,932 - root - INFO - DAC tile 3 DAC block 3 is NOT enabled!\n",
      "2024-11-16 22:03:53,935 - root - INFO - ADC tile 0 ADC block 0 is NOT enabled!\n",
      "2024-11-16 22:03:53,939 - root - INFO - ADC tile 0 ADC block 1 is NOT enabled!\n",
      "2024-11-16 22:03:53,942 - root - INFO - ADC tile 0 ADC block 2 is NOT enabled!\n",
      "2024-11-16 22:03:53,945 - root - INFO - ADC tile 0 ADC block 3 is NOT enabled!\n",
      "2024-11-16 22:03:53,988 - root - INFO - ADC tile 1 ADC block 0 is enabled!\n",
      "2024-11-16 22:03:53,991 - root - INFO - ADC tile 1 ADC block 1 is NOT enabled!\n",
      "2024-11-16 22:03:53,994 - root - INFO - ADC tile 1 ADC block 2 is NOT enabled!\n",
      "2024-11-16 22:03:53,996 - root - INFO - ADC tile 1 ADC block 3 is NOT enabled!\n",
      "2024-11-16 22:03:54,033 - root - INFO - ADC tile 2 ADC block 0 is enabled!\n",
      "2024-11-16 22:03:54,036 - root - INFO - ADC tile 2 ADC block 1 is NOT enabled!\n",
      "2024-11-16 22:03:54,039 - root - INFO - ADC tile 2 ADC block 2 is NOT enabled!\n",
      "2024-11-16 22:03:54,042 - root - INFO - ADC tile 2 ADC block 3 is NOT enabled!\n",
      "2024-11-16 22:03:54,045 - root - INFO - ADC tile 3 ADC block 0 is NOT enabled!\n",
      "2024-11-16 22:03:54,048 - root - INFO - ADC tile 3 ADC block 1 is NOT enabled!\n",
      "2024-11-16 22:03:54,051 - root - INFO - ADC tile 3 ADC block 2 is NOT enabled!\n",
      "2024-11-16 22:03:54,054 - root - INFO - ADC tile 3 ADC block 3 is NOT enabled!\n"
     ]
    },
    {
     "name": "stdout",
     "output_type": "stream",
     "text": [
      "qam_order 64QAM, nco 625.0, atten 27.0, inv_sinc 1\n"
     ]
    },
    {
     "name": "stderr",
     "output_type": "stream",
     "text": [
      "2024-11-16 22:04:02,592 - root - INFO - SNR: 4.454, CFO: -81.689, EVM: 0.367, BER: 0.1692361111\n"
     ]
    },
    {
     "data": {
      "application/vnd.jupyter.widget-view+json": {
       "model_id": "2b707dc6fff4450b83065d00c1c6216e",
       "version_major": 2,
       "version_minor": 0
      },
      "text/plain": [
       "FigureWidget({\n",
       "    'data': [],\n",
       "    'layout': {'template': '...',\n",
       "               'title': {'text': 'Complex Sig…"
      ]
     },
     "metadata": {},
     "output_type": "display_data"
    },
    {
     "data": {
      "application/vnd.jupyter.widget-view+json": {
       "model_id": "249922059b7a459085281f3c19975653",
       "version_major": 2,
       "version_minor": 0
      },
      "text/plain": [
       "FigureWidget({\n",
       "    'data': [{'name': 'Magnitude', 'type': 'scattergl', 'uid': '867ba6f2-69a2-40dc-82e3-6f8e9fd…"
      ]
     },
     "metadata": {},
     "output_type": "display_data"
    },
    {
     "name": "stderr",
     "output_type": "stream",
     "text": [
      "2024-11-16 22:04:03,438 - root - INFO - DAC tile 0 DAC block 0 is NOT enabled!\n",
      "2024-11-16 22:04:03,444 - root - INFO - DAC tile 0 DAC block 1 is NOT enabled!\n",
      "2024-11-16 22:04:03,447 - root - INFO - DAC tile 0 DAC block 2 is NOT enabled!\n",
      "2024-11-16 22:04:03,451 - root - INFO - DAC tile 0 DAC block 3 is NOT enabled!\n",
      "2024-11-16 22:04:03,492 - root - INFO - DAC tile 1 DAC block 0 is enabled!\n",
      "2024-11-16 22:04:03,495 - root - INFO - DAC tile 1 DAC block 1 is NOT enabled!\n",
      "2024-11-16 22:04:03,497 - root - INFO - DAC tile 1 DAC block 2 is NOT enabled!\n",
      "2024-11-16 22:04:03,500 - root - INFO - DAC tile 1 DAC block 3 is NOT enabled!\n",
      "2024-11-16 22:04:03,541 - root - INFO - DAC tile 2 DAC block 0 is enabled!\n",
      "2024-11-16 22:04:03,544 - root - INFO - DAC tile 2 DAC block 1 is NOT enabled!\n",
      "2024-11-16 22:04:03,546 - root - INFO - DAC tile 2 DAC block 2 is NOT enabled!\n",
      "2024-11-16 22:04:03,549 - root - INFO - DAC tile 2 DAC block 3 is NOT enabled!\n",
      "2024-11-16 22:04:03,552 - root - INFO - DAC tile 3 DAC block 0 is NOT enabled!\n",
      "2024-11-16 22:04:03,554 - root - INFO - DAC tile 3 DAC block 1 is NOT enabled!\n",
      "2024-11-16 22:04:03,557 - root - INFO - DAC tile 3 DAC block 2 is NOT enabled!\n",
      "2024-11-16 22:04:03,561 - root - INFO - DAC tile 3 DAC block 3 is NOT enabled!\n",
      "2024-11-16 22:04:03,565 - root - INFO - ADC tile 0 ADC block 0 is NOT enabled!\n",
      "2024-11-16 22:04:03,568 - root - INFO - ADC tile 0 ADC block 1 is NOT enabled!\n",
      "2024-11-16 22:04:03,572 - root - INFO - ADC tile 0 ADC block 2 is NOT enabled!\n",
      "2024-11-16 22:04:03,576 - root - INFO - ADC tile 0 ADC block 3 is NOT enabled!\n",
      "2024-11-16 22:04:03,628 - root - INFO - ADC tile 1 ADC block 0 is enabled!\n",
      "2024-11-16 22:04:03,632 - root - INFO - ADC tile 1 ADC block 1 is NOT enabled!\n",
      "2024-11-16 22:04:03,635 - root - INFO - ADC tile 1 ADC block 2 is NOT enabled!\n",
      "2024-11-16 22:04:03,637 - root - INFO - ADC tile 1 ADC block 3 is NOT enabled!\n",
      "2024-11-16 22:04:03,674 - root - INFO - ADC tile 2 ADC block 0 is enabled!\n",
      "2024-11-16 22:04:03,676 - root - INFO - ADC tile 2 ADC block 1 is NOT enabled!\n",
      "2024-11-16 22:04:03,679 - root - INFO - ADC tile 2 ADC block 2 is NOT enabled!\n",
      "2024-11-16 22:04:03,682 - root - INFO - ADC tile 2 ADC block 3 is NOT enabled!\n",
      "2024-11-16 22:04:03,685 - root - INFO - ADC tile 3 ADC block 0 is NOT enabled!\n",
      "2024-11-16 22:04:03,688 - root - INFO - ADC tile 3 ADC block 1 is NOT enabled!\n",
      "2024-11-16 22:04:03,691 - root - INFO - ADC tile 3 ADC block 2 is NOT enabled!\n",
      "2024-11-16 22:04:03,694 - root - INFO - ADC tile 3 ADC block 3 is NOT enabled!\n"
     ]
    },
    {
     "name": "stdout",
     "output_type": "stream",
     "text": [
      "qam_order 256QAM, nco 625.0, atten 27.0, inv_sinc 1\n"
     ]
    },
    {
     "name": "stderr",
     "output_type": "stream",
     "text": [
      "2024-11-16 22:04:24,938 - root - ERROR - Fail to detect Rx packet\n"
     ]
    },
    {
     "data": {
      "application/vnd.jupyter.widget-view+json": {
       "model_id": "bc334f783e304cf1adcccbf9b3bbda1d",
       "version_major": 2,
       "version_minor": 0
      },
      "text/plain": [
       "FigureWidget({\n",
       "    'data': [],\n",
       "    'layout': {'template': '...',\n",
       "               'title': {'text': 'Complex Sig…"
      ]
     },
     "metadata": {},
     "output_type": "display_data"
    },
    {
     "data": {
      "application/vnd.jupyter.widget-view+json": {
       "model_id": "fca54ec21a5d4d178215224f5416af1f",
       "version_major": 2,
       "version_minor": 0
      },
      "text/plain": [
       "FigureWidget({\n",
       "    'data': [{'name': 'Magnitude', 'type': 'scattergl', 'uid': 'b8b88358-f52b-4bab-a6d5-f320216…"
      ]
     },
     "metadata": {},
     "output_type": "display_data"
    },
    {
     "name": "stderr",
     "output_type": "stream",
     "text": [
      "2024-11-16 22:04:25,851 - root - INFO - DAC tile 0 DAC block 0 is NOT enabled!\n",
      "2024-11-16 22:04:25,855 - root - INFO - DAC tile 0 DAC block 1 is NOT enabled!\n",
      "2024-11-16 22:04:25,858 - root - INFO - DAC tile 0 DAC block 2 is NOT enabled!\n",
      "2024-11-16 22:04:25,861 - root - INFO - DAC tile 0 DAC block 3 is NOT enabled!\n",
      "2024-11-16 22:04:25,909 - root - INFO - DAC tile 1 DAC block 0 is enabled!\n",
      "2024-11-16 22:04:25,912 - root - INFO - DAC tile 1 DAC block 1 is NOT enabled!\n",
      "2024-11-16 22:04:25,914 - root - INFO - DAC tile 1 DAC block 2 is NOT enabled!\n",
      "2024-11-16 22:04:25,917 - root - INFO - DAC tile 1 DAC block 3 is NOT enabled!\n",
      "2024-11-16 22:04:25,957 - root - INFO - DAC tile 2 DAC block 0 is enabled!\n",
      "2024-11-16 22:04:25,960 - root - INFO - DAC tile 2 DAC block 1 is NOT enabled!\n",
      "2024-11-16 22:04:25,962 - root - INFO - DAC tile 2 DAC block 2 is NOT enabled!\n",
      "2024-11-16 22:04:25,965 - root - INFO - DAC tile 2 DAC block 3 is NOT enabled!\n",
      "2024-11-16 22:04:25,968 - root - INFO - DAC tile 3 DAC block 0 is NOT enabled!\n",
      "2024-11-16 22:04:25,971 - root - INFO - DAC tile 3 DAC block 1 is NOT enabled!\n",
      "2024-11-16 22:04:25,974 - root - INFO - DAC tile 3 DAC block 2 is NOT enabled!\n",
      "2024-11-16 22:04:25,977 - root - INFO - DAC tile 3 DAC block 3 is NOT enabled!\n",
      "2024-11-16 22:04:25,980 - root - INFO - ADC tile 0 ADC block 0 is NOT enabled!\n",
      "2024-11-16 22:04:25,983 - root - INFO - ADC tile 0 ADC block 1 is NOT enabled!\n",
      "2024-11-16 22:04:25,986 - root - INFO - ADC tile 0 ADC block 2 is NOT enabled!\n",
      "2024-11-16 22:04:25,989 - root - INFO - ADC tile 0 ADC block 3 is NOT enabled!\n",
      "2024-11-16 22:04:26,040 - root - INFO - ADC tile 1 ADC block 0 is enabled!\n",
      "2024-11-16 22:04:26,045 - root - INFO - ADC tile 1 ADC block 1 is NOT enabled!\n",
      "2024-11-16 22:04:26,049 - root - INFO - ADC tile 1 ADC block 2 is NOT enabled!\n",
      "2024-11-16 22:04:26,052 - root - INFO - ADC tile 1 ADC block 3 is NOT enabled!\n",
      "2024-11-16 22:04:26,101 - root - INFO - ADC tile 2 ADC block 0 is enabled!\n",
      "2024-11-16 22:04:26,105 - root - INFO - ADC tile 2 ADC block 1 is NOT enabled!\n",
      "2024-11-16 22:04:26,108 - root - INFO - ADC tile 2 ADC block 2 is NOT enabled!\n",
      "2024-11-16 22:04:26,111 - root - INFO - ADC tile 2 ADC block 3 is NOT enabled!\n",
      "2024-11-16 22:04:26,114 - root - INFO - ADC tile 3 ADC block 0 is NOT enabled!\n",
      "2024-11-16 22:04:26,117 - root - INFO - ADC tile 3 ADC block 1 is NOT enabled!\n",
      "2024-11-16 22:04:26,120 - root - INFO - ADC tile 3 ADC block 2 is NOT enabled!\n",
      "2024-11-16 22:04:26,123 - root - INFO - ADC tile 3 ADC block 3 is NOT enabled!\n"
     ]
    },
    {
     "name": "stdout",
     "output_type": "stream",
     "text": [
      "qam_order 1024QAM, nco 625.0, atten 27.0, inv_sinc 1\n"
     ]
    },
    {
     "name": "stderr",
     "output_type": "stream",
     "text": [
      "2024-11-16 22:04:35,702 - root - INFO - SNR: 7.192, CFO: -102.151, EVM: 0.683, BER: 0.2995833333\n"
     ]
    },
    {
     "data": {
      "application/vnd.jupyter.widget-view+json": {
       "model_id": "76e419c6733146b2a576ea3314596d92",
       "version_major": 2,
       "version_minor": 0
      },
      "text/plain": [
       "FigureWidget({\n",
       "    'data': [],\n",
       "    'layout': {'template': '...',\n",
       "               'title': {'text': 'Complex Sig…"
      ]
     },
     "metadata": {},
     "output_type": "display_data"
    },
    {
     "data": {
      "application/vnd.jupyter.widget-view+json": {
       "model_id": "be98ee72be014a71a76504762fae94d6",
       "version_major": 2,
       "version_minor": 0
      },
      "text/plain": [
       "FigureWidget({\n",
       "    'data': [{'name': 'Magnitude', 'type': 'scattergl', 'uid': '3d94fd54-dca0-4387-802c-17052bb…"
      ]
     },
     "metadata": {},
     "output_type": "display_data"
    },
    {
     "name": "stderr",
     "output_type": "stream",
     "text": [
      "2024-11-16 22:04:36,469 - root - INFO - DAC tile 0 DAC block 0 is NOT enabled!\n",
      "2024-11-16 22:04:36,474 - root - INFO - DAC tile 0 DAC block 1 is NOT enabled!\n",
      "2024-11-16 22:04:36,478 - root - INFO - DAC tile 0 DAC block 2 is NOT enabled!\n",
      "2024-11-16 22:04:36,481 - root - INFO - DAC tile 0 DAC block 3 is NOT enabled!\n",
      "2024-11-16 22:04:36,523 - root - INFO - DAC tile 1 DAC block 0 is enabled!\n",
      "2024-11-16 22:04:36,526 - root - INFO - DAC tile 1 DAC block 1 is NOT enabled!\n",
      "2024-11-16 22:04:36,528 - root - INFO - DAC tile 1 DAC block 2 is NOT enabled!\n",
      "2024-11-16 22:04:36,531 - root - INFO - DAC tile 1 DAC block 3 is NOT enabled!\n",
      "2024-11-16 22:04:36,573 - root - INFO - DAC tile 2 DAC block 0 is enabled!\n",
      "2024-11-16 22:04:36,576 - root - INFO - DAC tile 2 DAC block 1 is NOT enabled!\n",
      "2024-11-16 22:04:36,578 - root - INFO - DAC tile 2 DAC block 2 is NOT enabled!\n",
      "2024-11-16 22:04:36,581 - root - INFO - DAC tile 2 DAC block 3 is NOT enabled!\n",
      "2024-11-16 22:04:36,584 - root - INFO - DAC tile 3 DAC block 0 is NOT enabled!\n",
      "2024-11-16 22:04:36,587 - root - INFO - DAC tile 3 DAC block 1 is NOT enabled!\n",
      "2024-11-16 22:04:36,590 - root - INFO - DAC tile 3 DAC block 2 is NOT enabled!\n",
      "2024-11-16 22:04:36,593 - root - INFO - DAC tile 3 DAC block 3 is NOT enabled!\n",
      "2024-11-16 22:04:36,596 - root - INFO - ADC tile 0 ADC block 0 is NOT enabled!\n",
      "2024-11-16 22:04:36,599 - root - INFO - ADC tile 0 ADC block 1 is NOT enabled!\n",
      "2024-11-16 22:04:36,602 - root - INFO - ADC tile 0 ADC block 2 is NOT enabled!\n",
      "2024-11-16 22:04:36,605 - root - INFO - ADC tile 0 ADC block 3 is NOT enabled!\n",
      "2024-11-16 22:04:36,648 - root - INFO - ADC tile 1 ADC block 0 is enabled!\n",
      "2024-11-16 22:04:36,651 - root - INFO - ADC tile 1 ADC block 1 is NOT enabled!\n",
      "2024-11-16 22:04:36,654 - root - INFO - ADC tile 1 ADC block 2 is NOT enabled!\n",
      "2024-11-16 22:04:36,657 - root - INFO - ADC tile 1 ADC block 3 is NOT enabled!\n",
      "2024-11-16 22:04:36,694 - root - INFO - ADC tile 2 ADC block 0 is enabled!\n",
      "2024-11-16 22:04:36,697 - root - INFO - ADC tile 2 ADC block 1 is NOT enabled!\n",
      "2024-11-16 22:04:36,700 - root - INFO - ADC tile 2 ADC block 2 is NOT enabled!\n",
      "2024-11-16 22:04:36,703 - root - INFO - ADC tile 2 ADC block 3 is NOT enabled!\n",
      "2024-11-16 22:04:36,706 - root - INFO - ADC tile 3 ADC block 0 is NOT enabled!\n",
      "2024-11-16 22:04:36,709 - root - INFO - ADC tile 3 ADC block 1 is NOT enabled!\n",
      "2024-11-16 22:04:36,712 - root - INFO - ADC tile 3 ADC block 2 is NOT enabled!\n",
      "2024-11-16 22:04:36,715 - root - INFO - ADC tile 3 ADC block 3 is NOT enabled!\n"
     ]
    },
    {
     "name": "stdout",
     "output_type": "stream",
     "text": [
      "qam_order 16QAM, nco 625.0, atten 30.0, inv_sinc 1\n"
     ]
    },
    {
     "name": "stderr",
     "output_type": "stream",
     "text": [
      "2024-11-16 22:04:45,136 - root - INFO - SNR: 6.441, CFO: 30.213, EVM: 0.416, BER: 0.1218750000\n"
     ]
    },
    {
     "data": {
      "application/vnd.jupyter.widget-view+json": {
       "model_id": "e3c495a500fc411ea16ca7dc6ddf5e3f",
       "version_major": 2,
       "version_minor": 0
      },
      "text/plain": [
       "FigureWidget({\n",
       "    'data': [],\n",
       "    'layout': {'template': '...',\n",
       "               'title': {'text': 'Complex Sig…"
      ]
     },
     "metadata": {},
     "output_type": "display_data"
    },
    {
     "data": {
      "application/vnd.jupyter.widget-view+json": {
       "model_id": "3b6982a910ce49a5b4640f14d87bf3bb",
       "version_major": 2,
       "version_minor": 0
      },
      "text/plain": [
       "FigureWidget({\n",
       "    'data': [{'name': 'Magnitude', 'type': 'scattergl', 'uid': '513bde0f-337d-4ff9-af5b-1a1c36d…"
      ]
     },
     "metadata": {},
     "output_type": "display_data"
    },
    {
     "name": "stderr",
     "output_type": "stream",
     "text": [
      "2024-11-16 22:04:45,923 - root - INFO - DAC tile 0 DAC block 0 is NOT enabled!\n",
      "2024-11-16 22:04:45,928 - root - INFO - DAC tile 0 DAC block 1 is NOT enabled!\n",
      "2024-11-16 22:04:45,932 - root - INFO - DAC tile 0 DAC block 2 is NOT enabled!\n",
      "2024-11-16 22:04:45,934 - root - INFO - DAC tile 0 DAC block 3 is NOT enabled!\n",
      "2024-11-16 22:04:45,976 - root - INFO - DAC tile 1 DAC block 0 is enabled!\n",
      "2024-11-16 22:04:45,979 - root - INFO - DAC tile 1 DAC block 1 is NOT enabled!\n",
      "2024-11-16 22:04:45,981 - root - INFO - DAC tile 1 DAC block 2 is NOT enabled!\n",
      "2024-11-16 22:04:45,984 - root - INFO - DAC tile 1 DAC block 3 is NOT enabled!\n",
      "2024-11-16 22:04:46,025 - root - INFO - DAC tile 2 DAC block 0 is enabled!\n",
      "2024-11-16 22:04:46,028 - root - INFO - DAC tile 2 DAC block 1 is NOT enabled!\n",
      "2024-11-16 22:04:46,030 - root - INFO - DAC tile 2 DAC block 2 is NOT enabled!\n",
      "2024-11-16 22:04:46,033 - root - INFO - DAC tile 2 DAC block 3 is NOT enabled!\n",
      "2024-11-16 22:04:46,036 - root - INFO - DAC tile 3 DAC block 0 is NOT enabled!\n",
      "2024-11-16 22:04:46,039 - root - INFO - DAC tile 3 DAC block 1 is NOT enabled!\n",
      "2024-11-16 22:04:46,042 - root - INFO - DAC tile 3 DAC block 2 is NOT enabled!\n",
      "2024-11-16 22:04:46,045 - root - INFO - DAC tile 3 DAC block 3 is NOT enabled!\n",
      "2024-11-16 22:04:46,048 - root - INFO - ADC tile 0 ADC block 0 is NOT enabled!\n",
      "2024-11-16 22:04:46,055 - root - INFO - ADC tile 0 ADC block 1 is NOT enabled!\n",
      "2024-11-16 22:04:46,058 - root - INFO - ADC tile 0 ADC block 2 is NOT enabled!\n",
      "2024-11-16 22:04:46,062 - root - INFO - ADC tile 0 ADC block 3 is NOT enabled!\n",
      "2024-11-16 22:04:46,100 - root - INFO - ADC tile 1 ADC block 0 is enabled!\n",
      "2024-11-16 22:04:46,103 - root - INFO - ADC tile 1 ADC block 1 is NOT enabled!\n",
      "2024-11-16 22:04:46,106 - root - INFO - ADC tile 1 ADC block 2 is NOT enabled!\n",
      "2024-11-16 22:04:46,108 - root - INFO - ADC tile 1 ADC block 3 is NOT enabled!\n",
      "2024-11-16 22:04:46,144 - root - INFO - ADC tile 2 ADC block 0 is enabled!\n",
      "2024-11-16 22:04:46,146 - root - INFO - ADC tile 2 ADC block 1 is NOT enabled!\n",
      "2024-11-16 22:04:46,149 - root - INFO - ADC tile 2 ADC block 2 is NOT enabled!\n",
      "2024-11-16 22:04:46,152 - root - INFO - ADC tile 2 ADC block 3 is NOT enabled!\n",
      "2024-11-16 22:04:46,155 - root - INFO - ADC tile 3 ADC block 0 is NOT enabled!\n",
      "2024-11-16 22:04:46,157 - root - INFO - ADC tile 3 ADC block 1 is NOT enabled!\n",
      "2024-11-16 22:04:46,160 - root - INFO - ADC tile 3 ADC block 2 is NOT enabled!\n",
      "2024-11-16 22:04:46,163 - root - INFO - ADC tile 3 ADC block 3 is NOT enabled!\n"
     ]
    },
    {
     "name": "stdout",
     "output_type": "stream",
     "text": [
      "qam_order 64QAM, nco 625.0, atten 30.0, inv_sinc 1\n"
     ]
    },
    {
     "name": "stderr",
     "output_type": "stream",
     "text": [
      "2024-11-16 22:04:55,242 - root - INFO - SNR: 3.826, CFO: -77.912, EVM: 0.958, BER: 0.2319791667\n"
     ]
    },
    {
     "data": {
      "application/vnd.jupyter.widget-view+json": {
       "model_id": "526acc74725e4a168edecc48205fdf95",
       "version_major": 2,
       "version_minor": 0
      },
      "text/plain": [
       "FigureWidget({\n",
       "    'data': [],\n",
       "    'layout': {'template': '...',\n",
       "               'title': {'text': 'Complex Sig…"
      ]
     },
     "metadata": {},
     "output_type": "display_data"
    },
    {
     "data": {
      "application/vnd.jupyter.widget-view+json": {
       "model_id": "af8e235ab781458ab3b3a3f66425b6ba",
       "version_major": 2,
       "version_minor": 0
      },
      "text/plain": [
       "FigureWidget({\n",
       "    'data': [{'name': 'Magnitude', 'type': 'scattergl', 'uid': 'e5be3800-f5c3-4947-a181-f3ee794…"
      ]
     },
     "metadata": {},
     "output_type": "display_data"
    },
    {
     "name": "stderr",
     "output_type": "stream",
     "text": [
      "2024-11-16 22:04:56,086 - root - INFO - DAC tile 0 DAC block 0 is NOT enabled!\n",
      "2024-11-16 22:04:56,091 - root - INFO - DAC tile 0 DAC block 1 is NOT enabled!\n",
      "2024-11-16 22:04:56,095 - root - INFO - DAC tile 0 DAC block 2 is NOT enabled!\n",
      "2024-11-16 22:04:56,097 - root - INFO - DAC tile 0 DAC block 3 is NOT enabled!\n",
      "2024-11-16 22:04:56,139 - root - INFO - DAC tile 1 DAC block 0 is enabled!\n",
      "2024-11-16 22:04:56,143 - root - INFO - DAC tile 1 DAC block 1 is NOT enabled!\n",
      "2024-11-16 22:04:56,145 - root - INFO - DAC tile 1 DAC block 2 is NOT enabled!\n",
      "2024-11-16 22:04:56,148 - root - INFO - DAC tile 1 DAC block 3 is NOT enabled!\n",
      "2024-11-16 22:04:56,189 - root - INFO - DAC tile 2 DAC block 0 is enabled!\n",
      "2024-11-16 22:04:56,192 - root - INFO - DAC tile 2 DAC block 1 is NOT enabled!\n",
      "2024-11-16 22:04:56,195 - root - INFO - DAC tile 2 DAC block 2 is NOT enabled!\n",
      "2024-11-16 22:04:56,198 - root - INFO - DAC tile 2 DAC block 3 is NOT enabled!\n",
      "2024-11-16 22:04:56,201 - root - INFO - DAC tile 3 DAC block 0 is NOT enabled!\n",
      "2024-11-16 22:04:56,204 - root - INFO - DAC tile 3 DAC block 1 is NOT enabled!\n",
      "2024-11-16 22:04:56,207 - root - INFO - DAC tile 3 DAC block 2 is NOT enabled!\n",
      "2024-11-16 22:04:56,210 - root - INFO - DAC tile 3 DAC block 3 is NOT enabled!\n",
      "2024-11-16 22:04:56,213 - root - INFO - ADC tile 0 ADC block 0 is NOT enabled!\n",
      "2024-11-16 22:04:56,216 - root - INFO - ADC tile 0 ADC block 1 is NOT enabled!\n",
      "2024-11-16 22:04:56,219 - root - INFO - ADC tile 0 ADC block 2 is NOT enabled!\n",
      "2024-11-16 22:04:56,222 - root - INFO - ADC tile 0 ADC block 3 is NOT enabled!\n",
      "2024-11-16 22:04:56,265 - root - INFO - ADC tile 1 ADC block 0 is enabled!\n",
      "2024-11-16 22:04:56,268 - root - INFO - ADC tile 1 ADC block 1 is NOT enabled!\n",
      "2024-11-16 22:04:56,271 - root - INFO - ADC tile 1 ADC block 2 is NOT enabled!\n",
      "2024-11-16 22:04:56,274 - root - INFO - ADC tile 1 ADC block 3 is NOT enabled!\n",
      "2024-11-16 22:04:56,308 - root - INFO - ADC tile 2 ADC block 0 is enabled!\n",
      "2024-11-16 22:04:56,311 - root - INFO - ADC tile 2 ADC block 1 is NOT enabled!\n",
      "2024-11-16 22:04:56,314 - root - INFO - ADC tile 2 ADC block 2 is NOT enabled!\n",
      "2024-11-16 22:04:56,316 - root - INFO - ADC tile 2 ADC block 3 is NOT enabled!\n",
      "2024-11-16 22:04:56,319 - root - INFO - ADC tile 3 ADC block 0 is NOT enabled!\n",
      "2024-11-16 22:04:56,323 - root - INFO - ADC tile 3 ADC block 1 is NOT enabled!\n",
      "2024-11-16 22:04:56,326 - root - INFO - ADC tile 3 ADC block 2 is NOT enabled!\n",
      "2024-11-16 22:04:56,329 - root - INFO - ADC tile 3 ADC block 3 is NOT enabled!\n"
     ]
    },
    {
     "name": "stdout",
     "output_type": "stream",
     "text": [
      "qam_order 256QAM, nco 625.0, atten 30.0, inv_sinc 1\n"
     ]
    },
    {
     "name": "stderr",
     "output_type": "stream",
     "text": [
      "2024-11-16 22:05:05,228 - root - INFO - SNR: 5.324, CFO: -203.707, EVM: 0.334, BER: 0.2797395833\n"
     ]
    },
    {
     "data": {
      "application/vnd.jupyter.widget-view+json": {
       "model_id": "e2cf1ed514aa42f7a61438f6f68984c2",
       "version_major": 2,
       "version_minor": 0
      },
      "text/plain": [
       "FigureWidget({\n",
       "    'data': [],\n",
       "    'layout': {'template': '...',\n",
       "               'title': {'text': 'Complex Sig…"
      ]
     },
     "metadata": {},
     "output_type": "display_data"
    },
    {
     "data": {
      "application/vnd.jupyter.widget-view+json": {
       "model_id": "f4ed9ac629a040afbf5c5fbaedc2fc30",
       "version_major": 2,
       "version_minor": 0
      },
      "text/plain": [
       "FigureWidget({\n",
       "    'data': [{'name': 'Magnitude', 'type': 'scattergl', 'uid': '1c833785-6cf1-4c8c-b372-01b1660…"
      ]
     },
     "metadata": {},
     "output_type": "display_data"
    },
    {
     "name": "stderr",
     "output_type": "stream",
     "text": [
      "2024-11-16 22:05:06,170 - root - INFO - DAC tile 0 DAC block 0 is NOT enabled!\n",
      "2024-11-16 22:05:06,174 - root - INFO - DAC tile 0 DAC block 1 is NOT enabled!\n",
      "2024-11-16 22:05:06,177 - root - INFO - DAC tile 0 DAC block 2 is NOT enabled!\n",
      "2024-11-16 22:05:06,180 - root - INFO - DAC tile 0 DAC block 3 is NOT enabled!\n",
      "2024-11-16 22:05:06,222 - root - INFO - DAC tile 1 DAC block 0 is enabled!\n",
      "2024-11-16 22:05:06,225 - root - INFO - DAC tile 1 DAC block 1 is NOT enabled!\n",
      "2024-11-16 22:05:06,228 - root - INFO - DAC tile 1 DAC block 2 is NOT enabled!\n",
      "2024-11-16 22:05:06,231 - root - INFO - DAC tile 1 DAC block 3 is NOT enabled!\n",
      "2024-11-16 22:05:06,271 - root - INFO - DAC tile 2 DAC block 0 is enabled!\n",
      "2024-11-16 22:05:06,274 - root - INFO - DAC tile 2 DAC block 1 is NOT enabled!\n",
      "2024-11-16 22:05:06,276 - root - INFO - DAC tile 2 DAC block 2 is NOT enabled!\n",
      "2024-11-16 22:05:06,280 - root - INFO - DAC tile 2 DAC block 3 is NOT enabled!\n",
      "2024-11-16 22:05:06,283 - root - INFO - DAC tile 3 DAC block 0 is NOT enabled!\n",
      "2024-11-16 22:05:06,285 - root - INFO - DAC tile 3 DAC block 1 is NOT enabled!\n",
      "2024-11-16 22:05:06,288 - root - INFO - DAC tile 3 DAC block 2 is NOT enabled!\n",
      "2024-11-16 22:05:06,291 - root - INFO - DAC tile 3 DAC block 3 is NOT enabled!\n",
      "2024-11-16 22:05:06,294 - root - INFO - ADC tile 0 ADC block 0 is NOT enabled!\n",
      "2024-11-16 22:05:06,297 - root - INFO - ADC tile 0 ADC block 1 is NOT enabled!\n",
      "2024-11-16 22:05:06,305 - root - INFO - ADC tile 0 ADC block 2 is NOT enabled!\n",
      "2024-11-16 22:05:06,308 - root - INFO - ADC tile 0 ADC block 3 is NOT enabled!\n",
      "2024-11-16 22:05:06,346 - root - INFO - ADC tile 1 ADC block 0 is enabled!\n",
      "2024-11-16 22:05:06,349 - root - INFO - ADC tile 1 ADC block 1 is NOT enabled!\n",
      "2024-11-16 22:05:06,352 - root - INFO - ADC tile 1 ADC block 2 is NOT enabled!\n",
      "2024-11-16 22:05:06,355 - root - INFO - ADC tile 1 ADC block 3 is NOT enabled!\n",
      "2024-11-16 22:05:06,390 - root - INFO - ADC tile 2 ADC block 0 is enabled!\n",
      "2024-11-16 22:05:06,394 - root - INFO - ADC tile 2 ADC block 1 is NOT enabled!\n",
      "2024-11-16 22:05:06,396 - root - INFO - ADC tile 2 ADC block 2 is NOT enabled!\n",
      "2024-11-16 22:05:06,399 - root - INFO - ADC tile 2 ADC block 3 is NOT enabled!\n",
      "2024-11-16 22:05:06,402 - root - INFO - ADC tile 3 ADC block 0 is NOT enabled!\n",
      "2024-11-16 22:05:06,405 - root - INFO - ADC tile 3 ADC block 1 is NOT enabled!\n",
      "2024-11-16 22:05:06,408 - root - INFO - ADC tile 3 ADC block 2 is NOT enabled!\n",
      "2024-11-16 22:05:06,411 - root - INFO - ADC tile 3 ADC block 3 is NOT enabled!\n"
     ]
    },
    {
     "name": "stdout",
     "output_type": "stream",
     "text": [
      "qam_order 1024QAM, nco 625.0, atten 30.0, inv_sinc 1\n"
     ]
    },
    {
     "name": "stderr",
     "output_type": "stream",
     "text": [
      "2024-11-16 22:05:16,092 - root - INFO - SNR: 3.045, CFO: -162.007, EVM: 2.063, BER: 0.3507708333\n"
     ]
    }
   ],
   "source": [
    "import numpy as np\n",
    "\n",
    "for atten in np.arange(0.0, 33.0, 3.0):\n",
    "\n",
    "    for qam_order in [\"16QAM\", \"64QAM\", \"256QAM\", \"1024QAM\"]:\n",
    "\n",
    "        inv_sinc = 1\n",
    "        # Update config\n",
    "        true_samp_rate = ZCU216_CONFIG['DACSampleRate'] / \\\n",
    "            ZCU216_CONFIG['DACInterpolationRate'] * 1e6\n",
    "        ZCU216_CONFIG['QAM'] = qam_order\n",
    "        ZCU216_CONFIG['OFDM_SCHEME'] = OFDM(\n",
    "            sym_num=100, fft_size=64, sub_num=48, modu=qam_order, cp_rate=0.25)\n",
    "        ZCU216_CONFIG['DETECTION_SCHEME'] = Detection(\n",
    "            sample_rate=true_samp_rate)\n",
    "        ZCU216_CONFIG['InvSincFIR'] = inv_sinc\n",
    "        ZCU216_CONFIG['OFDM_ATTEN_DB'] = atten\n",
    "        nco = ZCU216_CONFIG['DACNCO']\n",
    "\n",
    "        ZCU216_CONFIG['CONFIG_NAME'] = \"TxRx_1250M_BW\" + \\\n",
    "            \"_\" + qam_order + \"_\" + \\\n",
    "            str(nco) + \"_\" + str(atten) + \"_\" + str(inv_sinc)\n",
    "\n",
    "        rfdc_t = RfdcTask(ol)\n",
    "        led_t = BlinkLedTask(ol)\n",
    "        tx_t = SingleChTxTask(ol)\n",
    "        rx_t = SingleChRxTask(ol)\n",
    "\n",
    "        for task in [rfdc_t]:\n",
    "            task.start()\n",
    "            task.join()\n",
    "\n",
    "        parallel_task = [led_t, tx_t, rx_t]\n",
    "        for task in parallel_task:\n",
    "            task.start()\n",
    "\n",
    "        print(\n",
    "            f\"qam_order {qam_order}, nco {nco}, atten {atten}, inv_sinc {inv_sinc}\")\n",
    "\n",
    "        time.sleep(3)\n",
    "\n",
    "        for task in parallel_task:\n",
    "            task.stop()"
   ]
  }
 ],
 "metadata": {
  "kernelspec": {
   "display_name": "Python 3",
   "language": "python",
   "name": "python3"
  },
  "language_info": {
   "codemirror_mode": {
    "name": "ipython",
    "version": 3
   },
   "file_extension": ".py",
   "mimetype": "text/x-python",
   "name": "python",
   "nbconvert_exporter": "python",
   "pygments_lexer": "ipython3",
   "version": "3.8.2"
  }
 },
 "nbformat": 4,
 "nbformat_minor": 5
}
